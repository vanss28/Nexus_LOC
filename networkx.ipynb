{
 "cells": [
  {
   "cell_type": "code",
   "execution_count": 107,
   "id": "9ad25e05",
   "metadata": {},
   "outputs": [],
   "source": [
    "import pandas as pd\n",
    "import numpy as np \n",
    "import matplotlib.pyplot as plt"
   ]
  },
  {
   "cell_type": "code",
   "execution_count": 108,
   "id": "07627b78",
   "metadata": {},
   "outputs": [
    {
     "data": {
      "application/vnd.plotly.v1+json": {
       "config": {
        "plotlyServerURL": "https://plot.ly"
       },
       "data": [
        {
         "marker": {
          "size": 50
         },
         "mode": "markers+text",
         "text": [
          "Tech Sector Surges on AI News",
          "Technology Services ",
          "Finance",
          "Healthcare"
         ],
         "textposition": "bottom center",
         "type": "scatter",
         "x": [
          -0.016735766629398283,
          0.2973213787333258,
          0.7194143878960721,
          -1
         ],
         "y": [
          -0.049639065223632206,
          0.6366085947079897,
          -0.7753701591433365,
          0.18840062965897894
         ]
        },
        {
         "hoverinfo": "none",
         "line": {
          "color": "black",
          "width": 2
         },
         "mode": "lines",
         "type": "scatter",
         "x": [
          -0.016735766629398283,
          0.2973213787333258
         ],
         "y": [
          -0.049639065223632206,
          0.6366085947079897
         ]
        },
        {
         "hoverinfo": "none",
         "line": {
          "color": "black",
          "width": 2
         },
         "mode": "lines",
         "type": "scatter",
         "x": [
          -0.016735766629398283,
          0.7194143878960721
         ],
         "y": [
          -0.049639065223632206,
          -0.7753701591433365
         ]
        },
        {
         "hoverinfo": "none",
         "line": {
          "color": "black",
          "width": 2
         },
         "mode": "lines",
         "type": "scatter",
         "x": [
          -0.016735766629398283,
          -1
         ],
         "y": [
          -0.049639065223632206,
          0.18840062965897894
         ]
        }
       ],
       "layout": {
        "template": {
         "data": {
          "bar": [
           {
            "error_x": {
             "color": "#2a3f5f"
            },
            "error_y": {
             "color": "#2a3f5f"
            },
            "marker": {
             "line": {
              "color": "#E5ECF6",
              "width": 0.5
             },
             "pattern": {
              "fillmode": "overlay",
              "size": 10,
              "solidity": 0.2
             }
            },
            "type": "bar"
           }
          ],
          "barpolar": [
           {
            "marker": {
             "line": {
              "color": "#E5ECF6",
              "width": 0.5
             },
             "pattern": {
              "fillmode": "overlay",
              "size": 10,
              "solidity": 0.2
             }
            },
            "type": "barpolar"
           }
          ],
          "carpet": [
           {
            "aaxis": {
             "endlinecolor": "#2a3f5f",
             "gridcolor": "white",
             "linecolor": "white",
             "minorgridcolor": "white",
             "startlinecolor": "#2a3f5f"
            },
            "baxis": {
             "endlinecolor": "#2a3f5f",
             "gridcolor": "white",
             "linecolor": "white",
             "minorgridcolor": "white",
             "startlinecolor": "#2a3f5f"
            },
            "type": "carpet"
           }
          ],
          "choropleth": [
           {
            "colorbar": {
             "outlinewidth": 0,
             "ticks": ""
            },
            "type": "choropleth"
           }
          ],
          "contour": [
           {
            "colorbar": {
             "outlinewidth": 0,
             "ticks": ""
            },
            "colorscale": [
             [
              0,
              "#0d0887"
             ],
             [
              0.1111111111111111,
              "#46039f"
             ],
             [
              0.2222222222222222,
              "#7201a8"
             ],
             [
              0.3333333333333333,
              "#9c179e"
             ],
             [
              0.4444444444444444,
              "#bd3786"
             ],
             [
              0.5555555555555556,
              "#d8576b"
             ],
             [
              0.6666666666666666,
              "#ed7953"
             ],
             [
              0.7777777777777778,
              "#fb9f3a"
             ],
             [
              0.8888888888888888,
              "#fdca26"
             ],
             [
              1,
              "#f0f921"
             ]
            ],
            "type": "contour"
           }
          ],
          "contourcarpet": [
           {
            "colorbar": {
             "outlinewidth": 0,
             "ticks": ""
            },
            "type": "contourcarpet"
           }
          ],
          "heatmap": [
           {
            "colorbar": {
             "outlinewidth": 0,
             "ticks": ""
            },
            "colorscale": [
             [
              0,
              "#0d0887"
             ],
             [
              0.1111111111111111,
              "#46039f"
             ],
             [
              0.2222222222222222,
              "#7201a8"
             ],
             [
              0.3333333333333333,
              "#9c179e"
             ],
             [
              0.4444444444444444,
              "#bd3786"
             ],
             [
              0.5555555555555556,
              "#d8576b"
             ],
             [
              0.6666666666666666,
              "#ed7953"
             ],
             [
              0.7777777777777778,
              "#fb9f3a"
             ],
             [
              0.8888888888888888,
              "#fdca26"
             ],
             [
              1,
              "#f0f921"
             ]
            ],
            "type": "heatmap"
           }
          ],
          "heatmapgl": [
           {
            "colorbar": {
             "outlinewidth": 0,
             "ticks": ""
            },
            "colorscale": [
             [
              0,
              "#0d0887"
             ],
             [
              0.1111111111111111,
              "#46039f"
             ],
             [
              0.2222222222222222,
              "#7201a8"
             ],
             [
              0.3333333333333333,
              "#9c179e"
             ],
             [
              0.4444444444444444,
              "#bd3786"
             ],
             [
              0.5555555555555556,
              "#d8576b"
             ],
             [
              0.6666666666666666,
              "#ed7953"
             ],
             [
              0.7777777777777778,
              "#fb9f3a"
             ],
             [
              0.8888888888888888,
              "#fdca26"
             ],
             [
              1,
              "#f0f921"
             ]
            ],
            "type": "heatmapgl"
           }
          ],
          "histogram": [
           {
            "marker": {
             "pattern": {
              "fillmode": "overlay",
              "size": 10,
              "solidity": 0.2
             }
            },
            "type": "histogram"
           }
          ],
          "histogram2d": [
           {
            "colorbar": {
             "outlinewidth": 0,
             "ticks": ""
            },
            "colorscale": [
             [
              0,
              "#0d0887"
             ],
             [
              0.1111111111111111,
              "#46039f"
             ],
             [
              0.2222222222222222,
              "#7201a8"
             ],
             [
              0.3333333333333333,
              "#9c179e"
             ],
             [
              0.4444444444444444,
              "#bd3786"
             ],
             [
              0.5555555555555556,
              "#d8576b"
             ],
             [
              0.6666666666666666,
              "#ed7953"
             ],
             [
              0.7777777777777778,
              "#fb9f3a"
             ],
             [
              0.8888888888888888,
              "#fdca26"
             ],
             [
              1,
              "#f0f921"
             ]
            ],
            "type": "histogram2d"
           }
          ],
          "histogram2dcontour": [
           {
            "colorbar": {
             "outlinewidth": 0,
             "ticks": ""
            },
            "colorscale": [
             [
              0,
              "#0d0887"
             ],
             [
              0.1111111111111111,
              "#46039f"
             ],
             [
              0.2222222222222222,
              "#7201a8"
             ],
             [
              0.3333333333333333,
              "#9c179e"
             ],
             [
              0.4444444444444444,
              "#bd3786"
             ],
             [
              0.5555555555555556,
              "#d8576b"
             ],
             [
              0.6666666666666666,
              "#ed7953"
             ],
             [
              0.7777777777777778,
              "#fb9f3a"
             ],
             [
              0.8888888888888888,
              "#fdca26"
             ],
             [
              1,
              "#f0f921"
             ]
            ],
            "type": "histogram2dcontour"
           }
          ],
          "mesh3d": [
           {
            "colorbar": {
             "outlinewidth": 0,
             "ticks": ""
            },
            "type": "mesh3d"
           }
          ],
          "parcoords": [
           {
            "line": {
             "colorbar": {
              "outlinewidth": 0,
              "ticks": ""
             }
            },
            "type": "parcoords"
           }
          ],
          "pie": [
           {
            "automargin": true,
            "type": "pie"
           }
          ],
          "scatter": [
           {
            "fillpattern": {
             "fillmode": "overlay",
             "size": 10,
             "solidity": 0.2
            },
            "type": "scatter"
           }
          ],
          "scatter3d": [
           {
            "line": {
             "colorbar": {
              "outlinewidth": 0,
              "ticks": ""
             }
            },
            "marker": {
             "colorbar": {
              "outlinewidth": 0,
              "ticks": ""
             }
            },
            "type": "scatter3d"
           }
          ],
          "scattercarpet": [
           {
            "marker": {
             "colorbar": {
              "outlinewidth": 0,
              "ticks": ""
             }
            },
            "type": "scattercarpet"
           }
          ],
          "scattergeo": [
           {
            "marker": {
             "colorbar": {
              "outlinewidth": 0,
              "ticks": ""
             }
            },
            "type": "scattergeo"
           }
          ],
          "scattergl": [
           {
            "marker": {
             "colorbar": {
              "outlinewidth": 0,
              "ticks": ""
             }
            },
            "type": "scattergl"
           }
          ],
          "scattermapbox": [
           {
            "marker": {
             "colorbar": {
              "outlinewidth": 0,
              "ticks": ""
             }
            },
            "type": "scattermapbox"
           }
          ],
          "scatterpolar": [
           {
            "marker": {
             "colorbar": {
              "outlinewidth": 0,
              "ticks": ""
             }
            },
            "type": "scatterpolar"
           }
          ],
          "scatterpolargl": [
           {
            "marker": {
             "colorbar": {
              "outlinewidth": 0,
              "ticks": ""
             }
            },
            "type": "scatterpolargl"
           }
          ],
          "scatterternary": [
           {
            "marker": {
             "colorbar": {
              "outlinewidth": 0,
              "ticks": ""
             }
            },
            "type": "scatterternary"
           }
          ],
          "surface": [
           {
            "colorbar": {
             "outlinewidth": 0,
             "ticks": ""
            },
            "colorscale": [
             [
              0,
              "#0d0887"
             ],
             [
              0.1111111111111111,
              "#46039f"
             ],
             [
              0.2222222222222222,
              "#7201a8"
             ],
             [
              0.3333333333333333,
              "#9c179e"
             ],
             [
              0.4444444444444444,
              "#bd3786"
             ],
             [
              0.5555555555555556,
              "#d8576b"
             ],
             [
              0.6666666666666666,
              "#ed7953"
             ],
             [
              0.7777777777777778,
              "#fb9f3a"
             ],
             [
              0.8888888888888888,
              "#fdca26"
             ],
             [
              1,
              "#f0f921"
             ]
            ],
            "type": "surface"
           }
          ],
          "table": [
           {
            "cells": {
             "fill": {
              "color": "#EBF0F8"
             },
             "line": {
              "color": "white"
             }
            },
            "header": {
             "fill": {
              "color": "#C8D4E3"
             },
             "line": {
              "color": "white"
             }
            },
            "type": "table"
           }
          ]
         },
         "layout": {
          "annotationdefaults": {
           "arrowcolor": "#2a3f5f",
           "arrowhead": 0,
           "arrowwidth": 1
          },
          "autotypenumbers": "strict",
          "coloraxis": {
           "colorbar": {
            "outlinewidth": 0,
            "ticks": ""
           }
          },
          "colorscale": {
           "diverging": [
            [
             0,
             "#8e0152"
            ],
            [
             0.1,
             "#c51b7d"
            ],
            [
             0.2,
             "#de77ae"
            ],
            [
             0.3,
             "#f1b6da"
            ],
            [
             0.4,
             "#fde0ef"
            ],
            [
             0.5,
             "#f7f7f7"
            ],
            [
             0.6,
             "#e6f5d0"
            ],
            [
             0.7,
             "#b8e186"
            ],
            [
             0.8,
             "#7fbc41"
            ],
            [
             0.9,
             "#4d9221"
            ],
            [
             1,
             "#276419"
            ]
           ],
           "sequential": [
            [
             0,
             "#0d0887"
            ],
            [
             0.1111111111111111,
             "#46039f"
            ],
            [
             0.2222222222222222,
             "#7201a8"
            ],
            [
             0.3333333333333333,
             "#9c179e"
            ],
            [
             0.4444444444444444,
             "#bd3786"
            ],
            [
             0.5555555555555556,
             "#d8576b"
            ],
            [
             0.6666666666666666,
             "#ed7953"
            ],
            [
             0.7777777777777778,
             "#fb9f3a"
            ],
            [
             0.8888888888888888,
             "#fdca26"
            ],
            [
             1,
             "#f0f921"
            ]
           ],
           "sequentialminus": [
            [
             0,
             "#0d0887"
            ],
            [
             0.1111111111111111,
             "#46039f"
            ],
            [
             0.2222222222222222,
             "#7201a8"
            ],
            [
             0.3333333333333333,
             "#9c179e"
            ],
            [
             0.4444444444444444,
             "#bd3786"
            ],
            [
             0.5555555555555556,
             "#d8576b"
            ],
            [
             0.6666666666666666,
             "#ed7953"
            ],
            [
             0.7777777777777778,
             "#fb9f3a"
            ],
            [
             0.8888888888888888,
             "#fdca26"
            ],
            [
             1,
             "#f0f921"
            ]
           ]
          },
          "colorway": [
           "#636efa",
           "#EF553B",
           "#00cc96",
           "#ab63fa",
           "#FFA15A",
           "#19d3f3",
           "#FF6692",
           "#B6E880",
           "#FF97FF",
           "#FECB52"
          ],
          "font": {
           "color": "#2a3f5f"
          },
          "geo": {
           "bgcolor": "white",
           "lakecolor": "white",
           "landcolor": "#E5ECF6",
           "showlakes": true,
           "showland": true,
           "subunitcolor": "white"
          },
          "hoverlabel": {
           "align": "left"
          },
          "hovermode": "closest",
          "mapbox": {
           "style": "light"
          },
          "paper_bgcolor": "white",
          "plot_bgcolor": "#E5ECF6",
          "polar": {
           "angularaxis": {
            "gridcolor": "white",
            "linecolor": "white",
            "ticks": ""
           },
           "bgcolor": "#E5ECF6",
           "radialaxis": {
            "gridcolor": "white",
            "linecolor": "white",
            "ticks": ""
           }
          },
          "scene": {
           "xaxis": {
            "backgroundcolor": "#E5ECF6",
            "gridcolor": "white",
            "gridwidth": 2,
            "linecolor": "white",
            "showbackground": true,
            "ticks": "",
            "zerolinecolor": "white"
           },
           "yaxis": {
            "backgroundcolor": "#E5ECF6",
            "gridcolor": "white",
            "gridwidth": 2,
            "linecolor": "white",
            "showbackground": true,
            "ticks": "",
            "zerolinecolor": "white"
           },
           "zaxis": {
            "backgroundcolor": "#E5ECF6",
            "gridcolor": "white",
            "gridwidth": 2,
            "linecolor": "white",
            "showbackground": true,
            "ticks": "",
            "zerolinecolor": "white"
           }
          },
          "shapedefaults": {
           "line": {
            "color": "#2a3f5f"
           }
          },
          "ternary": {
           "aaxis": {
            "gridcolor": "white",
            "linecolor": "white",
            "ticks": ""
           },
           "baxis": {
            "gridcolor": "white",
            "linecolor": "white",
            "ticks": ""
           },
           "bgcolor": "#E5ECF6",
           "caxis": {
            "gridcolor": "white",
            "linecolor": "white",
            "ticks": ""
           }
          },
          "title": {
           "x": 0.05
          },
          "xaxis": {
           "automargin": true,
           "gridcolor": "white",
           "linecolor": "white",
           "ticks": "",
           "title": {
            "standoff": 15
           },
           "zerolinecolor": "white",
           "zerolinewidth": 2
          },
          "yaxis": {
           "automargin": true,
           "gridcolor": "white",
           "linecolor": "white",
           "ticks": "",
           "title": {
            "standoff": 15
           },
           "zerolinecolor": "white",
           "zerolinewidth": 2
          }
         }
        }
       }
      },
      "text/html": [
       "<div>                            <div id=\"98467ea5-4ecf-4f20-8dfa-c4927edf537d\" class=\"plotly-graph-div\" style=\"height:525px; width:100%;\"></div>            <script type=\"text/javascript\">                require([\"plotly\"], function(Plotly) {                    window.PLOTLYENV=window.PLOTLYENV || {};                                    if (document.getElementById(\"98467ea5-4ecf-4f20-8dfa-c4927edf537d\")) {                    Plotly.newPlot(                        \"98467ea5-4ecf-4f20-8dfa-c4927edf537d\",                        [{\"marker\":{\"size\":50},\"mode\":\"markers+text\",\"text\":[\"Tech Sector Surges on AI News\",\"Technology Services \",\"Finance\",\"Healthcare\"],\"textposition\":\"bottom center\",\"x\":[-0.016735766629398283,0.2973213787333258,0.7194143878960721,-1.0],\"y\":[-0.049639065223632206,0.6366085947079897,-0.7753701591433365,0.18840062965897894],\"type\":\"scatter\"},{\"hoverinfo\":\"none\",\"line\":{\"color\":\"black\",\"width\":2},\"mode\":\"lines\",\"x\":[-0.016735766629398283,0.2973213787333258],\"y\":[-0.049639065223632206,0.6366085947079897],\"type\":\"scatter\"},{\"hoverinfo\":\"none\",\"line\":{\"color\":\"black\",\"width\":2},\"mode\":\"lines\",\"x\":[-0.016735766629398283,0.7194143878960721],\"y\":[-0.049639065223632206,-0.7753701591433365],\"type\":\"scatter\"},{\"hoverinfo\":\"none\",\"line\":{\"color\":\"black\",\"width\":2},\"mode\":\"lines\",\"x\":[-0.016735766629398283,-1.0],\"y\":[-0.049639065223632206,0.18840062965897894],\"type\":\"scatter\"}],                        {\"template\":{\"data\":{\"histogram2dcontour\":[{\"type\":\"histogram2dcontour\",\"colorbar\":{\"outlinewidth\":0,\"ticks\":\"\"},\"colorscale\":[[0.0,\"#0d0887\"],[0.1111111111111111,\"#46039f\"],[0.2222222222222222,\"#7201a8\"],[0.3333333333333333,\"#9c179e\"],[0.4444444444444444,\"#bd3786\"],[0.5555555555555556,\"#d8576b\"],[0.6666666666666666,\"#ed7953\"],[0.7777777777777778,\"#fb9f3a\"],[0.8888888888888888,\"#fdca26\"],[1.0,\"#f0f921\"]]}],\"choropleth\":[{\"type\":\"choropleth\",\"colorbar\":{\"outlinewidth\":0,\"ticks\":\"\"}}],\"histogram2d\":[{\"type\":\"histogram2d\",\"colorbar\":{\"outlinewidth\":0,\"ticks\":\"\"},\"colorscale\":[[0.0,\"#0d0887\"],[0.1111111111111111,\"#46039f\"],[0.2222222222222222,\"#7201a8\"],[0.3333333333333333,\"#9c179e\"],[0.4444444444444444,\"#bd3786\"],[0.5555555555555556,\"#d8576b\"],[0.6666666666666666,\"#ed7953\"],[0.7777777777777778,\"#fb9f3a\"],[0.8888888888888888,\"#fdca26\"],[1.0,\"#f0f921\"]]}],\"heatmap\":[{\"type\":\"heatmap\",\"colorbar\":{\"outlinewidth\":0,\"ticks\":\"\"},\"colorscale\":[[0.0,\"#0d0887\"],[0.1111111111111111,\"#46039f\"],[0.2222222222222222,\"#7201a8\"],[0.3333333333333333,\"#9c179e\"],[0.4444444444444444,\"#bd3786\"],[0.5555555555555556,\"#d8576b\"],[0.6666666666666666,\"#ed7953\"],[0.7777777777777778,\"#fb9f3a\"],[0.8888888888888888,\"#fdca26\"],[1.0,\"#f0f921\"]]}],\"heatmapgl\":[{\"type\":\"heatmapgl\",\"colorbar\":{\"outlinewidth\":0,\"ticks\":\"\"},\"colorscale\":[[0.0,\"#0d0887\"],[0.1111111111111111,\"#46039f\"],[0.2222222222222222,\"#7201a8\"],[0.3333333333333333,\"#9c179e\"],[0.4444444444444444,\"#bd3786\"],[0.5555555555555556,\"#d8576b\"],[0.6666666666666666,\"#ed7953\"],[0.7777777777777778,\"#fb9f3a\"],[0.8888888888888888,\"#fdca26\"],[1.0,\"#f0f921\"]]}],\"contourcarpet\":[{\"type\":\"contourcarpet\",\"colorbar\":{\"outlinewidth\":0,\"ticks\":\"\"}}],\"contour\":[{\"type\":\"contour\",\"colorbar\":{\"outlinewidth\":0,\"ticks\":\"\"},\"colorscale\":[[0.0,\"#0d0887\"],[0.1111111111111111,\"#46039f\"],[0.2222222222222222,\"#7201a8\"],[0.3333333333333333,\"#9c179e\"],[0.4444444444444444,\"#bd3786\"],[0.5555555555555556,\"#d8576b\"],[0.6666666666666666,\"#ed7953\"],[0.7777777777777778,\"#fb9f3a\"],[0.8888888888888888,\"#fdca26\"],[1.0,\"#f0f921\"]]}],\"surface\":[{\"type\":\"surface\",\"colorbar\":{\"outlinewidth\":0,\"ticks\":\"\"},\"colorscale\":[[0.0,\"#0d0887\"],[0.1111111111111111,\"#46039f\"],[0.2222222222222222,\"#7201a8\"],[0.3333333333333333,\"#9c179e\"],[0.4444444444444444,\"#bd3786\"],[0.5555555555555556,\"#d8576b\"],[0.6666666666666666,\"#ed7953\"],[0.7777777777777778,\"#fb9f3a\"],[0.8888888888888888,\"#fdca26\"],[1.0,\"#f0f921\"]]}],\"mesh3d\":[{\"type\":\"mesh3d\",\"colorbar\":{\"outlinewidth\":0,\"ticks\":\"\"}}],\"scatter\":[{\"fillpattern\":{\"fillmode\":\"overlay\",\"size\":10,\"solidity\":0.2},\"type\":\"scatter\"}],\"parcoords\":[{\"type\":\"parcoords\",\"line\":{\"colorbar\":{\"outlinewidth\":0,\"ticks\":\"\"}}}],\"scatterpolargl\":[{\"type\":\"scatterpolargl\",\"marker\":{\"colorbar\":{\"outlinewidth\":0,\"ticks\":\"\"}}}],\"bar\":[{\"error_x\":{\"color\":\"#2a3f5f\"},\"error_y\":{\"color\":\"#2a3f5f\"},\"marker\":{\"line\":{\"color\":\"#E5ECF6\",\"width\":0.5},\"pattern\":{\"fillmode\":\"overlay\",\"size\":10,\"solidity\":0.2}},\"type\":\"bar\"}],\"scattergeo\":[{\"type\":\"scattergeo\",\"marker\":{\"colorbar\":{\"outlinewidth\":0,\"ticks\":\"\"}}}],\"scatterpolar\":[{\"type\":\"scatterpolar\",\"marker\":{\"colorbar\":{\"outlinewidth\":0,\"ticks\":\"\"}}}],\"histogram\":[{\"marker\":{\"pattern\":{\"fillmode\":\"overlay\",\"size\":10,\"solidity\":0.2}},\"type\":\"histogram\"}],\"scattergl\":[{\"type\":\"scattergl\",\"marker\":{\"colorbar\":{\"outlinewidth\":0,\"ticks\":\"\"}}}],\"scatter3d\":[{\"type\":\"scatter3d\",\"line\":{\"colorbar\":{\"outlinewidth\":0,\"ticks\":\"\"}},\"marker\":{\"colorbar\":{\"outlinewidth\":0,\"ticks\":\"\"}}}],\"scattermapbox\":[{\"type\":\"scattermapbox\",\"marker\":{\"colorbar\":{\"outlinewidth\":0,\"ticks\":\"\"}}}],\"scatterternary\":[{\"type\":\"scatterternary\",\"marker\":{\"colorbar\":{\"outlinewidth\":0,\"ticks\":\"\"}}}],\"scattercarpet\":[{\"type\":\"scattercarpet\",\"marker\":{\"colorbar\":{\"outlinewidth\":0,\"ticks\":\"\"}}}],\"carpet\":[{\"aaxis\":{\"endlinecolor\":\"#2a3f5f\",\"gridcolor\":\"white\",\"linecolor\":\"white\",\"minorgridcolor\":\"white\",\"startlinecolor\":\"#2a3f5f\"},\"baxis\":{\"endlinecolor\":\"#2a3f5f\",\"gridcolor\":\"white\",\"linecolor\":\"white\",\"minorgridcolor\":\"white\",\"startlinecolor\":\"#2a3f5f\"},\"type\":\"carpet\"}],\"table\":[{\"cells\":{\"fill\":{\"color\":\"#EBF0F8\"},\"line\":{\"color\":\"white\"}},\"header\":{\"fill\":{\"color\":\"#C8D4E3\"},\"line\":{\"color\":\"white\"}},\"type\":\"table\"}],\"barpolar\":[{\"marker\":{\"line\":{\"color\":\"#E5ECF6\",\"width\":0.5},\"pattern\":{\"fillmode\":\"overlay\",\"size\":10,\"solidity\":0.2}},\"type\":\"barpolar\"}],\"pie\":[{\"automargin\":true,\"type\":\"pie\"}]},\"layout\":{\"autotypenumbers\":\"strict\",\"colorway\":[\"#636efa\",\"#EF553B\",\"#00cc96\",\"#ab63fa\",\"#FFA15A\",\"#19d3f3\",\"#FF6692\",\"#B6E880\",\"#FF97FF\",\"#FECB52\"],\"font\":{\"color\":\"#2a3f5f\"},\"hovermode\":\"closest\",\"hoverlabel\":{\"align\":\"left\"},\"paper_bgcolor\":\"white\",\"plot_bgcolor\":\"#E5ECF6\",\"polar\":{\"bgcolor\":\"#E5ECF6\",\"angularaxis\":{\"gridcolor\":\"white\",\"linecolor\":\"white\",\"ticks\":\"\"},\"radialaxis\":{\"gridcolor\":\"white\",\"linecolor\":\"white\",\"ticks\":\"\"}},\"ternary\":{\"bgcolor\":\"#E5ECF6\",\"aaxis\":{\"gridcolor\":\"white\",\"linecolor\":\"white\",\"ticks\":\"\"},\"baxis\":{\"gridcolor\":\"white\",\"linecolor\":\"white\",\"ticks\":\"\"},\"caxis\":{\"gridcolor\":\"white\",\"linecolor\":\"white\",\"ticks\":\"\"}},\"coloraxis\":{\"colorbar\":{\"outlinewidth\":0,\"ticks\":\"\"}},\"colorscale\":{\"sequential\":[[0.0,\"#0d0887\"],[0.1111111111111111,\"#46039f\"],[0.2222222222222222,\"#7201a8\"],[0.3333333333333333,\"#9c179e\"],[0.4444444444444444,\"#bd3786\"],[0.5555555555555556,\"#d8576b\"],[0.6666666666666666,\"#ed7953\"],[0.7777777777777778,\"#fb9f3a\"],[0.8888888888888888,\"#fdca26\"],[1.0,\"#f0f921\"]],\"sequentialminus\":[[0.0,\"#0d0887\"],[0.1111111111111111,\"#46039f\"],[0.2222222222222222,\"#7201a8\"],[0.3333333333333333,\"#9c179e\"],[0.4444444444444444,\"#bd3786\"],[0.5555555555555556,\"#d8576b\"],[0.6666666666666666,\"#ed7953\"],[0.7777777777777778,\"#fb9f3a\"],[0.8888888888888888,\"#fdca26\"],[1.0,\"#f0f921\"]],\"diverging\":[[0,\"#8e0152\"],[0.1,\"#c51b7d\"],[0.2,\"#de77ae\"],[0.3,\"#f1b6da\"],[0.4,\"#fde0ef\"],[0.5,\"#f7f7f7\"],[0.6,\"#e6f5d0\"],[0.7,\"#b8e186\"],[0.8,\"#7fbc41\"],[0.9,\"#4d9221\"],[1,\"#276419\"]]},\"xaxis\":{\"gridcolor\":\"white\",\"linecolor\":\"white\",\"ticks\":\"\",\"title\":{\"standoff\":15},\"zerolinecolor\":\"white\",\"automargin\":true,\"zerolinewidth\":2},\"yaxis\":{\"gridcolor\":\"white\",\"linecolor\":\"white\",\"ticks\":\"\",\"title\":{\"standoff\":15},\"zerolinecolor\":\"white\",\"automargin\":true,\"zerolinewidth\":2},\"scene\":{\"xaxis\":{\"backgroundcolor\":\"#E5ECF6\",\"gridcolor\":\"white\",\"linecolor\":\"white\",\"showbackground\":true,\"ticks\":\"\",\"zerolinecolor\":\"white\",\"gridwidth\":2},\"yaxis\":{\"backgroundcolor\":\"#E5ECF6\",\"gridcolor\":\"white\",\"linecolor\":\"white\",\"showbackground\":true,\"ticks\":\"\",\"zerolinecolor\":\"white\",\"gridwidth\":2},\"zaxis\":{\"backgroundcolor\":\"#E5ECF6\",\"gridcolor\":\"white\",\"linecolor\":\"white\",\"showbackground\":true,\"ticks\":\"\",\"zerolinecolor\":\"white\",\"gridwidth\":2}},\"shapedefaults\":{\"line\":{\"color\":\"#2a3f5f\"}},\"annotationdefaults\":{\"arrowcolor\":\"#2a3f5f\",\"arrowhead\":0,\"arrowwidth\":1},\"geo\":{\"bgcolor\":\"white\",\"landcolor\":\"#E5ECF6\",\"subunitcolor\":\"white\",\"showland\":true,\"showlakes\":true,\"lakecolor\":\"white\"},\"title\":{\"x\":0.05},\"mapbox\":{\"style\":\"light\"}}}},                        {\"responsive\": true}                    ).then(function(){\n",
       "                            \n",
       "var gd = document.getElementById('98467ea5-4ecf-4f20-8dfa-c4927edf537d');\n",
       "var x = new MutationObserver(function (mutations, observer) {{\n",
       "        var display = window.getComputedStyle(gd).display;\n",
       "        if (!display || display === 'none') {{\n",
       "            console.log([gd, 'removed!']);\n",
       "            Plotly.purge(gd);\n",
       "            observer.disconnect();\n",
       "        }}\n",
       "}});\n",
       "\n",
       "// Listen for the removal of the full notebook cells\n",
       "var notebookContainer = gd.closest('#notebook-container');\n",
       "if (notebookContainer) {{\n",
       "    x.observe(notebookContainer, {childList: true});\n",
       "}}\n",
       "\n",
       "// Listen for the clearing of the current output cell\n",
       "var outputEl = gd.closest('.output');\n",
       "if (outputEl) {{\n",
       "    x.observe(outputEl, {childList: true});\n",
       "}}\n",
       "\n",
       "                        })                };                });            </script>        </div>"
      ]
     },
     "metadata": {},
     "output_type": "display_data"
    }
   ],
   "source": [
    "import networkx as nx\n",
    "import plotly.graph_objects as go\n",
    "import numpy as np\n",
    "\n",
    "# Sample Data\n",
    "news_headline = \"Tech Sector Surges on AI News\"\n",
    "sectors = [\"Technology Services \", \"Finance\", \"Healthcare\"]\n",
    "\n",
    "# Create NetworkX graph\n",
    "G = nx.DiGraph()  # Use DiGraph for directed edges\n",
    "\n",
    "# Add news headline as the central node\n",
    "G.add_node(news_headline)\n",
    "\n",
    "# Add sectors and connect to the news headline\n",
    "for sector in sectors:\n",
    "    G.add_node(sector)\n",
    "    G.add_edge(news_headline, sector)\n",
    "\n",
    "# Get positions using a layout algorithm\n",
    "pos = nx.spring_layout(G)  # You can explore other layouts too\n",
    "\n",
    "# Convert NetworkX positions for Plotly \n",
    "plotly_pos = {node: np.array(pos[node]) for node in G.nodes()}\n",
    "\n",
    "# Create Plotly figure\n",
    "fig = go.Figure()\n",
    "\n",
    "# Add nodes\n",
    "fig.add_trace(go.Scatter(x=[pos[0] for pos in plotly_pos.values()], \n",
    "                         y=[pos[1] for pos in plotly_pos.values()],\n",
    "                         mode='markers+text',\n",
    "                         text=list(G.nodes()),\n",
    "                         textposition='bottom center',\n",
    "                         marker=dict(size=50,\n",
    "                                    )))\n",
    "\n",
    "# Add edges\n",
    "for edge in G.edges:\n",
    "    x0, y0 = plotly_pos[edge[0]]\n",
    "    x1, y1 = plotly_pos[edge[1]]\n",
    "    fig.add_trace(go.Scatter(x=[x0, x1], y=[y0, y1],\n",
    "                             mode='lines',\n",
    "                             line=dict(color='black', width=2),\n",
    "                             hoverinfo='none')) \n",
    "\n",
    "\n",
    "\n",
    "\n",
    "fig.show()\n"
   ]
  },
  {
   "cell_type": "code",
   "execution_count": 188,
   "id": "900f737c",
   "metadata": {},
   "outputs": [
    {
     "data": {
      "text/html": [
       "<div>\n",
       "<style scoped>\n",
       "    .dataframe tbody tr th:only-of-type {\n",
       "        vertical-align: middle;\n",
       "    }\n",
       "\n",
       "    .dataframe tbody tr th {\n",
       "        vertical-align: top;\n",
       "    }\n",
       "\n",
       "    .dataframe thead th {\n",
       "        text-align: right;\n",
       "    }\n",
       "</style>\n",
       "<table border=\"1\" class=\"dataframe\">\n",
       "  <thead>\n",
       "    <tr style=\"text-align: right;\">\n",
       "      <th></th>\n",
       "      <th>Ticker</th>\n",
       "      <th>Name</th>\n",
       "      <th>Sector</th>\n",
       "    </tr>\n",
       "  </thead>\n",
       "  <tbody>\n",
       "    <tr>\n",
       "      <th>0</th>\n",
       "      <td>20MICRONS</td>\n",
       "      <td>20 Microns Limited</td>\n",
       "      <td>Mining</td>\n",
       "    </tr>\n",
       "    <tr>\n",
       "      <th>1</th>\n",
       "      <td>360ONE</td>\n",
       "      <td>360 ONE WAM LIMITED</td>\n",
       "      <td>Finance</td>\n",
       "    </tr>\n",
       "    <tr>\n",
       "      <th>2</th>\n",
       "      <td>3IINFOLTD</td>\n",
       "      <td>3i Infotech Limited</td>\n",
       "      <td>COMPUTERS - SOFTWARE</td>\n",
       "    </tr>\n",
       "    <tr>\n",
       "      <th>3</th>\n",
       "      <td>3MINDIA</td>\n",
       "      <td>3M India Limited</td>\n",
       "      <td>Diversified Commercial Services</td>\n",
       "    </tr>\n",
       "    <tr>\n",
       "      <th>4</th>\n",
       "      <td>5PAISA</td>\n",
       "      <td>5Paisa Capital Limited</td>\n",
       "      <td>Financial Services</td>\n",
       "    </tr>\n",
       "  </tbody>\n",
       "</table>\n",
       "</div>"
      ],
      "text/plain": [
       "      Ticker                    Name                           Sector\n",
       "0  20MICRONS      20 Microns Limited                           Mining\n",
       "1     360ONE     360 ONE WAM LIMITED                          Finance\n",
       "2  3IINFOLTD     3i Infotech Limited             COMPUTERS - SOFTWARE\n",
       "3    3MINDIA        3M India Limited  Diversified Commercial Services\n",
       "4     5PAISA  5Paisa Capital Limited               Financial Services"
      ]
     },
     "execution_count": 188,
     "metadata": {},
     "output_type": "execute_result"
    }
   ],
   "source": [
    "data = pd.read_csv(\"Stock_Sector_Mapping.csv\")\n",
    "data.head()"
   ]
  },
  {
   "cell_type": "code",
   "execution_count": 189,
   "id": "3382ad6d",
   "metadata": {},
   "outputs": [],
   "source": [
    "finance_sector_data = data.groupby('Sector').get_group('Finance')\n",
    "\n",
    "# Display result (you can also perform other operations on the filtered data)\n",
    "fin = finance_sector_data['Name']\n",
    "\n",
    "\n",
    "\n"
   ]
  },
  {
   "cell_type": "code",
   "execution_count": 111,
   "id": "850cbf4e",
   "metadata": {},
   "outputs": [
    {
     "name": "stdout",
     "output_type": "stream",
     "text": [
      "<class 'pandas.core.series.Series'>\n"
     ]
    }
   ],
   "source": [
    "print(type(fin))\n",
    "\n",
    "\n"
   ]
  },
  {
   "cell_type": "code",
   "execution_count": 112,
   "id": "0cbaf269",
   "metadata": {},
   "outputs": [
    {
     "data": {
      "application/vnd.plotly.v1+json": {
       "config": {
        "plotlyServerURL": "https://plot.ly"
       },
       "data": [
        {
         "marker": {
          "color": "lightgreen",
          "size": 50
         },
         "mode": "markers+text",
         "text": [
          "Finance",
          "360 ONE WAM LIMITED",
          "Abans Holdings Limited",
          "Avonmore Capital & Management Services Limited",
          "Baid Finserv Limited",
          "CMS Info Systems Limited",
          "CSL Finance Limited",
          "Eldeco Housing And Industries Limited",
          "Five-Star Business Finance Limited",
          "Fusion Micro Finance Limited",
          "Indiabulls Enterprises Limited",
          "Life Insurance Corporation Of India",
          "Monarch Networth Capital Limited",
          "Mufin Green Finance Limited",
          "Prudent Corporate Advisory Services Limited",
          "Keystone Realtors Limited",
          "Suratwwala Business Group Limited",
          "Shriram Finance Limited",
          "SRG Housing Finance Limited",
          "Tamilnad Mercantile Bank Limited",
          "TruCap Finance Limited"
         ],
         "textposition": "bottom center",
         "type": "scatter",
         "x": [
          0.004449020982529302,
          0.9726145148633168,
          0.9346709293142754,
          0.7692270718178221,
          -0.928915603556355,
          -0.9953005306956734,
          -0.8088076321655552,
          -0.11535112464641559,
          1,
          0.734153816101845,
          0.6948865389712483,
          -0.22715865707852717,
          -0.5318965435070655,
          -0.9040408551649521,
          -0.714929380447581,
          -0.6709885636278026,
          -0.4131412907573023,
          0.4965457575840986,
          0.07061264314089614,
          0.22793980808875475,
          0.4054300807824426
         ],
         "y": [
          -0.004491054084787831,
          0.3023371464261875,
          -0.051542912220979044,
          0.7456558111064243,
          0.42976409053813025,
          0.07109742102000605,
          -0.6807753262977708,
          -0.9845080626690181,
          -0.3608510257108362,
          -0.6163166812306612,
          0.4781300819249009,
          0.8423250729105404,
          0.8710656324516478,
          -0.2334284885413505,
          0.6062780609035207,
          -0.5340444978896796,
          -0.8454685136503017,
          -0.9620818672782719,
          0.9472854180674114,
          -0.8857462890622949,
          0.865315983287184
         ]
        },
        {
         "hoverinfo": "none",
         "line": {
          "color": "black",
          "width": 2
         },
         "mode": "lines",
         "type": "scatter",
         "x": [
          0.004449020982529302,
          0.9726145148633168
         ],
         "y": [
          -0.004491054084787831,
          0.3023371464261875
         ]
        },
        {
         "hoverinfo": "none",
         "line": {
          "color": "black",
          "width": 2
         },
         "mode": "lines",
         "type": "scatter",
         "x": [
          0.004449020982529302,
          0.9346709293142754
         ],
         "y": [
          -0.004491054084787831,
          -0.051542912220979044
         ]
        },
        {
         "hoverinfo": "none",
         "line": {
          "color": "black",
          "width": 2
         },
         "mode": "lines",
         "type": "scatter",
         "x": [
          0.004449020982529302,
          0.7692270718178221
         ],
         "y": [
          -0.004491054084787831,
          0.7456558111064243
         ]
        },
        {
         "hoverinfo": "none",
         "line": {
          "color": "black",
          "width": 2
         },
         "mode": "lines",
         "type": "scatter",
         "x": [
          0.004449020982529302,
          -0.928915603556355
         ],
         "y": [
          -0.004491054084787831,
          0.42976409053813025
         ]
        },
        {
         "hoverinfo": "none",
         "line": {
          "color": "black",
          "width": 2
         },
         "mode": "lines",
         "type": "scatter",
         "x": [
          0.004449020982529302,
          -0.9953005306956734
         ],
         "y": [
          -0.004491054084787831,
          0.07109742102000605
         ]
        },
        {
         "hoverinfo": "none",
         "line": {
          "color": "black",
          "width": 2
         },
         "mode": "lines",
         "type": "scatter",
         "x": [
          0.004449020982529302,
          -0.8088076321655552
         ],
         "y": [
          -0.004491054084787831,
          -0.6807753262977708
         ]
        },
        {
         "hoverinfo": "none",
         "line": {
          "color": "black",
          "width": 2
         },
         "mode": "lines",
         "type": "scatter",
         "x": [
          0.004449020982529302,
          -0.11535112464641559
         ],
         "y": [
          -0.004491054084787831,
          -0.9845080626690181
         ]
        },
        {
         "hoverinfo": "none",
         "line": {
          "color": "black",
          "width": 2
         },
         "mode": "lines",
         "type": "scatter",
         "x": [
          0.004449020982529302,
          1
         ],
         "y": [
          -0.004491054084787831,
          -0.3608510257108362
         ]
        },
        {
         "hoverinfo": "none",
         "line": {
          "color": "black",
          "width": 2
         },
         "mode": "lines",
         "type": "scatter",
         "x": [
          0.004449020982529302,
          0.734153816101845
         ],
         "y": [
          -0.004491054084787831,
          -0.6163166812306612
         ]
        },
        {
         "hoverinfo": "none",
         "line": {
          "color": "black",
          "width": 2
         },
         "mode": "lines",
         "type": "scatter",
         "x": [
          0.004449020982529302,
          0.6948865389712483
         ],
         "y": [
          -0.004491054084787831,
          0.4781300819249009
         ]
        },
        {
         "hoverinfo": "none",
         "line": {
          "color": "black",
          "width": 2
         },
         "mode": "lines",
         "type": "scatter",
         "x": [
          0.004449020982529302,
          -0.22715865707852717
         ],
         "y": [
          -0.004491054084787831,
          0.8423250729105404
         ]
        },
        {
         "hoverinfo": "none",
         "line": {
          "color": "black",
          "width": 2
         },
         "mode": "lines",
         "type": "scatter",
         "x": [
          0.004449020982529302,
          -0.5318965435070655
         ],
         "y": [
          -0.004491054084787831,
          0.8710656324516478
         ]
        },
        {
         "hoverinfo": "none",
         "line": {
          "color": "black",
          "width": 2
         },
         "mode": "lines",
         "type": "scatter",
         "x": [
          0.004449020982529302,
          -0.9040408551649521
         ],
         "y": [
          -0.004491054084787831,
          -0.2334284885413505
         ]
        },
        {
         "hoverinfo": "none",
         "line": {
          "color": "black",
          "width": 2
         },
         "mode": "lines",
         "type": "scatter",
         "x": [
          0.004449020982529302,
          -0.714929380447581
         ],
         "y": [
          -0.004491054084787831,
          0.6062780609035207
         ]
        },
        {
         "hoverinfo": "none",
         "line": {
          "color": "black",
          "width": 2
         },
         "mode": "lines",
         "type": "scatter",
         "x": [
          0.004449020982529302,
          -0.6709885636278026
         ],
         "y": [
          -0.004491054084787831,
          -0.5340444978896796
         ]
        },
        {
         "hoverinfo": "none",
         "line": {
          "color": "black",
          "width": 2
         },
         "mode": "lines",
         "type": "scatter",
         "x": [
          0.004449020982529302,
          -0.4131412907573023
         ],
         "y": [
          -0.004491054084787831,
          -0.8454685136503017
         ]
        },
        {
         "hoverinfo": "none",
         "line": {
          "color": "black",
          "width": 2
         },
         "mode": "lines",
         "type": "scatter",
         "x": [
          0.004449020982529302,
          0.4965457575840986
         ],
         "y": [
          -0.004491054084787831,
          -0.9620818672782719
         ]
        },
        {
         "hoverinfo": "none",
         "line": {
          "color": "black",
          "width": 2
         },
         "mode": "lines",
         "type": "scatter",
         "x": [
          0.004449020982529302,
          0.07061264314089614
         ],
         "y": [
          -0.004491054084787831,
          0.9472854180674114
         ]
        },
        {
         "hoverinfo": "none",
         "line": {
          "color": "black",
          "width": 2
         },
         "mode": "lines",
         "type": "scatter",
         "x": [
          0.004449020982529302,
          0.22793980808875475
         ],
         "y": [
          -0.004491054084787831,
          -0.8857462890622949
         ]
        },
        {
         "hoverinfo": "none",
         "line": {
          "color": "black",
          "width": 2
         },
         "mode": "lines",
         "type": "scatter",
         "x": [
          0.004449020982529302,
          0.4054300807824426
         ],
         "y": [
          -0.004491054084787831,
          0.865315983287184
         ]
        }
       ],
       "layout": {
        "showlegend": false,
        "template": {
         "data": {
          "bar": [
           {
            "error_x": {
             "color": "#2a3f5f"
            },
            "error_y": {
             "color": "#2a3f5f"
            },
            "marker": {
             "line": {
              "color": "#E5ECF6",
              "width": 0.5
             },
             "pattern": {
              "fillmode": "overlay",
              "size": 10,
              "solidity": 0.2
             }
            },
            "type": "bar"
           }
          ],
          "barpolar": [
           {
            "marker": {
             "line": {
              "color": "#E5ECF6",
              "width": 0.5
             },
             "pattern": {
              "fillmode": "overlay",
              "size": 10,
              "solidity": 0.2
             }
            },
            "type": "barpolar"
           }
          ],
          "carpet": [
           {
            "aaxis": {
             "endlinecolor": "#2a3f5f",
             "gridcolor": "white",
             "linecolor": "white",
             "minorgridcolor": "white",
             "startlinecolor": "#2a3f5f"
            },
            "baxis": {
             "endlinecolor": "#2a3f5f",
             "gridcolor": "white",
             "linecolor": "white",
             "minorgridcolor": "white",
             "startlinecolor": "#2a3f5f"
            },
            "type": "carpet"
           }
          ],
          "choropleth": [
           {
            "colorbar": {
             "outlinewidth": 0,
             "ticks": ""
            },
            "type": "choropleth"
           }
          ],
          "contour": [
           {
            "colorbar": {
             "outlinewidth": 0,
             "ticks": ""
            },
            "colorscale": [
             [
              0,
              "#0d0887"
             ],
             [
              0.1111111111111111,
              "#46039f"
             ],
             [
              0.2222222222222222,
              "#7201a8"
             ],
             [
              0.3333333333333333,
              "#9c179e"
             ],
             [
              0.4444444444444444,
              "#bd3786"
             ],
             [
              0.5555555555555556,
              "#d8576b"
             ],
             [
              0.6666666666666666,
              "#ed7953"
             ],
             [
              0.7777777777777778,
              "#fb9f3a"
             ],
             [
              0.8888888888888888,
              "#fdca26"
             ],
             [
              1,
              "#f0f921"
             ]
            ],
            "type": "contour"
           }
          ],
          "contourcarpet": [
           {
            "colorbar": {
             "outlinewidth": 0,
             "ticks": ""
            },
            "type": "contourcarpet"
           }
          ],
          "heatmap": [
           {
            "colorbar": {
             "outlinewidth": 0,
             "ticks": ""
            },
            "colorscale": [
             [
              0,
              "#0d0887"
             ],
             [
              0.1111111111111111,
              "#46039f"
             ],
             [
              0.2222222222222222,
              "#7201a8"
             ],
             [
              0.3333333333333333,
              "#9c179e"
             ],
             [
              0.4444444444444444,
              "#bd3786"
             ],
             [
              0.5555555555555556,
              "#d8576b"
             ],
             [
              0.6666666666666666,
              "#ed7953"
             ],
             [
              0.7777777777777778,
              "#fb9f3a"
             ],
             [
              0.8888888888888888,
              "#fdca26"
             ],
             [
              1,
              "#f0f921"
             ]
            ],
            "type": "heatmap"
           }
          ],
          "heatmapgl": [
           {
            "colorbar": {
             "outlinewidth": 0,
             "ticks": ""
            },
            "colorscale": [
             [
              0,
              "#0d0887"
             ],
             [
              0.1111111111111111,
              "#46039f"
             ],
             [
              0.2222222222222222,
              "#7201a8"
             ],
             [
              0.3333333333333333,
              "#9c179e"
             ],
             [
              0.4444444444444444,
              "#bd3786"
             ],
             [
              0.5555555555555556,
              "#d8576b"
             ],
             [
              0.6666666666666666,
              "#ed7953"
             ],
             [
              0.7777777777777778,
              "#fb9f3a"
             ],
             [
              0.8888888888888888,
              "#fdca26"
             ],
             [
              1,
              "#f0f921"
             ]
            ],
            "type": "heatmapgl"
           }
          ],
          "histogram": [
           {
            "marker": {
             "pattern": {
              "fillmode": "overlay",
              "size": 10,
              "solidity": 0.2
             }
            },
            "type": "histogram"
           }
          ],
          "histogram2d": [
           {
            "colorbar": {
             "outlinewidth": 0,
             "ticks": ""
            },
            "colorscale": [
             [
              0,
              "#0d0887"
             ],
             [
              0.1111111111111111,
              "#46039f"
             ],
             [
              0.2222222222222222,
              "#7201a8"
             ],
             [
              0.3333333333333333,
              "#9c179e"
             ],
             [
              0.4444444444444444,
              "#bd3786"
             ],
             [
              0.5555555555555556,
              "#d8576b"
             ],
             [
              0.6666666666666666,
              "#ed7953"
             ],
             [
              0.7777777777777778,
              "#fb9f3a"
             ],
             [
              0.8888888888888888,
              "#fdca26"
             ],
             [
              1,
              "#f0f921"
             ]
            ],
            "type": "histogram2d"
           }
          ],
          "histogram2dcontour": [
           {
            "colorbar": {
             "outlinewidth": 0,
             "ticks": ""
            },
            "colorscale": [
             [
              0,
              "#0d0887"
             ],
             [
              0.1111111111111111,
              "#46039f"
             ],
             [
              0.2222222222222222,
              "#7201a8"
             ],
             [
              0.3333333333333333,
              "#9c179e"
             ],
             [
              0.4444444444444444,
              "#bd3786"
             ],
             [
              0.5555555555555556,
              "#d8576b"
             ],
             [
              0.6666666666666666,
              "#ed7953"
             ],
             [
              0.7777777777777778,
              "#fb9f3a"
             ],
             [
              0.8888888888888888,
              "#fdca26"
             ],
             [
              1,
              "#f0f921"
             ]
            ],
            "type": "histogram2dcontour"
           }
          ],
          "mesh3d": [
           {
            "colorbar": {
             "outlinewidth": 0,
             "ticks": ""
            },
            "type": "mesh3d"
           }
          ],
          "parcoords": [
           {
            "line": {
             "colorbar": {
              "outlinewidth": 0,
              "ticks": ""
             }
            },
            "type": "parcoords"
           }
          ],
          "pie": [
           {
            "automargin": true,
            "type": "pie"
           }
          ],
          "scatter": [
           {
            "fillpattern": {
             "fillmode": "overlay",
             "size": 10,
             "solidity": 0.2
            },
            "type": "scatter"
           }
          ],
          "scatter3d": [
           {
            "line": {
             "colorbar": {
              "outlinewidth": 0,
              "ticks": ""
             }
            },
            "marker": {
             "colorbar": {
              "outlinewidth": 0,
              "ticks": ""
             }
            },
            "type": "scatter3d"
           }
          ],
          "scattercarpet": [
           {
            "marker": {
             "colorbar": {
              "outlinewidth": 0,
              "ticks": ""
             }
            },
            "type": "scattercarpet"
           }
          ],
          "scattergeo": [
           {
            "marker": {
             "colorbar": {
              "outlinewidth": 0,
              "ticks": ""
             }
            },
            "type": "scattergeo"
           }
          ],
          "scattergl": [
           {
            "marker": {
             "colorbar": {
              "outlinewidth": 0,
              "ticks": ""
             }
            },
            "type": "scattergl"
           }
          ],
          "scattermapbox": [
           {
            "marker": {
             "colorbar": {
              "outlinewidth": 0,
              "ticks": ""
             }
            },
            "type": "scattermapbox"
           }
          ],
          "scatterpolar": [
           {
            "marker": {
             "colorbar": {
              "outlinewidth": 0,
              "ticks": ""
             }
            },
            "type": "scatterpolar"
           }
          ],
          "scatterpolargl": [
           {
            "marker": {
             "colorbar": {
              "outlinewidth": 0,
              "ticks": ""
             }
            },
            "type": "scatterpolargl"
           }
          ],
          "scatterternary": [
           {
            "marker": {
             "colorbar": {
              "outlinewidth": 0,
              "ticks": ""
             }
            },
            "type": "scatterternary"
           }
          ],
          "surface": [
           {
            "colorbar": {
             "outlinewidth": 0,
             "ticks": ""
            },
            "colorscale": [
             [
              0,
              "#0d0887"
             ],
             [
              0.1111111111111111,
              "#46039f"
             ],
             [
              0.2222222222222222,
              "#7201a8"
             ],
             [
              0.3333333333333333,
              "#9c179e"
             ],
             [
              0.4444444444444444,
              "#bd3786"
             ],
             [
              0.5555555555555556,
              "#d8576b"
             ],
             [
              0.6666666666666666,
              "#ed7953"
             ],
             [
              0.7777777777777778,
              "#fb9f3a"
             ],
             [
              0.8888888888888888,
              "#fdca26"
             ],
             [
              1,
              "#f0f921"
             ]
            ],
            "type": "surface"
           }
          ],
          "table": [
           {
            "cells": {
             "fill": {
              "color": "#EBF0F8"
             },
             "line": {
              "color": "white"
             }
            },
            "header": {
             "fill": {
              "color": "#C8D4E3"
             },
             "line": {
              "color": "white"
             }
            },
            "type": "table"
           }
          ]
         },
         "layout": {
          "annotationdefaults": {
           "arrowcolor": "#2a3f5f",
           "arrowhead": 0,
           "arrowwidth": 1
          },
          "autotypenumbers": "strict",
          "coloraxis": {
           "colorbar": {
            "outlinewidth": 0,
            "ticks": ""
           }
          },
          "colorscale": {
           "diverging": [
            [
             0,
             "#8e0152"
            ],
            [
             0.1,
             "#c51b7d"
            ],
            [
             0.2,
             "#de77ae"
            ],
            [
             0.3,
             "#f1b6da"
            ],
            [
             0.4,
             "#fde0ef"
            ],
            [
             0.5,
             "#f7f7f7"
            ],
            [
             0.6,
             "#e6f5d0"
            ],
            [
             0.7,
             "#b8e186"
            ],
            [
             0.8,
             "#7fbc41"
            ],
            [
             0.9,
             "#4d9221"
            ],
            [
             1,
             "#276419"
            ]
           ],
           "sequential": [
            [
             0,
             "#0d0887"
            ],
            [
             0.1111111111111111,
             "#46039f"
            ],
            [
             0.2222222222222222,
             "#7201a8"
            ],
            [
             0.3333333333333333,
             "#9c179e"
            ],
            [
             0.4444444444444444,
             "#bd3786"
            ],
            [
             0.5555555555555556,
             "#d8576b"
            ],
            [
             0.6666666666666666,
             "#ed7953"
            ],
            [
             0.7777777777777778,
             "#fb9f3a"
            ],
            [
             0.8888888888888888,
             "#fdca26"
            ],
            [
             1,
             "#f0f921"
            ]
           ],
           "sequentialminus": [
            [
             0,
             "#0d0887"
            ],
            [
             0.1111111111111111,
             "#46039f"
            ],
            [
             0.2222222222222222,
             "#7201a8"
            ],
            [
             0.3333333333333333,
             "#9c179e"
            ],
            [
             0.4444444444444444,
             "#bd3786"
            ],
            [
             0.5555555555555556,
             "#d8576b"
            ],
            [
             0.6666666666666666,
             "#ed7953"
            ],
            [
             0.7777777777777778,
             "#fb9f3a"
            ],
            [
             0.8888888888888888,
             "#fdca26"
            ],
            [
             1,
             "#f0f921"
            ]
           ]
          },
          "colorway": [
           "#636efa",
           "#EF553B",
           "#00cc96",
           "#ab63fa",
           "#FFA15A",
           "#19d3f3",
           "#FF6692",
           "#B6E880",
           "#FF97FF",
           "#FECB52"
          ],
          "font": {
           "color": "#2a3f5f"
          },
          "geo": {
           "bgcolor": "white",
           "lakecolor": "white",
           "landcolor": "#E5ECF6",
           "showlakes": true,
           "showland": true,
           "subunitcolor": "white"
          },
          "hoverlabel": {
           "align": "left"
          },
          "hovermode": "closest",
          "mapbox": {
           "style": "light"
          },
          "paper_bgcolor": "white",
          "plot_bgcolor": "#E5ECF6",
          "polar": {
           "angularaxis": {
            "gridcolor": "white",
            "linecolor": "white",
            "ticks": ""
           },
           "bgcolor": "#E5ECF6",
           "radialaxis": {
            "gridcolor": "white",
            "linecolor": "white",
            "ticks": ""
           }
          },
          "scene": {
           "xaxis": {
            "backgroundcolor": "#E5ECF6",
            "gridcolor": "white",
            "gridwidth": 2,
            "linecolor": "white",
            "showbackground": true,
            "ticks": "",
            "zerolinecolor": "white"
           },
           "yaxis": {
            "backgroundcolor": "#E5ECF6",
            "gridcolor": "white",
            "gridwidth": 2,
            "linecolor": "white",
            "showbackground": true,
            "ticks": "",
            "zerolinecolor": "white"
           },
           "zaxis": {
            "backgroundcolor": "#E5ECF6",
            "gridcolor": "white",
            "gridwidth": 2,
            "linecolor": "white",
            "showbackground": true,
            "ticks": "",
            "zerolinecolor": "white"
           }
          },
          "shapedefaults": {
           "line": {
            "color": "#2a3f5f"
           }
          },
          "ternary": {
           "aaxis": {
            "gridcolor": "white",
            "linecolor": "white",
            "ticks": ""
           },
           "baxis": {
            "gridcolor": "white",
            "linecolor": "white",
            "ticks": ""
           },
           "bgcolor": "#E5ECF6",
           "caxis": {
            "gridcolor": "white",
            "linecolor": "white",
            "ticks": ""
           }
          },
          "title": {
           "x": 0.05
          },
          "xaxis": {
           "automargin": true,
           "gridcolor": "white",
           "linecolor": "white",
           "ticks": "",
           "title": {
            "standoff": 15
           },
           "zerolinecolor": "white",
           "zerolinewidth": 2
          },
          "yaxis": {
           "automargin": true,
           "gridcolor": "white",
           "linecolor": "white",
           "ticks": "",
           "title": {
            "standoff": 15
           },
           "zerolinecolor": "white",
           "zerolinewidth": 2
          }
         }
        },
        "xaxis": {
         "visible": false
        },
        "yaxis": {
         "visible": false
        }
       }
      },
      "text/html": [
       "<div>                            <div id=\"87065352-2514-4d91-bcd9-cdda37e37e72\" class=\"plotly-graph-div\" style=\"height:525px; width:100%;\"></div>            <script type=\"text/javascript\">                require([\"plotly\"], function(Plotly) {                    window.PLOTLYENV=window.PLOTLYENV || {};                                    if (document.getElementById(\"87065352-2514-4d91-bcd9-cdda37e37e72\")) {                    Plotly.newPlot(                        \"87065352-2514-4d91-bcd9-cdda37e37e72\",                        [{\"marker\":{\"color\":\"lightgreen\",\"size\":50},\"mode\":\"markers+text\",\"text\":[\"Finance\",\"360 ONE WAM LIMITED\",\"Abans Holdings Limited\",\"Avonmore Capital & Management Services Limited\",\"Baid Finserv Limited\",\"CMS Info Systems Limited\",\"CSL Finance Limited\",\"Eldeco Housing And Industries Limited\",\"Five-Star Business Finance Limited\",\"Fusion Micro Finance Limited\",\"Indiabulls Enterprises Limited\",\"Life Insurance Corporation Of India\",\"Monarch Networth Capital Limited\",\"Mufin Green Finance Limited\",\"Prudent Corporate Advisory Services Limited\",\"Keystone Realtors Limited\",\"Suratwwala Business Group Limited\",\"Shriram Finance Limited\",\"SRG Housing Finance Limited\",\"Tamilnad Mercantile Bank Limited\",\"TruCap Finance Limited\"],\"textposition\":\"bottom center\",\"x\":[0.004449020982529302,0.9726145148633168,0.9346709293142754,0.7692270718178221,-0.928915603556355,-0.9953005306956734,-0.8088076321655552,-0.11535112464641559,1.0,0.734153816101845,0.6948865389712483,-0.22715865707852717,-0.5318965435070655,-0.9040408551649521,-0.714929380447581,-0.6709885636278026,-0.4131412907573023,0.4965457575840986,0.07061264314089614,0.22793980808875475,0.4054300807824426],\"y\":[-0.004491054084787831,0.3023371464261875,-0.051542912220979044,0.7456558111064243,0.42976409053813025,0.07109742102000605,-0.6807753262977708,-0.9845080626690181,-0.3608510257108362,-0.6163166812306612,0.4781300819249009,0.8423250729105404,0.8710656324516478,-0.2334284885413505,0.6062780609035207,-0.5340444978896796,-0.8454685136503017,-0.9620818672782719,0.9472854180674114,-0.8857462890622949,0.865315983287184],\"type\":\"scatter\"},{\"hoverinfo\":\"none\",\"line\":{\"color\":\"black\",\"width\":2},\"mode\":\"lines\",\"x\":[0.004449020982529302,0.9726145148633168],\"y\":[-0.004491054084787831,0.3023371464261875],\"type\":\"scatter\"},{\"hoverinfo\":\"none\",\"line\":{\"color\":\"black\",\"width\":2},\"mode\":\"lines\",\"x\":[0.004449020982529302,0.9346709293142754],\"y\":[-0.004491054084787831,-0.051542912220979044],\"type\":\"scatter\"},{\"hoverinfo\":\"none\",\"line\":{\"color\":\"black\",\"width\":2},\"mode\":\"lines\",\"x\":[0.004449020982529302,0.7692270718178221],\"y\":[-0.004491054084787831,0.7456558111064243],\"type\":\"scatter\"},{\"hoverinfo\":\"none\",\"line\":{\"color\":\"black\",\"width\":2},\"mode\":\"lines\",\"x\":[0.004449020982529302,-0.928915603556355],\"y\":[-0.004491054084787831,0.42976409053813025],\"type\":\"scatter\"},{\"hoverinfo\":\"none\",\"line\":{\"color\":\"black\",\"width\":2},\"mode\":\"lines\",\"x\":[0.004449020982529302,-0.9953005306956734],\"y\":[-0.004491054084787831,0.07109742102000605],\"type\":\"scatter\"},{\"hoverinfo\":\"none\",\"line\":{\"color\":\"black\",\"width\":2},\"mode\":\"lines\",\"x\":[0.004449020982529302,-0.8088076321655552],\"y\":[-0.004491054084787831,-0.6807753262977708],\"type\":\"scatter\"},{\"hoverinfo\":\"none\",\"line\":{\"color\":\"black\",\"width\":2},\"mode\":\"lines\",\"x\":[0.004449020982529302,-0.11535112464641559],\"y\":[-0.004491054084787831,-0.9845080626690181],\"type\":\"scatter\"},{\"hoverinfo\":\"none\",\"line\":{\"color\":\"black\",\"width\":2},\"mode\":\"lines\",\"x\":[0.004449020982529302,1.0],\"y\":[-0.004491054084787831,-0.3608510257108362],\"type\":\"scatter\"},{\"hoverinfo\":\"none\",\"line\":{\"color\":\"black\",\"width\":2},\"mode\":\"lines\",\"x\":[0.004449020982529302,0.734153816101845],\"y\":[-0.004491054084787831,-0.6163166812306612],\"type\":\"scatter\"},{\"hoverinfo\":\"none\",\"line\":{\"color\":\"black\",\"width\":2},\"mode\":\"lines\",\"x\":[0.004449020982529302,0.6948865389712483],\"y\":[-0.004491054084787831,0.4781300819249009],\"type\":\"scatter\"},{\"hoverinfo\":\"none\",\"line\":{\"color\":\"black\",\"width\":2},\"mode\":\"lines\",\"x\":[0.004449020982529302,-0.22715865707852717],\"y\":[-0.004491054084787831,0.8423250729105404],\"type\":\"scatter\"},{\"hoverinfo\":\"none\",\"line\":{\"color\":\"black\",\"width\":2},\"mode\":\"lines\",\"x\":[0.004449020982529302,-0.5318965435070655],\"y\":[-0.004491054084787831,0.8710656324516478],\"type\":\"scatter\"},{\"hoverinfo\":\"none\",\"line\":{\"color\":\"black\",\"width\":2},\"mode\":\"lines\",\"x\":[0.004449020982529302,-0.9040408551649521],\"y\":[-0.004491054084787831,-0.2334284885413505],\"type\":\"scatter\"},{\"hoverinfo\":\"none\",\"line\":{\"color\":\"black\",\"width\":2},\"mode\":\"lines\",\"x\":[0.004449020982529302,-0.714929380447581],\"y\":[-0.004491054084787831,0.6062780609035207],\"type\":\"scatter\"},{\"hoverinfo\":\"none\",\"line\":{\"color\":\"black\",\"width\":2},\"mode\":\"lines\",\"x\":[0.004449020982529302,-0.6709885636278026],\"y\":[-0.004491054084787831,-0.5340444978896796],\"type\":\"scatter\"},{\"hoverinfo\":\"none\",\"line\":{\"color\":\"black\",\"width\":2},\"mode\":\"lines\",\"x\":[0.004449020982529302,-0.4131412907573023],\"y\":[-0.004491054084787831,-0.8454685136503017],\"type\":\"scatter\"},{\"hoverinfo\":\"none\",\"line\":{\"color\":\"black\",\"width\":2},\"mode\":\"lines\",\"x\":[0.004449020982529302,0.4965457575840986],\"y\":[-0.004491054084787831,-0.9620818672782719],\"type\":\"scatter\"},{\"hoverinfo\":\"none\",\"line\":{\"color\":\"black\",\"width\":2},\"mode\":\"lines\",\"x\":[0.004449020982529302,0.07061264314089614],\"y\":[-0.004491054084787831,0.9472854180674114],\"type\":\"scatter\"},{\"hoverinfo\":\"none\",\"line\":{\"color\":\"black\",\"width\":2},\"mode\":\"lines\",\"x\":[0.004449020982529302,0.22793980808875475],\"y\":[-0.004491054084787831,-0.8857462890622949],\"type\":\"scatter\"},{\"hoverinfo\":\"none\",\"line\":{\"color\":\"black\",\"width\":2},\"mode\":\"lines\",\"x\":[0.004449020982529302,0.4054300807824426],\"y\":[-0.004491054084787831,0.865315983287184],\"type\":\"scatter\"}],                        {\"template\":{\"data\":{\"histogram2dcontour\":[{\"type\":\"histogram2dcontour\",\"colorbar\":{\"outlinewidth\":0,\"ticks\":\"\"},\"colorscale\":[[0.0,\"#0d0887\"],[0.1111111111111111,\"#46039f\"],[0.2222222222222222,\"#7201a8\"],[0.3333333333333333,\"#9c179e\"],[0.4444444444444444,\"#bd3786\"],[0.5555555555555556,\"#d8576b\"],[0.6666666666666666,\"#ed7953\"],[0.7777777777777778,\"#fb9f3a\"],[0.8888888888888888,\"#fdca26\"],[1.0,\"#f0f921\"]]}],\"choropleth\":[{\"type\":\"choropleth\",\"colorbar\":{\"outlinewidth\":0,\"ticks\":\"\"}}],\"histogram2d\":[{\"type\":\"histogram2d\",\"colorbar\":{\"outlinewidth\":0,\"ticks\":\"\"},\"colorscale\":[[0.0,\"#0d0887\"],[0.1111111111111111,\"#46039f\"],[0.2222222222222222,\"#7201a8\"],[0.3333333333333333,\"#9c179e\"],[0.4444444444444444,\"#bd3786\"],[0.5555555555555556,\"#d8576b\"],[0.6666666666666666,\"#ed7953\"],[0.7777777777777778,\"#fb9f3a\"],[0.8888888888888888,\"#fdca26\"],[1.0,\"#f0f921\"]]}],\"heatmap\":[{\"type\":\"heatmap\",\"colorbar\":{\"outlinewidth\":0,\"ticks\":\"\"},\"colorscale\":[[0.0,\"#0d0887\"],[0.1111111111111111,\"#46039f\"],[0.2222222222222222,\"#7201a8\"],[0.3333333333333333,\"#9c179e\"],[0.4444444444444444,\"#bd3786\"],[0.5555555555555556,\"#d8576b\"],[0.6666666666666666,\"#ed7953\"],[0.7777777777777778,\"#fb9f3a\"],[0.8888888888888888,\"#fdca26\"],[1.0,\"#f0f921\"]]}],\"heatmapgl\":[{\"type\":\"heatmapgl\",\"colorbar\":{\"outlinewidth\":0,\"ticks\":\"\"},\"colorscale\":[[0.0,\"#0d0887\"],[0.1111111111111111,\"#46039f\"],[0.2222222222222222,\"#7201a8\"],[0.3333333333333333,\"#9c179e\"],[0.4444444444444444,\"#bd3786\"],[0.5555555555555556,\"#d8576b\"],[0.6666666666666666,\"#ed7953\"],[0.7777777777777778,\"#fb9f3a\"],[0.8888888888888888,\"#fdca26\"],[1.0,\"#f0f921\"]]}],\"contourcarpet\":[{\"type\":\"contourcarpet\",\"colorbar\":{\"outlinewidth\":0,\"ticks\":\"\"}}],\"contour\":[{\"type\":\"contour\",\"colorbar\":{\"outlinewidth\":0,\"ticks\":\"\"},\"colorscale\":[[0.0,\"#0d0887\"],[0.1111111111111111,\"#46039f\"],[0.2222222222222222,\"#7201a8\"],[0.3333333333333333,\"#9c179e\"],[0.4444444444444444,\"#bd3786\"],[0.5555555555555556,\"#d8576b\"],[0.6666666666666666,\"#ed7953\"],[0.7777777777777778,\"#fb9f3a\"],[0.8888888888888888,\"#fdca26\"],[1.0,\"#f0f921\"]]}],\"surface\":[{\"type\":\"surface\",\"colorbar\":{\"outlinewidth\":0,\"ticks\":\"\"},\"colorscale\":[[0.0,\"#0d0887\"],[0.1111111111111111,\"#46039f\"],[0.2222222222222222,\"#7201a8\"],[0.3333333333333333,\"#9c179e\"],[0.4444444444444444,\"#bd3786\"],[0.5555555555555556,\"#d8576b\"],[0.6666666666666666,\"#ed7953\"],[0.7777777777777778,\"#fb9f3a\"],[0.8888888888888888,\"#fdca26\"],[1.0,\"#f0f921\"]]}],\"mesh3d\":[{\"type\":\"mesh3d\",\"colorbar\":{\"outlinewidth\":0,\"ticks\":\"\"}}],\"scatter\":[{\"fillpattern\":{\"fillmode\":\"overlay\",\"size\":10,\"solidity\":0.2},\"type\":\"scatter\"}],\"parcoords\":[{\"type\":\"parcoords\",\"line\":{\"colorbar\":{\"outlinewidth\":0,\"ticks\":\"\"}}}],\"scatterpolargl\":[{\"type\":\"scatterpolargl\",\"marker\":{\"colorbar\":{\"outlinewidth\":0,\"ticks\":\"\"}}}],\"bar\":[{\"error_x\":{\"color\":\"#2a3f5f\"},\"error_y\":{\"color\":\"#2a3f5f\"},\"marker\":{\"line\":{\"color\":\"#E5ECF6\",\"width\":0.5},\"pattern\":{\"fillmode\":\"overlay\",\"size\":10,\"solidity\":0.2}},\"type\":\"bar\"}],\"scattergeo\":[{\"type\":\"scattergeo\",\"marker\":{\"colorbar\":{\"outlinewidth\":0,\"ticks\":\"\"}}}],\"scatterpolar\":[{\"type\":\"scatterpolar\",\"marker\":{\"colorbar\":{\"outlinewidth\":0,\"ticks\":\"\"}}}],\"histogram\":[{\"marker\":{\"pattern\":{\"fillmode\":\"overlay\",\"size\":10,\"solidity\":0.2}},\"type\":\"histogram\"}],\"scattergl\":[{\"type\":\"scattergl\",\"marker\":{\"colorbar\":{\"outlinewidth\":0,\"ticks\":\"\"}}}],\"scatter3d\":[{\"type\":\"scatter3d\",\"line\":{\"colorbar\":{\"outlinewidth\":0,\"ticks\":\"\"}},\"marker\":{\"colorbar\":{\"outlinewidth\":0,\"ticks\":\"\"}}}],\"scattermapbox\":[{\"type\":\"scattermapbox\",\"marker\":{\"colorbar\":{\"outlinewidth\":0,\"ticks\":\"\"}}}],\"scatterternary\":[{\"type\":\"scatterternary\",\"marker\":{\"colorbar\":{\"outlinewidth\":0,\"ticks\":\"\"}}}],\"scattercarpet\":[{\"type\":\"scattercarpet\",\"marker\":{\"colorbar\":{\"outlinewidth\":0,\"ticks\":\"\"}}}],\"carpet\":[{\"aaxis\":{\"endlinecolor\":\"#2a3f5f\",\"gridcolor\":\"white\",\"linecolor\":\"white\",\"minorgridcolor\":\"white\",\"startlinecolor\":\"#2a3f5f\"},\"baxis\":{\"endlinecolor\":\"#2a3f5f\",\"gridcolor\":\"white\",\"linecolor\":\"white\",\"minorgridcolor\":\"white\",\"startlinecolor\":\"#2a3f5f\"},\"type\":\"carpet\"}],\"table\":[{\"cells\":{\"fill\":{\"color\":\"#EBF0F8\"},\"line\":{\"color\":\"white\"}},\"header\":{\"fill\":{\"color\":\"#C8D4E3\"},\"line\":{\"color\":\"white\"}},\"type\":\"table\"}],\"barpolar\":[{\"marker\":{\"line\":{\"color\":\"#E5ECF6\",\"width\":0.5},\"pattern\":{\"fillmode\":\"overlay\",\"size\":10,\"solidity\":0.2}},\"type\":\"barpolar\"}],\"pie\":[{\"automargin\":true,\"type\":\"pie\"}]},\"layout\":{\"autotypenumbers\":\"strict\",\"colorway\":[\"#636efa\",\"#EF553B\",\"#00cc96\",\"#ab63fa\",\"#FFA15A\",\"#19d3f3\",\"#FF6692\",\"#B6E880\",\"#FF97FF\",\"#FECB52\"],\"font\":{\"color\":\"#2a3f5f\"},\"hovermode\":\"closest\",\"hoverlabel\":{\"align\":\"left\"},\"paper_bgcolor\":\"white\",\"plot_bgcolor\":\"#E5ECF6\",\"polar\":{\"bgcolor\":\"#E5ECF6\",\"angularaxis\":{\"gridcolor\":\"white\",\"linecolor\":\"white\",\"ticks\":\"\"},\"radialaxis\":{\"gridcolor\":\"white\",\"linecolor\":\"white\",\"ticks\":\"\"}},\"ternary\":{\"bgcolor\":\"#E5ECF6\",\"aaxis\":{\"gridcolor\":\"white\",\"linecolor\":\"white\",\"ticks\":\"\"},\"baxis\":{\"gridcolor\":\"white\",\"linecolor\":\"white\",\"ticks\":\"\"},\"caxis\":{\"gridcolor\":\"white\",\"linecolor\":\"white\",\"ticks\":\"\"}},\"coloraxis\":{\"colorbar\":{\"outlinewidth\":0,\"ticks\":\"\"}},\"colorscale\":{\"sequential\":[[0.0,\"#0d0887\"],[0.1111111111111111,\"#46039f\"],[0.2222222222222222,\"#7201a8\"],[0.3333333333333333,\"#9c179e\"],[0.4444444444444444,\"#bd3786\"],[0.5555555555555556,\"#d8576b\"],[0.6666666666666666,\"#ed7953\"],[0.7777777777777778,\"#fb9f3a\"],[0.8888888888888888,\"#fdca26\"],[1.0,\"#f0f921\"]],\"sequentialminus\":[[0.0,\"#0d0887\"],[0.1111111111111111,\"#46039f\"],[0.2222222222222222,\"#7201a8\"],[0.3333333333333333,\"#9c179e\"],[0.4444444444444444,\"#bd3786\"],[0.5555555555555556,\"#d8576b\"],[0.6666666666666666,\"#ed7953\"],[0.7777777777777778,\"#fb9f3a\"],[0.8888888888888888,\"#fdca26\"],[1.0,\"#f0f921\"]],\"diverging\":[[0,\"#8e0152\"],[0.1,\"#c51b7d\"],[0.2,\"#de77ae\"],[0.3,\"#f1b6da\"],[0.4,\"#fde0ef\"],[0.5,\"#f7f7f7\"],[0.6,\"#e6f5d0\"],[0.7,\"#b8e186\"],[0.8,\"#7fbc41\"],[0.9,\"#4d9221\"],[1,\"#276419\"]]},\"xaxis\":{\"gridcolor\":\"white\",\"linecolor\":\"white\",\"ticks\":\"\",\"title\":{\"standoff\":15},\"zerolinecolor\":\"white\",\"automargin\":true,\"zerolinewidth\":2},\"yaxis\":{\"gridcolor\":\"white\",\"linecolor\":\"white\",\"ticks\":\"\",\"title\":{\"standoff\":15},\"zerolinecolor\":\"white\",\"automargin\":true,\"zerolinewidth\":2},\"scene\":{\"xaxis\":{\"backgroundcolor\":\"#E5ECF6\",\"gridcolor\":\"white\",\"linecolor\":\"white\",\"showbackground\":true,\"ticks\":\"\",\"zerolinecolor\":\"white\",\"gridwidth\":2},\"yaxis\":{\"backgroundcolor\":\"#E5ECF6\",\"gridcolor\":\"white\",\"linecolor\":\"white\",\"showbackground\":true,\"ticks\":\"\",\"zerolinecolor\":\"white\",\"gridwidth\":2},\"zaxis\":{\"backgroundcolor\":\"#E5ECF6\",\"gridcolor\":\"white\",\"linecolor\":\"white\",\"showbackground\":true,\"ticks\":\"\",\"zerolinecolor\":\"white\",\"gridwidth\":2}},\"shapedefaults\":{\"line\":{\"color\":\"#2a3f5f\"}},\"annotationdefaults\":{\"arrowcolor\":\"#2a3f5f\",\"arrowhead\":0,\"arrowwidth\":1},\"geo\":{\"bgcolor\":\"white\",\"landcolor\":\"#E5ECF6\",\"subunitcolor\":\"white\",\"showland\":true,\"showlakes\":true,\"lakecolor\":\"white\"},\"title\":{\"x\":0.05},\"mapbox\":{\"style\":\"light\"}}},\"xaxis\":{\"visible\":false},\"yaxis\":{\"visible\":false},\"showlegend\":false},                        {\"responsive\": true}                    ).then(function(){\n",
       "                            \n",
       "var gd = document.getElementById('87065352-2514-4d91-bcd9-cdda37e37e72');\n",
       "var x = new MutationObserver(function (mutations, observer) {{\n",
       "        var display = window.getComputedStyle(gd).display;\n",
       "        if (!display || display === 'none') {{\n",
       "            console.log([gd, 'removed!']);\n",
       "            Plotly.purge(gd);\n",
       "            observer.disconnect();\n",
       "        }}\n",
       "}});\n",
       "\n",
       "// Listen for the removal of the full notebook cells\n",
       "var notebookContainer = gd.closest('#notebook-container');\n",
       "if (notebookContainer) {{\n",
       "    x.observe(notebookContainer, {childList: true});\n",
       "}}\n",
       "\n",
       "// Listen for the clearing of the current output cell\n",
       "var outputEl = gd.closest('.output');\n",
       "if (outputEl) {{\n",
       "    x.observe(outputEl, {childList: true});\n",
       "}}\n",
       "\n",
       "                        })                };                });            </script>        </div>"
      ]
     },
     "metadata": {},
     "output_type": "display_data"
    },
    {
     "data": {
      "text/plain": [
       "<Figure size 2000x3000 with 0 Axes>"
      ]
     },
     "metadata": {},
     "output_type": "display_data"
    }
   ],
   "source": [
    "import networkx as nx\n",
    "import plotly.graph_objects as go\n",
    "import numpy as np\n",
    "import matplotlib\n",
    "\n",
    "# Sample Data\n",
    "node = \"Finance\"\n",
    "stocks = fin \n",
    "\n",
    "# Create NetworkX graph (directed from central node to stocks)\n",
    "G = nx.DiGraph()\n",
    "\n",
    "# Add central node  \n",
    "G.add_node(node)\n",
    "\n",
    "# Add stock nodes and connect them to the central node\n",
    "for stock in stocks:\n",
    "    G.add_node(stock)\n",
    "    G.add_edge(node, stock)\n",
    "\n",
    "# Layout algorithm\n",
    "pos = nx.spring_layout(G, k=0.7, pos={central_node: (0, 0)}, seed=150)  \n",
    "# Adjust k and seed for desired visual arrangement\n",
    "\n",
    "# Convert positions for Plotly\n",
    "plotly_pos = {node: np.array(pos[node]) for node in G.nodes()}\n",
    "\n",
    "# Create Plotly figure\n",
    "fig = go.Figure()\n",
    "\n",
    "# Add nodes\n",
    "fig.add_trace(go.Scatter(x=[pos[0] for pos in plotly_pos.values()],  \n",
    "                         y=[pos[1] for pos in plotly_pos.values()],\n",
    "                         mode='markers+text',\n",
    "                         text=list(G.nodes()),\n",
    "                         textposition='bottom center',\n",
    "                         marker=dict(size=50,color = \"lightgreen\"),\n",
    "                    \n",
    "                         ))\n",
    "\n",
    "# Add edges\n",
    "for edge in G.edges:\n",
    "    x0, y0 = plotly_pos[edge[0]]\n",
    "    x1, y1 = plotly_pos[edge[1]]\n",
    "    fig.add_trace(go.Scatter(x=[x0, x1], y=[y0, y1],\n",
    "                             mode='lines',\n",
    "                             line=dict(color='black', width=2),\n",
    "                             hoverinfo='none')) \n",
    "\n",
    "# Customize layout\n",
    "fig.update_layout(showlegend=False,\n",
    "                  xaxis=dict(visible=False), yaxis=dict(visible=False))\n",
    "matplotlib.pyplot.figure(figsize=(20,30))\n",
    "fig.show()\n",
    "\n"
   ]
  },
  {
   "cell_type": "code",
   "execution_count": 122,
   "id": "1c2ea3d3",
   "metadata": {},
   "outputs": [
    {
     "data": {
      "text/html": [
       "<div>\n",
       "<style scoped>\n",
       "    .dataframe tbody tr th:only-of-type {\n",
       "        vertical-align: middle;\n",
       "    }\n",
       "\n",
       "    .dataframe tbody tr th {\n",
       "        vertical-align: top;\n",
       "    }\n",
       "\n",
       "    .dataframe thead th {\n",
       "        text-align: right;\n",
       "    }\n",
       "</style>\n",
       "<table border=\"1\" class=\"dataframe\">\n",
       "  <thead>\n",
       "    <tr style=\"text-align: right;\">\n",
       "      <th></th>\n",
       "      <th>Ticker</th>\n",
       "      <th>Name</th>\n",
       "      <th>Sector</th>\n",
       "    </tr>\n",
       "  </thead>\n",
       "  <tbody>\n",
       "    <tr>\n",
       "      <th>1</th>\n",
       "      <td>360ONE</td>\n",
       "      <td>360 ONE WAM LIMITED</td>\n",
       "      <td>Finance</td>\n",
       "    </tr>\n",
       "    <tr>\n",
       "      <th>37</th>\n",
       "      <td>AHL</td>\n",
       "      <td>Abans Holdings Limited</td>\n",
       "      <td>Finance</td>\n",
       "    </tr>\n",
       "    <tr>\n",
       "      <th>128</th>\n",
       "      <td>AVONMORE</td>\n",
       "      <td>Avonmore Capital &amp; Management Services Limited</td>\n",
       "      <td>Finance</td>\n",
       "    </tr>\n",
       "    <tr>\n",
       "      <th>137</th>\n",
       "      <td>BAIDFIN</td>\n",
       "      <td>Baid Finserv Limited</td>\n",
       "      <td>Finance</td>\n",
       "    </tr>\n",
       "    <tr>\n",
       "      <th>261</th>\n",
       "      <td>CMSINFO</td>\n",
       "      <td>CMS Info Systems Limited</td>\n",
       "      <td>Finance</td>\n",
       "    </tr>\n",
       "  </tbody>\n",
       "</table>\n",
       "</div>"
      ],
      "text/plain": [
       "       Ticker                                            Name   Sector\n",
       "1      360ONE                             360 ONE WAM LIMITED  Finance\n",
       "37        AHL                          Abans Holdings Limited  Finance\n",
       "128  AVONMORE  Avonmore Capital & Management Services Limited  Finance\n",
       "137   BAIDFIN                            Baid Finserv Limited  Finance\n",
       "261   CMSINFO                        CMS Info Systems Limited  Finance"
      ]
     },
     "execution_count": 122,
     "metadata": {},
     "output_type": "execute_result"
    }
   ],
   "source": [
    "finance_sector_data.head()\n",
    "\n"
   ]
  },
  {
   "cell_type": "code",
   "execution_count": 113,
   "id": "976491cb",
   "metadata": {},
   "outputs": [],
   "source": [
    "finance_sector_data = data.groupby('Sector').get_group('Finance')\n",
    "\n",
    "# Display result (you can also perform other operations on the filtered data)\n",
    "fin = finance_sector_data['Name']\n",
    "\n",
    "\n",
    "\n"
   ]
  },
  {
   "cell_type": "code",
   "execution_count": 114,
   "id": "65581625",
   "metadata": {},
   "outputs": [
    {
     "data": {
      "text/plain": [
       "array(['Mining', 'Finance', 'COMPUTERS - SOFTWARE',\n",
       "       'Diversified Commercial Services', 'Financial Services',\n",
       "       'INDUSTRIAL EQUIPMENT', 'Pharmaceuticals', 'Specialty Chemicals',\n",
       "       'Process Industries', 'Textiles', 'Housing Finance Companies',\n",
       "       'Heavy Electrical Equipment', 'Holding Companies',\n",
       "       'Apparels & Accessories', 'Trading Companies & Distributors',\n",
       "       'Asset Management Companies', 'Cement & Cement Products',\n",
       "       'IT Consulting & Application Software',\n",
       "       'Transport Related Services', 'Technology Services',\n",
       "       'Electric Utilities', 'Marine Port & Services', 'Packaged Foods',\n",
       "       ' Industrial Goods', 'Hotels', 'Other Agricultural Products',\n",
       "       'LOGISTICS SOLUTION PROVIDER', 'Internet Software & Services',\n",
       "       'Petrochemicals', 'FERTILIZERS',\n",
       "       'FURNITURE / HOME FURNISHING / FLOORING', 'Realty',\n",
       "       'PLYWOOD BOARDS/ LAMINATES', 'PAINTS', 'Auto Parts & Equipment',\n",
       "       'BPO / ITeS', 'Biotechnology', 'Oil Equipment & Services',\n",
       "       'Consumer Electronics', 'Paper & Paper Products',\n",
       "       'Commodity Chemicals', 'Distributors', 'Industrial Machinery',\n",
       "       'Other Electrical Equipment/ Products', 'IRON & STEEL PRODUCTS',\n",
       "       'Healthcare  - Facilities', 'PLASTIC PRODUCTS',\n",
       "       'Tyres & Rubber Products', 'IT Training Services',\n",
       "       'Forest Products - PLY & BOARDS', 'Construction & Engineering',\n",
       "       'STOCKBROKING AND ALLIED', 'RESIDENTIAL/COMMERCIAL/SEZ Project',\n",
       "       'Fin COS (including NBFCs)', 'GRANITES / MARBLES',\n",
       "       'Healthcare  - Services', 'Other Apparels & Accessories', 'GLASS',\n",
       "       'DYES & PIGMENTS', 'Breweries & Distilleries', 'Roads & Highways',\n",
       "       'Construction, Agricultural & Commercial Vehicles',\n",
       "       'CERAMICS / GRANITES ', 'Electronic Technology', 'Agrochemicals',\n",
       "       'Defence', 'Consumer Durables', 'Producer Manufacturing',\n",
       "       'Oil Marketing & Distribution', '2/3 Wheelers', 'BANKS - PVT',\n",
       "       'Sugar', 'ANIMAL FEED', 'WASTE MANAGEMENT\\t', 'Personal Products',\n",
       "       'Household Appliances', 'Broadcasting & Cable TV',\n",
       "       'Containers & Packaging', 'BANKS - PSU', 'Restaurants', 'Footwear',\n",
       "       'Tea & Coffee', 'Software Products', 'CONSUMER FOOD',\n",
       "       'COPPER & COPPER PRODUCTS', ' Industrial Products',\n",
       "       'Telecommunication Services', 'Consumer Non-Durables',\n",
       "       'Travel Support Services', 'Houseware',\n",
       "       'Refineries & Petroleum Products', 'STOCK EXCHANGE',\n",
       "       'AGRICULTURAL PRODUCTS', 'Consumer Services', 'NBFC', 'ABRASIVES',\n",
       "       'ONLINE SERVICES', 'Stock Depository', 'CERAMICS / GRANITES',\n",
       "       'Electric Utilities - GENERATION', 'Commercial Services',\n",
       "       'IT ENABLED SERVICES - SOFTWARE', 'Movies & Entertainment',\n",
       "       'Education', 'Coal', 'Shipping', 'SPINNING-COTTON/BLENDED',\n",
       "       'Integrated Oil & Gas', 'OIL Exploration & Production',\n",
       "       'Transportation', 'Leisure Facilities', 'PRINTING & PUBLICATION',\n",
       "       'INVESTMENT COMPANIES', 'Telecommunications Equipment',\n",
       "       'Networking Equipment', 'Department Stores', 'DIARY PRODUCTS',\n",
       "       'GEMS  / JEWELLERY & WATCHES', 'Other Food Products',\n",
       "       'Rubber Products', 'Retail Trade', 'Consulting Services',\n",
       "       'Non-Durable Household Products', 'Furniture, Furnishing & Paints',\n",
       "       'Utilities (Including Pipelines)', 'Non-Energy Minerals',\n",
       "       'Industrial Services', 'General Insurance', 'Airport Services',\n",
       "       'EXPLOSIVES', 'Cigarettes & Tobacco Products', 'Edible Oils',\n",
       "       'Iron & Steel and Intermediary Products', 'INDUSTRIAL MINERALS',\n",
       "       'Other Telecom Services', 'LPG/CNG/PNG/LNG SUPPLIER', 'Aerospace',\n",
       "       'Distribution Services', 'COMPUTER SOFTWARE MAJOR',\n",
       "       'Life Insurance', 'Telecom Cables', 'ALUMINIUM',\n",
       "       'Cars & Utility Vehicles', 'Zinc',\n",
       "       'Electronic Components / Equipment & Instruments',\n",
       "       'INDUSTRIAL EQUIPMENT - Refrigeration', 'Financial Institutions',\n",
       "       ' Leisure Facilities', 'Airlines', 'FABRICS & GARMENTS',\n",
       "       'ENGINEERING / DESIGNING /CONSTRUCTION', 'Photographic Products',\n",
       "       'STEEL MAJOR', 'Household Products',\n",
       "       'Specialized Consumer Services', 'Utilities', 'Industrial Gases',\n",
       "       'PESTICIDES AND AGROCHEMICALS', 'Health Services',\n",
       "       'Health Technology', 'MEDIA & ENTERTAINMENT',\n",
       "       'Healthcare  - Supplies', 'PACKAGING', 'Fibers & Plastics',\n",
       "       'Surface Transportation', 'MEDICAL EQUIPMENT & SUPPLIES',\n",
       "       'Electric Utilities - TRANSMISSION',\n",
       "       'Electric Utilities - TRADING', 'Commercial Printing/ Stationery',\n",
       "       'CONSTRUCTION CIVIL', 'POWER EQUIPMENT', 'Specialty Retail',\n",
       "       'DIVERSIFIED RETAIL', 'DIVERSIFIED SERVICES', 'Alternate Carriers',\n",
       "       'Storage Media & Peripherals', 'TRADING - CHEMICALS',\n",
       "       'MAN MADE  & BLENDED FIBRES', 'Non-alcoholic Beverages',\n",
       "       'WASTE / WATER MANAGEMENT'], dtype=object)"
      ]
     },
     "execution_count": 114,
     "metadata": {},
     "output_type": "execute_result"
    }
   ],
   "source": [
    "data[\"Sector\"].unique()\n",
    "\n",
    "\n",
    "\n",
    "\n",
    "\n",
    "\n"
   ]
  },
  {
   "cell_type": "code",
   "execution_count": null,
   "id": "216979b4",
   "metadata": {},
   "outputs": [],
   "source": [
    "Technology Services\n",
    "IT Consulting & Application Software\n",
    "IT ENABLED SERVICES - SOFTWARE"
   ]
  },
  {
   "cell_type": "code",
   "execution_count": 190,
   "id": "f804fed9",
   "metadata": {},
   "outputs": [
    {
     "name": "stdout",
     "output_type": "stream",
     "text": [
      "20        Ace Integrated Solutions Limited\n",
      "254           Cigniti Technologies Limited\n",
      "319     Dev Information Technology Limited\n",
      "376                        eMudhra Limited\n",
      "609         InfoBeans Technologies Limited\n",
      "705              Kfin Technologies Limited\n",
      "743                  Ksolves India Limited\n",
      "851          Mold-Tek Technologies Limited\n",
      "913                 NINtec Systems Limited\n",
      "960            Palred Technologies Limited\n",
      "1104       R Systems International Limited\n",
      "1191                   Sigma Solve Limited\n",
      "1194     Silver Touch Technologies Limited\n",
      "1340           Tracxn Technologies Limited\n",
      "1409                      Virinchi Limited\n",
      "Name: Name, dtype: object\n"
     ]
    }
   ],
   "source": [
    "technology_sector_data = data[data['Sector'].str.lower().isin(\n",
    "    ['it enabled services - software', 'technology services']\n",
    ")]\n",
    "\n",
    "# Display result (you can also modify this as needed)\n",
    "tech = technology_sector_data['Name']\n",
    "print(tech) \n"
   ]
  },
  {
   "cell_type": "code",
   "execution_count": 39,
   "id": "89ae6442",
   "metadata": {},
   "outputs": [
    {
     "data": {
      "text/plain": [
       "254        Cigniti Technologies Limited\n",
       "609      InfoBeans Technologies Limited\n",
       "851       Mold-Tek Technologies Limited\n",
       "960         Palred Technologies Limited\n",
       "1104    R Systems International Limited\n",
       "Name: Name, dtype: object"
      ]
     },
     "execution_count": 39,
     "metadata": {},
     "output_type": "execute_result"
    }
   ],
   "source": [
    "tech.head()"
   ]
  },
  {
   "cell_type": "code",
   "execution_count": 116,
   "id": "c7f6e1dc",
   "metadata": {},
   "outputs": [
    {
     "data": {
      "application/vnd.plotly.v1+json": {
       "config": {
        "plotlyServerURL": "https://plot.ly"
       },
       "data": [
        {
         "marker": {
          "size": 50
         },
         "mode": "markers+text",
         "text": [
          "Technology",
          "Ace Integrated Solutions Limited",
          "Cigniti Technologies Limited",
          "Dev Information Technology Limited",
          "eMudhra Limited",
          "InfoBeans Technologies Limited",
          "Kfin Technologies Limited",
          "Ksolves India Limited",
          "Mold-Tek Technologies Limited",
          "NINtec Systems Limited",
          "Palred Technologies Limited",
          "R Systems International Limited",
          "Sigma Solve Limited",
          "Silver Touch Technologies Limited",
          "Tracxn Technologies Limited",
          "Virinchi Limited"
         ],
         "textposition": "bottom center",
         "type": "scatter",
         "x": [
          -0.010165109534062506,
          0.8207248870363713,
          0.8840614078502737,
          0.545886128761621,
          -0.9397090755215279,
          -0.9999999999999999,
          -0.70837094151337,
          -0.20250888898452712,
          0.9266436496002732,
          0.5319215070854878,
          0.8076592232678457,
          0.0811946652710334,
          -0.3580411055759801,
          -0.8502232834360459,
          -0.6553679725637791,
          0.12629490825638723
         ],
         "y": [
          0.0017936368823648773,
          0.5321816217047106,
          0.17136438672787582,
          0.860242554488997,
          0.4062925169405653,
          -0.02099490962517306,
          -0.7682618801861681,
          -0.9515752381453363,
          -0.4387511918407176,
          -0.7632248555546852,
          -0.22018895754748435,
          0.850703406594755,
          0.9217503556992929,
          -0.407764119321097,
          0.6659463926582326,
          -0.8395137194761327
         ]
        },
        {
         "hoverinfo": "none",
         "line": {
          "color": "black",
          "width": 2
         },
         "mode": "lines",
         "type": "scatter",
         "x": [
          -0.010165109534062506,
          0.8207248870363713
         ],
         "y": [
          0.0017936368823648773,
          0.5321816217047106
         ]
        },
        {
         "hoverinfo": "none",
         "line": {
          "color": "black",
          "width": 2
         },
         "mode": "lines",
         "type": "scatter",
         "x": [
          -0.010165109534062506,
          0.8840614078502737
         ],
         "y": [
          0.0017936368823648773,
          0.17136438672787582
         ]
        },
        {
         "hoverinfo": "none",
         "line": {
          "color": "black",
          "width": 2
         },
         "mode": "lines",
         "type": "scatter",
         "x": [
          -0.010165109534062506,
          0.545886128761621
         ],
         "y": [
          0.0017936368823648773,
          0.860242554488997
         ]
        },
        {
         "hoverinfo": "none",
         "line": {
          "color": "black",
          "width": 2
         },
         "mode": "lines",
         "type": "scatter",
         "x": [
          -0.010165109534062506,
          -0.9397090755215279
         ],
         "y": [
          0.0017936368823648773,
          0.4062925169405653
         ]
        },
        {
         "hoverinfo": "none",
         "line": {
          "color": "black",
          "width": 2
         },
         "mode": "lines",
         "type": "scatter",
         "x": [
          -0.010165109534062506,
          -0.9999999999999999
         ],
         "y": [
          0.0017936368823648773,
          -0.02099490962517306
         ]
        },
        {
         "hoverinfo": "none",
         "line": {
          "color": "black",
          "width": 2
         },
         "mode": "lines",
         "type": "scatter",
         "x": [
          -0.010165109534062506,
          -0.70837094151337
         ],
         "y": [
          0.0017936368823648773,
          -0.7682618801861681
         ]
        },
        {
         "hoverinfo": "none",
         "line": {
          "color": "black",
          "width": 2
         },
         "mode": "lines",
         "type": "scatter",
         "x": [
          -0.010165109534062506,
          -0.20250888898452712
         ],
         "y": [
          0.0017936368823648773,
          -0.9515752381453363
         ]
        },
        {
         "hoverinfo": "none",
         "line": {
          "color": "black",
          "width": 2
         },
         "mode": "lines",
         "type": "scatter",
         "x": [
          -0.010165109534062506,
          0.9266436496002732
         ],
         "y": [
          0.0017936368823648773,
          -0.4387511918407176
         ]
        },
        {
         "hoverinfo": "none",
         "line": {
          "color": "black",
          "width": 2
         },
         "mode": "lines",
         "type": "scatter",
         "x": [
          -0.010165109534062506,
          0.5319215070854878
         ],
         "y": [
          0.0017936368823648773,
          -0.7632248555546852
         ]
        },
        {
         "hoverinfo": "none",
         "line": {
          "color": "black",
          "width": 2
         },
         "mode": "lines",
         "type": "scatter",
         "x": [
          -0.010165109534062506,
          0.8076592232678457
         ],
         "y": [
          0.0017936368823648773,
          -0.22018895754748435
         ]
        },
        {
         "hoverinfo": "none",
         "line": {
          "color": "black",
          "width": 2
         },
         "mode": "lines",
         "type": "scatter",
         "x": [
          -0.010165109534062506,
          0.0811946652710334
         ],
         "y": [
          0.0017936368823648773,
          0.850703406594755
         ]
        },
        {
         "hoverinfo": "none",
         "line": {
          "color": "black",
          "width": 2
         },
         "mode": "lines",
         "type": "scatter",
         "x": [
          -0.010165109534062506,
          -0.3580411055759801
         ],
         "y": [
          0.0017936368823648773,
          0.9217503556992929
         ]
        },
        {
         "hoverinfo": "none",
         "line": {
          "color": "black",
          "width": 2
         },
         "mode": "lines",
         "type": "scatter",
         "x": [
          -0.010165109534062506,
          -0.8502232834360459
         ],
         "y": [
          0.0017936368823648773,
          -0.407764119321097
         ]
        },
        {
         "hoverinfo": "none",
         "line": {
          "color": "black",
          "width": 2
         },
         "mode": "lines",
         "type": "scatter",
         "x": [
          -0.010165109534062506,
          -0.6553679725637791
         ],
         "y": [
          0.0017936368823648773,
          0.6659463926582326
         ]
        },
        {
         "hoverinfo": "none",
         "line": {
          "color": "black",
          "width": 2
         },
         "mode": "lines",
         "type": "scatter",
         "x": [
          -0.010165109534062506,
          0.12629490825638723
         ],
         "y": [
          0.0017936368823648773,
          -0.8395137194761327
         ]
        }
       ],
       "layout": {
        "showlegend": false,
        "template": {
         "data": {
          "bar": [
           {
            "error_x": {
             "color": "#2a3f5f"
            },
            "error_y": {
             "color": "#2a3f5f"
            },
            "marker": {
             "line": {
              "color": "#E5ECF6",
              "width": 0.5
             },
             "pattern": {
              "fillmode": "overlay",
              "size": 10,
              "solidity": 0.2
             }
            },
            "type": "bar"
           }
          ],
          "barpolar": [
           {
            "marker": {
             "line": {
              "color": "#E5ECF6",
              "width": 0.5
             },
             "pattern": {
              "fillmode": "overlay",
              "size": 10,
              "solidity": 0.2
             }
            },
            "type": "barpolar"
           }
          ],
          "carpet": [
           {
            "aaxis": {
             "endlinecolor": "#2a3f5f",
             "gridcolor": "white",
             "linecolor": "white",
             "minorgridcolor": "white",
             "startlinecolor": "#2a3f5f"
            },
            "baxis": {
             "endlinecolor": "#2a3f5f",
             "gridcolor": "white",
             "linecolor": "white",
             "minorgridcolor": "white",
             "startlinecolor": "#2a3f5f"
            },
            "type": "carpet"
           }
          ],
          "choropleth": [
           {
            "colorbar": {
             "outlinewidth": 0,
             "ticks": ""
            },
            "type": "choropleth"
           }
          ],
          "contour": [
           {
            "colorbar": {
             "outlinewidth": 0,
             "ticks": ""
            },
            "colorscale": [
             [
              0,
              "#0d0887"
             ],
             [
              0.1111111111111111,
              "#46039f"
             ],
             [
              0.2222222222222222,
              "#7201a8"
             ],
             [
              0.3333333333333333,
              "#9c179e"
             ],
             [
              0.4444444444444444,
              "#bd3786"
             ],
             [
              0.5555555555555556,
              "#d8576b"
             ],
             [
              0.6666666666666666,
              "#ed7953"
             ],
             [
              0.7777777777777778,
              "#fb9f3a"
             ],
             [
              0.8888888888888888,
              "#fdca26"
             ],
             [
              1,
              "#f0f921"
             ]
            ],
            "type": "contour"
           }
          ],
          "contourcarpet": [
           {
            "colorbar": {
             "outlinewidth": 0,
             "ticks": ""
            },
            "type": "contourcarpet"
           }
          ],
          "heatmap": [
           {
            "colorbar": {
             "outlinewidth": 0,
             "ticks": ""
            },
            "colorscale": [
             [
              0,
              "#0d0887"
             ],
             [
              0.1111111111111111,
              "#46039f"
             ],
             [
              0.2222222222222222,
              "#7201a8"
             ],
             [
              0.3333333333333333,
              "#9c179e"
             ],
             [
              0.4444444444444444,
              "#bd3786"
             ],
             [
              0.5555555555555556,
              "#d8576b"
             ],
             [
              0.6666666666666666,
              "#ed7953"
             ],
             [
              0.7777777777777778,
              "#fb9f3a"
             ],
             [
              0.8888888888888888,
              "#fdca26"
             ],
             [
              1,
              "#f0f921"
             ]
            ],
            "type": "heatmap"
           }
          ],
          "heatmapgl": [
           {
            "colorbar": {
             "outlinewidth": 0,
             "ticks": ""
            },
            "colorscale": [
             [
              0,
              "#0d0887"
             ],
             [
              0.1111111111111111,
              "#46039f"
             ],
             [
              0.2222222222222222,
              "#7201a8"
             ],
             [
              0.3333333333333333,
              "#9c179e"
             ],
             [
              0.4444444444444444,
              "#bd3786"
             ],
             [
              0.5555555555555556,
              "#d8576b"
             ],
             [
              0.6666666666666666,
              "#ed7953"
             ],
             [
              0.7777777777777778,
              "#fb9f3a"
             ],
             [
              0.8888888888888888,
              "#fdca26"
             ],
             [
              1,
              "#f0f921"
             ]
            ],
            "type": "heatmapgl"
           }
          ],
          "histogram": [
           {
            "marker": {
             "pattern": {
              "fillmode": "overlay",
              "size": 10,
              "solidity": 0.2
             }
            },
            "type": "histogram"
           }
          ],
          "histogram2d": [
           {
            "colorbar": {
             "outlinewidth": 0,
             "ticks": ""
            },
            "colorscale": [
             [
              0,
              "#0d0887"
             ],
             [
              0.1111111111111111,
              "#46039f"
             ],
             [
              0.2222222222222222,
              "#7201a8"
             ],
             [
              0.3333333333333333,
              "#9c179e"
             ],
             [
              0.4444444444444444,
              "#bd3786"
             ],
             [
              0.5555555555555556,
              "#d8576b"
             ],
             [
              0.6666666666666666,
              "#ed7953"
             ],
             [
              0.7777777777777778,
              "#fb9f3a"
             ],
             [
              0.8888888888888888,
              "#fdca26"
             ],
             [
              1,
              "#f0f921"
             ]
            ],
            "type": "histogram2d"
           }
          ],
          "histogram2dcontour": [
           {
            "colorbar": {
             "outlinewidth": 0,
             "ticks": ""
            },
            "colorscale": [
             [
              0,
              "#0d0887"
             ],
             [
              0.1111111111111111,
              "#46039f"
             ],
             [
              0.2222222222222222,
              "#7201a8"
             ],
             [
              0.3333333333333333,
              "#9c179e"
             ],
             [
              0.4444444444444444,
              "#bd3786"
             ],
             [
              0.5555555555555556,
              "#d8576b"
             ],
             [
              0.6666666666666666,
              "#ed7953"
             ],
             [
              0.7777777777777778,
              "#fb9f3a"
             ],
             [
              0.8888888888888888,
              "#fdca26"
             ],
             [
              1,
              "#f0f921"
             ]
            ],
            "type": "histogram2dcontour"
           }
          ],
          "mesh3d": [
           {
            "colorbar": {
             "outlinewidth": 0,
             "ticks": ""
            },
            "type": "mesh3d"
           }
          ],
          "parcoords": [
           {
            "line": {
             "colorbar": {
              "outlinewidth": 0,
              "ticks": ""
             }
            },
            "type": "parcoords"
           }
          ],
          "pie": [
           {
            "automargin": true,
            "type": "pie"
           }
          ],
          "scatter": [
           {
            "fillpattern": {
             "fillmode": "overlay",
             "size": 10,
             "solidity": 0.2
            },
            "type": "scatter"
           }
          ],
          "scatter3d": [
           {
            "line": {
             "colorbar": {
              "outlinewidth": 0,
              "ticks": ""
             }
            },
            "marker": {
             "colorbar": {
              "outlinewidth": 0,
              "ticks": ""
             }
            },
            "type": "scatter3d"
           }
          ],
          "scattercarpet": [
           {
            "marker": {
             "colorbar": {
              "outlinewidth": 0,
              "ticks": ""
             }
            },
            "type": "scattercarpet"
           }
          ],
          "scattergeo": [
           {
            "marker": {
             "colorbar": {
              "outlinewidth": 0,
              "ticks": ""
             }
            },
            "type": "scattergeo"
           }
          ],
          "scattergl": [
           {
            "marker": {
             "colorbar": {
              "outlinewidth": 0,
              "ticks": ""
             }
            },
            "type": "scattergl"
           }
          ],
          "scattermapbox": [
           {
            "marker": {
             "colorbar": {
              "outlinewidth": 0,
              "ticks": ""
             }
            },
            "type": "scattermapbox"
           }
          ],
          "scatterpolar": [
           {
            "marker": {
             "colorbar": {
              "outlinewidth": 0,
              "ticks": ""
             }
            },
            "type": "scatterpolar"
           }
          ],
          "scatterpolargl": [
           {
            "marker": {
             "colorbar": {
              "outlinewidth": 0,
              "ticks": ""
             }
            },
            "type": "scatterpolargl"
           }
          ],
          "scatterternary": [
           {
            "marker": {
             "colorbar": {
              "outlinewidth": 0,
              "ticks": ""
             }
            },
            "type": "scatterternary"
           }
          ],
          "surface": [
           {
            "colorbar": {
             "outlinewidth": 0,
             "ticks": ""
            },
            "colorscale": [
             [
              0,
              "#0d0887"
             ],
             [
              0.1111111111111111,
              "#46039f"
             ],
             [
              0.2222222222222222,
              "#7201a8"
             ],
             [
              0.3333333333333333,
              "#9c179e"
             ],
             [
              0.4444444444444444,
              "#bd3786"
             ],
             [
              0.5555555555555556,
              "#d8576b"
             ],
             [
              0.6666666666666666,
              "#ed7953"
             ],
             [
              0.7777777777777778,
              "#fb9f3a"
             ],
             [
              0.8888888888888888,
              "#fdca26"
             ],
             [
              1,
              "#f0f921"
             ]
            ],
            "type": "surface"
           }
          ],
          "table": [
           {
            "cells": {
             "fill": {
              "color": "#EBF0F8"
             },
             "line": {
              "color": "white"
             }
            },
            "header": {
             "fill": {
              "color": "#C8D4E3"
             },
             "line": {
              "color": "white"
             }
            },
            "type": "table"
           }
          ]
         },
         "layout": {
          "annotationdefaults": {
           "arrowcolor": "#2a3f5f",
           "arrowhead": 0,
           "arrowwidth": 1
          },
          "autotypenumbers": "strict",
          "coloraxis": {
           "colorbar": {
            "outlinewidth": 0,
            "ticks": ""
           }
          },
          "colorscale": {
           "diverging": [
            [
             0,
             "#8e0152"
            ],
            [
             0.1,
             "#c51b7d"
            ],
            [
             0.2,
             "#de77ae"
            ],
            [
             0.3,
             "#f1b6da"
            ],
            [
             0.4,
             "#fde0ef"
            ],
            [
             0.5,
             "#f7f7f7"
            ],
            [
             0.6,
             "#e6f5d0"
            ],
            [
             0.7,
             "#b8e186"
            ],
            [
             0.8,
             "#7fbc41"
            ],
            [
             0.9,
             "#4d9221"
            ],
            [
             1,
             "#276419"
            ]
           ],
           "sequential": [
            [
             0,
             "#0d0887"
            ],
            [
             0.1111111111111111,
             "#46039f"
            ],
            [
             0.2222222222222222,
             "#7201a8"
            ],
            [
             0.3333333333333333,
             "#9c179e"
            ],
            [
             0.4444444444444444,
             "#bd3786"
            ],
            [
             0.5555555555555556,
             "#d8576b"
            ],
            [
             0.6666666666666666,
             "#ed7953"
            ],
            [
             0.7777777777777778,
             "#fb9f3a"
            ],
            [
             0.8888888888888888,
             "#fdca26"
            ],
            [
             1,
             "#f0f921"
            ]
           ],
           "sequentialminus": [
            [
             0,
             "#0d0887"
            ],
            [
             0.1111111111111111,
             "#46039f"
            ],
            [
             0.2222222222222222,
             "#7201a8"
            ],
            [
             0.3333333333333333,
             "#9c179e"
            ],
            [
             0.4444444444444444,
             "#bd3786"
            ],
            [
             0.5555555555555556,
             "#d8576b"
            ],
            [
             0.6666666666666666,
             "#ed7953"
            ],
            [
             0.7777777777777778,
             "#fb9f3a"
            ],
            [
             0.8888888888888888,
             "#fdca26"
            ],
            [
             1,
             "#f0f921"
            ]
           ]
          },
          "colorway": [
           "#636efa",
           "#EF553B",
           "#00cc96",
           "#ab63fa",
           "#FFA15A",
           "#19d3f3",
           "#FF6692",
           "#B6E880",
           "#FF97FF",
           "#FECB52"
          ],
          "font": {
           "color": "#2a3f5f"
          },
          "geo": {
           "bgcolor": "white",
           "lakecolor": "white",
           "landcolor": "#E5ECF6",
           "showlakes": true,
           "showland": true,
           "subunitcolor": "white"
          },
          "hoverlabel": {
           "align": "left"
          },
          "hovermode": "closest",
          "mapbox": {
           "style": "light"
          },
          "paper_bgcolor": "white",
          "plot_bgcolor": "#E5ECF6",
          "polar": {
           "angularaxis": {
            "gridcolor": "white",
            "linecolor": "white",
            "ticks": ""
           },
           "bgcolor": "#E5ECF6",
           "radialaxis": {
            "gridcolor": "white",
            "linecolor": "white",
            "ticks": ""
           }
          },
          "scene": {
           "xaxis": {
            "backgroundcolor": "#E5ECF6",
            "gridcolor": "white",
            "gridwidth": 2,
            "linecolor": "white",
            "showbackground": true,
            "ticks": "",
            "zerolinecolor": "white"
           },
           "yaxis": {
            "backgroundcolor": "#E5ECF6",
            "gridcolor": "white",
            "gridwidth": 2,
            "linecolor": "white",
            "showbackground": true,
            "ticks": "",
            "zerolinecolor": "white"
           },
           "zaxis": {
            "backgroundcolor": "#E5ECF6",
            "gridcolor": "white",
            "gridwidth": 2,
            "linecolor": "white",
            "showbackground": true,
            "ticks": "",
            "zerolinecolor": "white"
           }
          },
          "shapedefaults": {
           "line": {
            "color": "#2a3f5f"
           }
          },
          "ternary": {
           "aaxis": {
            "gridcolor": "white",
            "linecolor": "white",
            "ticks": ""
           },
           "baxis": {
            "gridcolor": "white",
            "linecolor": "white",
            "ticks": ""
           },
           "bgcolor": "#E5ECF6",
           "caxis": {
            "gridcolor": "white",
            "linecolor": "white",
            "ticks": ""
           }
          },
          "title": {
           "x": 0.05
          },
          "xaxis": {
           "automargin": true,
           "gridcolor": "white",
           "linecolor": "white",
           "ticks": "",
           "title": {
            "standoff": 15
           },
           "zerolinecolor": "white",
           "zerolinewidth": 2
          },
          "yaxis": {
           "automargin": true,
           "gridcolor": "white",
           "linecolor": "white",
           "ticks": "",
           "title": {
            "standoff": 15
           },
           "zerolinecolor": "white",
           "zerolinewidth": 2
          }
         }
        },
        "xaxis": {
         "visible": false
        },
        "yaxis": {
         "visible": false
        }
       }
      },
      "text/html": [
       "<div>                            <div id=\"2c9d7d24-18d0-411a-85af-fbff1486a2e3\" class=\"plotly-graph-div\" style=\"height:525px; width:100%;\"></div>            <script type=\"text/javascript\">                require([\"plotly\"], function(Plotly) {                    window.PLOTLYENV=window.PLOTLYENV || {};                                    if (document.getElementById(\"2c9d7d24-18d0-411a-85af-fbff1486a2e3\")) {                    Plotly.newPlot(                        \"2c9d7d24-18d0-411a-85af-fbff1486a2e3\",                        [{\"marker\":{\"size\":50},\"mode\":\"markers+text\",\"text\":[\"Technology\",\"Ace Integrated Solutions Limited\",\"Cigniti Technologies Limited\",\"Dev Information Technology Limited\",\"eMudhra Limited\",\"InfoBeans Technologies Limited\",\"Kfin Technologies Limited\",\"Ksolves India Limited\",\"Mold-Tek Technologies Limited\",\"NINtec Systems Limited\",\"Palred Technologies Limited\",\"R Systems International Limited\",\"Sigma Solve Limited\",\"Silver Touch Technologies Limited\",\"Tracxn Technologies Limited\",\"Virinchi Limited\"],\"textposition\":\"bottom center\",\"x\":[-0.010165109534062506,0.8207248870363713,0.8840614078502737,0.545886128761621,-0.9397090755215279,-0.9999999999999999,-0.70837094151337,-0.20250888898452712,0.9266436496002732,0.5319215070854878,0.8076592232678457,0.0811946652710334,-0.3580411055759801,-0.8502232834360459,-0.6553679725637791,0.12629490825638723],\"y\":[0.0017936368823648773,0.5321816217047106,0.17136438672787582,0.860242554488997,0.4062925169405653,-0.02099490962517306,-0.7682618801861681,-0.9515752381453363,-0.4387511918407176,-0.7632248555546852,-0.22018895754748435,0.850703406594755,0.9217503556992929,-0.407764119321097,0.6659463926582326,-0.8395137194761327],\"type\":\"scatter\"},{\"hoverinfo\":\"none\",\"line\":{\"color\":\"black\",\"width\":2},\"mode\":\"lines\",\"x\":[-0.010165109534062506,0.8207248870363713],\"y\":[0.0017936368823648773,0.5321816217047106],\"type\":\"scatter\"},{\"hoverinfo\":\"none\",\"line\":{\"color\":\"black\",\"width\":2},\"mode\":\"lines\",\"x\":[-0.010165109534062506,0.8840614078502737],\"y\":[0.0017936368823648773,0.17136438672787582],\"type\":\"scatter\"},{\"hoverinfo\":\"none\",\"line\":{\"color\":\"black\",\"width\":2},\"mode\":\"lines\",\"x\":[-0.010165109534062506,0.545886128761621],\"y\":[0.0017936368823648773,0.860242554488997],\"type\":\"scatter\"},{\"hoverinfo\":\"none\",\"line\":{\"color\":\"black\",\"width\":2},\"mode\":\"lines\",\"x\":[-0.010165109534062506,-0.9397090755215279],\"y\":[0.0017936368823648773,0.4062925169405653],\"type\":\"scatter\"},{\"hoverinfo\":\"none\",\"line\":{\"color\":\"black\",\"width\":2},\"mode\":\"lines\",\"x\":[-0.010165109534062506,-0.9999999999999999],\"y\":[0.0017936368823648773,-0.02099490962517306],\"type\":\"scatter\"},{\"hoverinfo\":\"none\",\"line\":{\"color\":\"black\",\"width\":2},\"mode\":\"lines\",\"x\":[-0.010165109534062506,-0.70837094151337],\"y\":[0.0017936368823648773,-0.7682618801861681],\"type\":\"scatter\"},{\"hoverinfo\":\"none\",\"line\":{\"color\":\"black\",\"width\":2},\"mode\":\"lines\",\"x\":[-0.010165109534062506,-0.20250888898452712],\"y\":[0.0017936368823648773,-0.9515752381453363],\"type\":\"scatter\"},{\"hoverinfo\":\"none\",\"line\":{\"color\":\"black\",\"width\":2},\"mode\":\"lines\",\"x\":[-0.010165109534062506,0.9266436496002732],\"y\":[0.0017936368823648773,-0.4387511918407176],\"type\":\"scatter\"},{\"hoverinfo\":\"none\",\"line\":{\"color\":\"black\",\"width\":2},\"mode\":\"lines\",\"x\":[-0.010165109534062506,0.5319215070854878],\"y\":[0.0017936368823648773,-0.7632248555546852],\"type\":\"scatter\"},{\"hoverinfo\":\"none\",\"line\":{\"color\":\"black\",\"width\":2},\"mode\":\"lines\",\"x\":[-0.010165109534062506,0.8076592232678457],\"y\":[0.0017936368823648773,-0.22018895754748435],\"type\":\"scatter\"},{\"hoverinfo\":\"none\",\"line\":{\"color\":\"black\",\"width\":2},\"mode\":\"lines\",\"x\":[-0.010165109534062506,0.0811946652710334],\"y\":[0.0017936368823648773,0.850703406594755],\"type\":\"scatter\"},{\"hoverinfo\":\"none\",\"line\":{\"color\":\"black\",\"width\":2},\"mode\":\"lines\",\"x\":[-0.010165109534062506,-0.3580411055759801],\"y\":[0.0017936368823648773,0.9217503556992929],\"type\":\"scatter\"},{\"hoverinfo\":\"none\",\"line\":{\"color\":\"black\",\"width\":2},\"mode\":\"lines\",\"x\":[-0.010165109534062506,-0.8502232834360459],\"y\":[0.0017936368823648773,-0.407764119321097],\"type\":\"scatter\"},{\"hoverinfo\":\"none\",\"line\":{\"color\":\"black\",\"width\":2},\"mode\":\"lines\",\"x\":[-0.010165109534062506,-0.6553679725637791],\"y\":[0.0017936368823648773,0.6659463926582326],\"type\":\"scatter\"},{\"hoverinfo\":\"none\",\"line\":{\"color\":\"black\",\"width\":2},\"mode\":\"lines\",\"x\":[-0.010165109534062506,0.12629490825638723],\"y\":[0.0017936368823648773,-0.8395137194761327],\"type\":\"scatter\"}],                        {\"template\":{\"data\":{\"histogram2dcontour\":[{\"type\":\"histogram2dcontour\",\"colorbar\":{\"outlinewidth\":0,\"ticks\":\"\"},\"colorscale\":[[0.0,\"#0d0887\"],[0.1111111111111111,\"#46039f\"],[0.2222222222222222,\"#7201a8\"],[0.3333333333333333,\"#9c179e\"],[0.4444444444444444,\"#bd3786\"],[0.5555555555555556,\"#d8576b\"],[0.6666666666666666,\"#ed7953\"],[0.7777777777777778,\"#fb9f3a\"],[0.8888888888888888,\"#fdca26\"],[1.0,\"#f0f921\"]]}],\"choropleth\":[{\"type\":\"choropleth\",\"colorbar\":{\"outlinewidth\":0,\"ticks\":\"\"}}],\"histogram2d\":[{\"type\":\"histogram2d\",\"colorbar\":{\"outlinewidth\":0,\"ticks\":\"\"},\"colorscale\":[[0.0,\"#0d0887\"],[0.1111111111111111,\"#46039f\"],[0.2222222222222222,\"#7201a8\"],[0.3333333333333333,\"#9c179e\"],[0.4444444444444444,\"#bd3786\"],[0.5555555555555556,\"#d8576b\"],[0.6666666666666666,\"#ed7953\"],[0.7777777777777778,\"#fb9f3a\"],[0.8888888888888888,\"#fdca26\"],[1.0,\"#f0f921\"]]}],\"heatmap\":[{\"type\":\"heatmap\",\"colorbar\":{\"outlinewidth\":0,\"ticks\":\"\"},\"colorscale\":[[0.0,\"#0d0887\"],[0.1111111111111111,\"#46039f\"],[0.2222222222222222,\"#7201a8\"],[0.3333333333333333,\"#9c179e\"],[0.4444444444444444,\"#bd3786\"],[0.5555555555555556,\"#d8576b\"],[0.6666666666666666,\"#ed7953\"],[0.7777777777777778,\"#fb9f3a\"],[0.8888888888888888,\"#fdca26\"],[1.0,\"#f0f921\"]]}],\"heatmapgl\":[{\"type\":\"heatmapgl\",\"colorbar\":{\"outlinewidth\":0,\"ticks\":\"\"},\"colorscale\":[[0.0,\"#0d0887\"],[0.1111111111111111,\"#46039f\"],[0.2222222222222222,\"#7201a8\"],[0.3333333333333333,\"#9c179e\"],[0.4444444444444444,\"#bd3786\"],[0.5555555555555556,\"#d8576b\"],[0.6666666666666666,\"#ed7953\"],[0.7777777777777778,\"#fb9f3a\"],[0.8888888888888888,\"#fdca26\"],[1.0,\"#f0f921\"]]}],\"contourcarpet\":[{\"type\":\"contourcarpet\",\"colorbar\":{\"outlinewidth\":0,\"ticks\":\"\"}}],\"contour\":[{\"type\":\"contour\",\"colorbar\":{\"outlinewidth\":0,\"ticks\":\"\"},\"colorscale\":[[0.0,\"#0d0887\"],[0.1111111111111111,\"#46039f\"],[0.2222222222222222,\"#7201a8\"],[0.3333333333333333,\"#9c179e\"],[0.4444444444444444,\"#bd3786\"],[0.5555555555555556,\"#d8576b\"],[0.6666666666666666,\"#ed7953\"],[0.7777777777777778,\"#fb9f3a\"],[0.8888888888888888,\"#fdca26\"],[1.0,\"#f0f921\"]]}],\"surface\":[{\"type\":\"surface\",\"colorbar\":{\"outlinewidth\":0,\"ticks\":\"\"},\"colorscale\":[[0.0,\"#0d0887\"],[0.1111111111111111,\"#46039f\"],[0.2222222222222222,\"#7201a8\"],[0.3333333333333333,\"#9c179e\"],[0.4444444444444444,\"#bd3786\"],[0.5555555555555556,\"#d8576b\"],[0.6666666666666666,\"#ed7953\"],[0.7777777777777778,\"#fb9f3a\"],[0.8888888888888888,\"#fdca26\"],[1.0,\"#f0f921\"]]}],\"mesh3d\":[{\"type\":\"mesh3d\",\"colorbar\":{\"outlinewidth\":0,\"ticks\":\"\"}}],\"scatter\":[{\"fillpattern\":{\"fillmode\":\"overlay\",\"size\":10,\"solidity\":0.2},\"type\":\"scatter\"}],\"parcoords\":[{\"type\":\"parcoords\",\"line\":{\"colorbar\":{\"outlinewidth\":0,\"ticks\":\"\"}}}],\"scatterpolargl\":[{\"type\":\"scatterpolargl\",\"marker\":{\"colorbar\":{\"outlinewidth\":0,\"ticks\":\"\"}}}],\"bar\":[{\"error_x\":{\"color\":\"#2a3f5f\"},\"error_y\":{\"color\":\"#2a3f5f\"},\"marker\":{\"line\":{\"color\":\"#E5ECF6\",\"width\":0.5},\"pattern\":{\"fillmode\":\"overlay\",\"size\":10,\"solidity\":0.2}},\"type\":\"bar\"}],\"scattergeo\":[{\"type\":\"scattergeo\",\"marker\":{\"colorbar\":{\"outlinewidth\":0,\"ticks\":\"\"}}}],\"scatterpolar\":[{\"type\":\"scatterpolar\",\"marker\":{\"colorbar\":{\"outlinewidth\":0,\"ticks\":\"\"}}}],\"histogram\":[{\"marker\":{\"pattern\":{\"fillmode\":\"overlay\",\"size\":10,\"solidity\":0.2}},\"type\":\"histogram\"}],\"scattergl\":[{\"type\":\"scattergl\",\"marker\":{\"colorbar\":{\"outlinewidth\":0,\"ticks\":\"\"}}}],\"scatter3d\":[{\"type\":\"scatter3d\",\"line\":{\"colorbar\":{\"outlinewidth\":0,\"ticks\":\"\"}},\"marker\":{\"colorbar\":{\"outlinewidth\":0,\"ticks\":\"\"}}}],\"scattermapbox\":[{\"type\":\"scattermapbox\",\"marker\":{\"colorbar\":{\"outlinewidth\":0,\"ticks\":\"\"}}}],\"scatterternary\":[{\"type\":\"scatterternary\",\"marker\":{\"colorbar\":{\"outlinewidth\":0,\"ticks\":\"\"}}}],\"scattercarpet\":[{\"type\":\"scattercarpet\",\"marker\":{\"colorbar\":{\"outlinewidth\":0,\"ticks\":\"\"}}}],\"carpet\":[{\"aaxis\":{\"endlinecolor\":\"#2a3f5f\",\"gridcolor\":\"white\",\"linecolor\":\"white\",\"minorgridcolor\":\"white\",\"startlinecolor\":\"#2a3f5f\"},\"baxis\":{\"endlinecolor\":\"#2a3f5f\",\"gridcolor\":\"white\",\"linecolor\":\"white\",\"minorgridcolor\":\"white\",\"startlinecolor\":\"#2a3f5f\"},\"type\":\"carpet\"}],\"table\":[{\"cells\":{\"fill\":{\"color\":\"#EBF0F8\"},\"line\":{\"color\":\"white\"}},\"header\":{\"fill\":{\"color\":\"#C8D4E3\"},\"line\":{\"color\":\"white\"}},\"type\":\"table\"}],\"barpolar\":[{\"marker\":{\"line\":{\"color\":\"#E5ECF6\",\"width\":0.5},\"pattern\":{\"fillmode\":\"overlay\",\"size\":10,\"solidity\":0.2}},\"type\":\"barpolar\"}],\"pie\":[{\"automargin\":true,\"type\":\"pie\"}]},\"layout\":{\"autotypenumbers\":\"strict\",\"colorway\":[\"#636efa\",\"#EF553B\",\"#00cc96\",\"#ab63fa\",\"#FFA15A\",\"#19d3f3\",\"#FF6692\",\"#B6E880\",\"#FF97FF\",\"#FECB52\"],\"font\":{\"color\":\"#2a3f5f\"},\"hovermode\":\"closest\",\"hoverlabel\":{\"align\":\"left\"},\"paper_bgcolor\":\"white\",\"plot_bgcolor\":\"#E5ECF6\",\"polar\":{\"bgcolor\":\"#E5ECF6\",\"angularaxis\":{\"gridcolor\":\"white\",\"linecolor\":\"white\",\"ticks\":\"\"},\"radialaxis\":{\"gridcolor\":\"white\",\"linecolor\":\"white\",\"ticks\":\"\"}},\"ternary\":{\"bgcolor\":\"#E5ECF6\",\"aaxis\":{\"gridcolor\":\"white\",\"linecolor\":\"white\",\"ticks\":\"\"},\"baxis\":{\"gridcolor\":\"white\",\"linecolor\":\"white\",\"ticks\":\"\"},\"caxis\":{\"gridcolor\":\"white\",\"linecolor\":\"white\",\"ticks\":\"\"}},\"coloraxis\":{\"colorbar\":{\"outlinewidth\":0,\"ticks\":\"\"}},\"colorscale\":{\"sequential\":[[0.0,\"#0d0887\"],[0.1111111111111111,\"#46039f\"],[0.2222222222222222,\"#7201a8\"],[0.3333333333333333,\"#9c179e\"],[0.4444444444444444,\"#bd3786\"],[0.5555555555555556,\"#d8576b\"],[0.6666666666666666,\"#ed7953\"],[0.7777777777777778,\"#fb9f3a\"],[0.8888888888888888,\"#fdca26\"],[1.0,\"#f0f921\"]],\"sequentialminus\":[[0.0,\"#0d0887\"],[0.1111111111111111,\"#46039f\"],[0.2222222222222222,\"#7201a8\"],[0.3333333333333333,\"#9c179e\"],[0.4444444444444444,\"#bd3786\"],[0.5555555555555556,\"#d8576b\"],[0.6666666666666666,\"#ed7953\"],[0.7777777777777778,\"#fb9f3a\"],[0.8888888888888888,\"#fdca26\"],[1.0,\"#f0f921\"]],\"diverging\":[[0,\"#8e0152\"],[0.1,\"#c51b7d\"],[0.2,\"#de77ae\"],[0.3,\"#f1b6da\"],[0.4,\"#fde0ef\"],[0.5,\"#f7f7f7\"],[0.6,\"#e6f5d0\"],[0.7,\"#b8e186\"],[0.8,\"#7fbc41\"],[0.9,\"#4d9221\"],[1,\"#276419\"]]},\"xaxis\":{\"gridcolor\":\"white\",\"linecolor\":\"white\",\"ticks\":\"\",\"title\":{\"standoff\":15},\"zerolinecolor\":\"white\",\"automargin\":true,\"zerolinewidth\":2},\"yaxis\":{\"gridcolor\":\"white\",\"linecolor\":\"white\",\"ticks\":\"\",\"title\":{\"standoff\":15},\"zerolinecolor\":\"white\",\"automargin\":true,\"zerolinewidth\":2},\"scene\":{\"xaxis\":{\"backgroundcolor\":\"#E5ECF6\",\"gridcolor\":\"white\",\"linecolor\":\"white\",\"showbackground\":true,\"ticks\":\"\",\"zerolinecolor\":\"white\",\"gridwidth\":2},\"yaxis\":{\"backgroundcolor\":\"#E5ECF6\",\"gridcolor\":\"white\",\"linecolor\":\"white\",\"showbackground\":true,\"ticks\":\"\",\"zerolinecolor\":\"white\",\"gridwidth\":2},\"zaxis\":{\"backgroundcolor\":\"#E5ECF6\",\"gridcolor\":\"white\",\"linecolor\":\"white\",\"showbackground\":true,\"ticks\":\"\",\"zerolinecolor\":\"white\",\"gridwidth\":2}},\"shapedefaults\":{\"line\":{\"color\":\"#2a3f5f\"}},\"annotationdefaults\":{\"arrowcolor\":\"#2a3f5f\",\"arrowhead\":0,\"arrowwidth\":1},\"geo\":{\"bgcolor\":\"white\",\"landcolor\":\"#E5ECF6\",\"subunitcolor\":\"white\",\"showland\":true,\"showlakes\":true,\"lakecolor\":\"white\"},\"title\":{\"x\":0.05},\"mapbox\":{\"style\":\"light\"}}},\"xaxis\":{\"visible\":false},\"yaxis\":{\"visible\":false},\"showlegend\":false},                        {\"responsive\": true}                    ).then(function(){\n",
       "                            \n",
       "var gd = document.getElementById('2c9d7d24-18d0-411a-85af-fbff1486a2e3');\n",
       "var x = new MutationObserver(function (mutations, observer) {{\n",
       "        var display = window.getComputedStyle(gd).display;\n",
       "        if (!display || display === 'none') {{\n",
       "            console.log([gd, 'removed!']);\n",
       "            Plotly.purge(gd);\n",
       "            observer.disconnect();\n",
       "        }}\n",
       "}});\n",
       "\n",
       "// Listen for the removal of the full notebook cells\n",
       "var notebookContainer = gd.closest('#notebook-container');\n",
       "if (notebookContainer) {{\n",
       "    x.observe(notebookContainer, {childList: true});\n",
       "}}\n",
       "\n",
       "// Listen for the clearing of the current output cell\n",
       "var outputEl = gd.closest('.output');\n",
       "if (outputEl) {{\n",
       "    x.observe(outputEl, {childList: true});\n",
       "}}\n",
       "\n",
       "                        })                };                });            </script>        </div>"
      ]
     },
     "metadata": {},
     "output_type": "display_data"
    }
   ],
   "source": [
    "# Sample Data\n",
    "central_node = \"Technology\"\n",
    "stocks = tech \n",
    "\n",
    "# Create NetworkX graph (directed from central node to stocks)\n",
    "G = nx.DiGraph()\n",
    "\n",
    "# Add central node  \n",
    "G.add_node(central_node)\n",
    "\n",
    "# Add stock nodes and connect them to the central node\n",
    "for stock in stocks:\n",
    "    G.add_node(stock)\n",
    "    G.add_edge(central_node, stock)\n",
    "\n",
    "# Layout algorithm\n",
    "pos = nx.spring_layout(G, k=0.7, pos={central_node: (0, 0)}, seed=150)  \n",
    "# Adjust k and seed for desired visual arrangement\n",
    "\n",
    "# Convert positions for Plotly\n",
    "plotly_pos = {node: np.array(pos[node]) for node in G.nodes()}\n",
    "\n",
    "# Create Plotly figure\n",
    "fig = go.Figure()\n",
    "\n",
    "# Add nodes\n",
    "fig.add_trace(go.Scatter(x=[pos[0] for pos in plotly_pos.values()],  \n",
    "                         y=[pos[1] for pos in plotly_pos.values()],\n",
    "                         mode='markers+text',\n",
    "                         text=list(G.nodes()),\n",
    "                         textposition='bottom center',\n",
    "                         marker=dict(size=50)\n",
    "                         ))\n",
    "\n",
    "# Add edges\n",
    "for edge in G.edges:\n",
    "    x0, y0 = plotly_pos[edge[0]]\n",
    "    x1, y1 = plotly_pos[edge[1]]\n",
    "    fig.add_trace(go.Scatter(x=[x0, x1], y=[y0, y1],\n",
    "                             mode='lines',\n",
    "                             line=dict(color='black', width=2),\n",
    "                             hoverinfo='none')) \n",
    "\n",
    "# Customize layout\n",
    "fig.update_layout(showlegend=False,\n",
    "                  xaxis=dict(visible=False), yaxis=dict(visible=False))\n",
    "\n",
    "fig.show()\n"
   ]
  },
  {
   "cell_type": "code",
   "execution_count": 192,
   "id": "9d2496b5",
   "metadata": {},
   "outputs": [
    {
     "name": "stdout",
     "output_type": "stream",
     "text": [
      "79                Apollo Hospitals Enterprise Limited\n",
      "415                         Fortis Healthcare Limited\n",
      "512             Healthcare Global Enterprises Limited\n",
      "712     Krishna Institute of Medical Sciences Limited\n",
      "770          Lotus Eye Hospital and Institute Limited\n",
      "821                  Max Healthcare Institute Limited\n",
      "908                         Narayana Hrudayalaya Ltd.\n",
      "927                                    Nureca Limited\n",
      "1009                            Poly Medicure Limited\n",
      "1164                                   Shalby Limited\n",
      "1288                         Tarsons Products Limited\n",
      "1351                          TVS Electronics Limited\n",
      "Name: Name, dtype: object\n"
     ]
    }
   ],
   "source": [
    "health_sector_data = data[data['Sector'].isin(\n",
    "    ['Healthcare  - Facilities', 'Healthcare  - Supplies','MEDICAL EQUIPMENT & SUPPLIES','Storage Media & Peripherals']\n",
    ")]\n",
    "\n",
    "# Display result (you can also modify this as needed)\n",
    "health = health_sector_data['Name']\n",
    "print(health) "
   ]
  },
  {
   "cell_type": "code",
   "execution_count": 118,
   "id": "fb45c7c0",
   "metadata": {},
   "outputs": [
    {
     "data": {
      "application/vnd.plotly.v1+json": {
       "config": {
        "plotlyServerURL": "https://plot.ly"
       },
       "data": [
        {
         "marker": {
          "color": "red",
          "size": 50
         },
         "mode": "markers+text",
         "text": [
          "Health_services",
          "Apollo Hospitals Enterprise Limited",
          "Fortis Healthcare Limited",
          "Healthcare Global Enterprises Limited",
          "Krishna Institute of Medical Sciences Limited",
          "Lotus Eye Hospital and Institute Limited",
          "Max Healthcare Institute Limited",
          "Narayana Hrudayalaya Ltd.",
          "Nureca Limited",
          "Poly Medicure Limited",
          "Shalby Limited",
          "Tarsons Products Limited",
          "TVS Electronics Limited"
         ],
         "textposition": "bottom center",
         "type": "scatter",
         "x": [
          -0.013427334013435644,
          0.9424039015355478,
          0.6498443250200064,
          0.49915541026425414,
          -0.9526631468996519,
          -1,
          -0.8256384572661397,
          -0.2870469464013994,
          0.955516561834262,
          0.6061589885263674,
          0.1502605735409554,
          -0.13024631504068213,
          -0.5943175611000839
         ],
         "y": [
          -0.004035246549886454,
          0.20577207493452188,
          0.5471402252855132,
          0.8724919385712477,
          0.39914246793442054,
          -0.1399550750017332,
          -0.6716114511701105,
          -0.9438274996981734,
          -0.35856184354281734,
          -0.712510655552306,
          -0.8507977760966913,
          0.8418277260082289,
          0.814925114877786
         ]
        },
        {
         "hoverinfo": "none",
         "line": {
          "color": "black",
          "width": 2
         },
         "mode": "lines",
         "type": "scatter",
         "x": [
          -0.013427334013435644,
          0.9424039015355478
         ],
         "y": [
          -0.004035246549886454,
          0.20577207493452188
         ]
        },
        {
         "hoverinfo": "none",
         "line": {
          "color": "black",
          "width": 2
         },
         "mode": "lines",
         "type": "scatter",
         "x": [
          -0.013427334013435644,
          0.6498443250200064
         ],
         "y": [
          -0.004035246549886454,
          0.5471402252855132
         ]
        },
        {
         "hoverinfo": "none",
         "line": {
          "color": "black",
          "width": 2
         },
         "mode": "lines",
         "type": "scatter",
         "x": [
          -0.013427334013435644,
          0.49915541026425414
         ],
         "y": [
          -0.004035246549886454,
          0.8724919385712477
         ]
        },
        {
         "hoverinfo": "none",
         "line": {
          "color": "black",
          "width": 2
         },
         "mode": "lines",
         "type": "scatter",
         "x": [
          -0.013427334013435644,
          -0.9526631468996519
         ],
         "y": [
          -0.004035246549886454,
          0.39914246793442054
         ]
        },
        {
         "hoverinfo": "none",
         "line": {
          "color": "black",
          "width": 2
         },
         "mode": "lines",
         "type": "scatter",
         "x": [
          -0.013427334013435644,
          -1
         ],
         "y": [
          -0.004035246549886454,
          -0.1399550750017332
         ]
        },
        {
         "hoverinfo": "none",
         "line": {
          "color": "black",
          "width": 2
         },
         "mode": "lines",
         "type": "scatter",
         "x": [
          -0.013427334013435644,
          -0.8256384572661397
         ],
         "y": [
          -0.004035246549886454,
          -0.6716114511701105
         ]
        },
        {
         "hoverinfo": "none",
         "line": {
          "color": "black",
          "width": 2
         },
         "mode": "lines",
         "type": "scatter",
         "x": [
          -0.013427334013435644,
          -0.2870469464013994
         ],
         "y": [
          -0.004035246549886454,
          -0.9438274996981734
         ]
        },
        {
         "hoverinfo": "none",
         "line": {
          "color": "black",
          "width": 2
         },
         "mode": "lines",
         "type": "scatter",
         "x": [
          -0.013427334013435644,
          0.955516561834262
         ],
         "y": [
          -0.004035246549886454,
          -0.35856184354281734
         ]
        },
        {
         "hoverinfo": "none",
         "line": {
          "color": "black",
          "width": 2
         },
         "mode": "lines",
         "type": "scatter",
         "x": [
          -0.013427334013435644,
          0.6061589885263674
         ],
         "y": [
          -0.004035246549886454,
          -0.712510655552306
         ]
        },
        {
         "hoverinfo": "none",
         "line": {
          "color": "black",
          "width": 2
         },
         "mode": "lines",
         "type": "scatter",
         "x": [
          -0.013427334013435644,
          0.1502605735409554
         ],
         "y": [
          -0.004035246549886454,
          -0.8507977760966913
         ]
        },
        {
         "hoverinfo": "none",
         "line": {
          "color": "black",
          "width": 2
         },
         "mode": "lines",
         "type": "scatter",
         "x": [
          -0.013427334013435644,
          -0.13024631504068213
         ],
         "y": [
          -0.004035246549886454,
          0.8418277260082289
         ]
        },
        {
         "hoverinfo": "none",
         "line": {
          "color": "black",
          "width": 2
         },
         "mode": "lines",
         "type": "scatter",
         "x": [
          -0.013427334013435644,
          -0.5943175611000839
         ],
         "y": [
          -0.004035246549886454,
          0.814925114877786
         ]
        }
       ],
       "layout": {
        "showlegend": false,
        "template": {
         "data": {
          "bar": [
           {
            "error_x": {
             "color": "#2a3f5f"
            },
            "error_y": {
             "color": "#2a3f5f"
            },
            "marker": {
             "line": {
              "color": "#E5ECF6",
              "width": 0.5
             },
             "pattern": {
              "fillmode": "overlay",
              "size": 10,
              "solidity": 0.2
             }
            },
            "type": "bar"
           }
          ],
          "barpolar": [
           {
            "marker": {
             "line": {
              "color": "#E5ECF6",
              "width": 0.5
             },
             "pattern": {
              "fillmode": "overlay",
              "size": 10,
              "solidity": 0.2
             }
            },
            "type": "barpolar"
           }
          ],
          "carpet": [
           {
            "aaxis": {
             "endlinecolor": "#2a3f5f",
             "gridcolor": "white",
             "linecolor": "white",
             "minorgridcolor": "white",
             "startlinecolor": "#2a3f5f"
            },
            "baxis": {
             "endlinecolor": "#2a3f5f",
             "gridcolor": "white",
             "linecolor": "white",
             "minorgridcolor": "white",
             "startlinecolor": "#2a3f5f"
            },
            "type": "carpet"
           }
          ],
          "choropleth": [
           {
            "colorbar": {
             "outlinewidth": 0,
             "ticks": ""
            },
            "type": "choropleth"
           }
          ],
          "contour": [
           {
            "colorbar": {
             "outlinewidth": 0,
             "ticks": ""
            },
            "colorscale": [
             [
              0,
              "#0d0887"
             ],
             [
              0.1111111111111111,
              "#46039f"
             ],
             [
              0.2222222222222222,
              "#7201a8"
             ],
             [
              0.3333333333333333,
              "#9c179e"
             ],
             [
              0.4444444444444444,
              "#bd3786"
             ],
             [
              0.5555555555555556,
              "#d8576b"
             ],
             [
              0.6666666666666666,
              "#ed7953"
             ],
             [
              0.7777777777777778,
              "#fb9f3a"
             ],
             [
              0.8888888888888888,
              "#fdca26"
             ],
             [
              1,
              "#f0f921"
             ]
            ],
            "type": "contour"
           }
          ],
          "contourcarpet": [
           {
            "colorbar": {
             "outlinewidth": 0,
             "ticks": ""
            },
            "type": "contourcarpet"
           }
          ],
          "heatmap": [
           {
            "colorbar": {
             "outlinewidth": 0,
             "ticks": ""
            },
            "colorscale": [
             [
              0,
              "#0d0887"
             ],
             [
              0.1111111111111111,
              "#46039f"
             ],
             [
              0.2222222222222222,
              "#7201a8"
             ],
             [
              0.3333333333333333,
              "#9c179e"
             ],
             [
              0.4444444444444444,
              "#bd3786"
             ],
             [
              0.5555555555555556,
              "#d8576b"
             ],
             [
              0.6666666666666666,
              "#ed7953"
             ],
             [
              0.7777777777777778,
              "#fb9f3a"
             ],
             [
              0.8888888888888888,
              "#fdca26"
             ],
             [
              1,
              "#f0f921"
             ]
            ],
            "type": "heatmap"
           }
          ],
          "heatmapgl": [
           {
            "colorbar": {
             "outlinewidth": 0,
             "ticks": ""
            },
            "colorscale": [
             [
              0,
              "#0d0887"
             ],
             [
              0.1111111111111111,
              "#46039f"
             ],
             [
              0.2222222222222222,
              "#7201a8"
             ],
             [
              0.3333333333333333,
              "#9c179e"
             ],
             [
              0.4444444444444444,
              "#bd3786"
             ],
             [
              0.5555555555555556,
              "#d8576b"
             ],
             [
              0.6666666666666666,
              "#ed7953"
             ],
             [
              0.7777777777777778,
              "#fb9f3a"
             ],
             [
              0.8888888888888888,
              "#fdca26"
             ],
             [
              1,
              "#f0f921"
             ]
            ],
            "type": "heatmapgl"
           }
          ],
          "histogram": [
           {
            "marker": {
             "pattern": {
              "fillmode": "overlay",
              "size": 10,
              "solidity": 0.2
             }
            },
            "type": "histogram"
           }
          ],
          "histogram2d": [
           {
            "colorbar": {
             "outlinewidth": 0,
             "ticks": ""
            },
            "colorscale": [
             [
              0,
              "#0d0887"
             ],
             [
              0.1111111111111111,
              "#46039f"
             ],
             [
              0.2222222222222222,
              "#7201a8"
             ],
             [
              0.3333333333333333,
              "#9c179e"
             ],
             [
              0.4444444444444444,
              "#bd3786"
             ],
             [
              0.5555555555555556,
              "#d8576b"
             ],
             [
              0.6666666666666666,
              "#ed7953"
             ],
             [
              0.7777777777777778,
              "#fb9f3a"
             ],
             [
              0.8888888888888888,
              "#fdca26"
             ],
             [
              1,
              "#f0f921"
             ]
            ],
            "type": "histogram2d"
           }
          ],
          "histogram2dcontour": [
           {
            "colorbar": {
             "outlinewidth": 0,
             "ticks": ""
            },
            "colorscale": [
             [
              0,
              "#0d0887"
             ],
             [
              0.1111111111111111,
              "#46039f"
             ],
             [
              0.2222222222222222,
              "#7201a8"
             ],
             [
              0.3333333333333333,
              "#9c179e"
             ],
             [
              0.4444444444444444,
              "#bd3786"
             ],
             [
              0.5555555555555556,
              "#d8576b"
             ],
             [
              0.6666666666666666,
              "#ed7953"
             ],
             [
              0.7777777777777778,
              "#fb9f3a"
             ],
             [
              0.8888888888888888,
              "#fdca26"
             ],
             [
              1,
              "#f0f921"
             ]
            ],
            "type": "histogram2dcontour"
           }
          ],
          "mesh3d": [
           {
            "colorbar": {
             "outlinewidth": 0,
             "ticks": ""
            },
            "type": "mesh3d"
           }
          ],
          "parcoords": [
           {
            "line": {
             "colorbar": {
              "outlinewidth": 0,
              "ticks": ""
             }
            },
            "type": "parcoords"
           }
          ],
          "pie": [
           {
            "automargin": true,
            "type": "pie"
           }
          ],
          "scatter": [
           {
            "fillpattern": {
             "fillmode": "overlay",
             "size": 10,
             "solidity": 0.2
            },
            "type": "scatter"
           }
          ],
          "scatter3d": [
           {
            "line": {
             "colorbar": {
              "outlinewidth": 0,
              "ticks": ""
             }
            },
            "marker": {
             "colorbar": {
              "outlinewidth": 0,
              "ticks": ""
             }
            },
            "type": "scatter3d"
           }
          ],
          "scattercarpet": [
           {
            "marker": {
             "colorbar": {
              "outlinewidth": 0,
              "ticks": ""
             }
            },
            "type": "scattercarpet"
           }
          ],
          "scattergeo": [
           {
            "marker": {
             "colorbar": {
              "outlinewidth": 0,
              "ticks": ""
             }
            },
            "type": "scattergeo"
           }
          ],
          "scattergl": [
           {
            "marker": {
             "colorbar": {
              "outlinewidth": 0,
              "ticks": ""
             }
            },
            "type": "scattergl"
           }
          ],
          "scattermapbox": [
           {
            "marker": {
             "colorbar": {
              "outlinewidth": 0,
              "ticks": ""
             }
            },
            "type": "scattermapbox"
           }
          ],
          "scatterpolar": [
           {
            "marker": {
             "colorbar": {
              "outlinewidth": 0,
              "ticks": ""
             }
            },
            "type": "scatterpolar"
           }
          ],
          "scatterpolargl": [
           {
            "marker": {
             "colorbar": {
              "outlinewidth": 0,
              "ticks": ""
             }
            },
            "type": "scatterpolargl"
           }
          ],
          "scatterternary": [
           {
            "marker": {
             "colorbar": {
              "outlinewidth": 0,
              "ticks": ""
             }
            },
            "type": "scatterternary"
           }
          ],
          "surface": [
           {
            "colorbar": {
             "outlinewidth": 0,
             "ticks": ""
            },
            "colorscale": [
             [
              0,
              "#0d0887"
             ],
             [
              0.1111111111111111,
              "#46039f"
             ],
             [
              0.2222222222222222,
              "#7201a8"
             ],
             [
              0.3333333333333333,
              "#9c179e"
             ],
             [
              0.4444444444444444,
              "#bd3786"
             ],
             [
              0.5555555555555556,
              "#d8576b"
             ],
             [
              0.6666666666666666,
              "#ed7953"
             ],
             [
              0.7777777777777778,
              "#fb9f3a"
             ],
             [
              0.8888888888888888,
              "#fdca26"
             ],
             [
              1,
              "#f0f921"
             ]
            ],
            "type": "surface"
           }
          ],
          "table": [
           {
            "cells": {
             "fill": {
              "color": "#EBF0F8"
             },
             "line": {
              "color": "white"
             }
            },
            "header": {
             "fill": {
              "color": "#C8D4E3"
             },
             "line": {
              "color": "white"
             }
            },
            "type": "table"
           }
          ]
         },
         "layout": {
          "annotationdefaults": {
           "arrowcolor": "#2a3f5f",
           "arrowhead": 0,
           "arrowwidth": 1
          },
          "autotypenumbers": "strict",
          "coloraxis": {
           "colorbar": {
            "outlinewidth": 0,
            "ticks": ""
           }
          },
          "colorscale": {
           "diverging": [
            [
             0,
             "#8e0152"
            ],
            [
             0.1,
             "#c51b7d"
            ],
            [
             0.2,
             "#de77ae"
            ],
            [
             0.3,
             "#f1b6da"
            ],
            [
             0.4,
             "#fde0ef"
            ],
            [
             0.5,
             "#f7f7f7"
            ],
            [
             0.6,
             "#e6f5d0"
            ],
            [
             0.7,
             "#b8e186"
            ],
            [
             0.8,
             "#7fbc41"
            ],
            [
             0.9,
             "#4d9221"
            ],
            [
             1,
             "#276419"
            ]
           ],
           "sequential": [
            [
             0,
             "#0d0887"
            ],
            [
             0.1111111111111111,
             "#46039f"
            ],
            [
             0.2222222222222222,
             "#7201a8"
            ],
            [
             0.3333333333333333,
             "#9c179e"
            ],
            [
             0.4444444444444444,
             "#bd3786"
            ],
            [
             0.5555555555555556,
             "#d8576b"
            ],
            [
             0.6666666666666666,
             "#ed7953"
            ],
            [
             0.7777777777777778,
             "#fb9f3a"
            ],
            [
             0.8888888888888888,
             "#fdca26"
            ],
            [
             1,
             "#f0f921"
            ]
           ],
           "sequentialminus": [
            [
             0,
             "#0d0887"
            ],
            [
             0.1111111111111111,
             "#46039f"
            ],
            [
             0.2222222222222222,
             "#7201a8"
            ],
            [
             0.3333333333333333,
             "#9c179e"
            ],
            [
             0.4444444444444444,
             "#bd3786"
            ],
            [
             0.5555555555555556,
             "#d8576b"
            ],
            [
             0.6666666666666666,
             "#ed7953"
            ],
            [
             0.7777777777777778,
             "#fb9f3a"
            ],
            [
             0.8888888888888888,
             "#fdca26"
            ],
            [
             1,
             "#f0f921"
            ]
           ]
          },
          "colorway": [
           "#636efa",
           "#EF553B",
           "#00cc96",
           "#ab63fa",
           "#FFA15A",
           "#19d3f3",
           "#FF6692",
           "#B6E880",
           "#FF97FF",
           "#FECB52"
          ],
          "font": {
           "color": "#2a3f5f"
          },
          "geo": {
           "bgcolor": "white",
           "lakecolor": "white",
           "landcolor": "#E5ECF6",
           "showlakes": true,
           "showland": true,
           "subunitcolor": "white"
          },
          "hoverlabel": {
           "align": "left"
          },
          "hovermode": "closest",
          "mapbox": {
           "style": "light"
          },
          "paper_bgcolor": "white",
          "plot_bgcolor": "#E5ECF6",
          "polar": {
           "angularaxis": {
            "gridcolor": "white",
            "linecolor": "white",
            "ticks": ""
           },
           "bgcolor": "#E5ECF6",
           "radialaxis": {
            "gridcolor": "white",
            "linecolor": "white",
            "ticks": ""
           }
          },
          "scene": {
           "xaxis": {
            "backgroundcolor": "#E5ECF6",
            "gridcolor": "white",
            "gridwidth": 2,
            "linecolor": "white",
            "showbackground": true,
            "ticks": "",
            "zerolinecolor": "white"
           },
           "yaxis": {
            "backgroundcolor": "#E5ECF6",
            "gridcolor": "white",
            "gridwidth": 2,
            "linecolor": "white",
            "showbackground": true,
            "ticks": "",
            "zerolinecolor": "white"
           },
           "zaxis": {
            "backgroundcolor": "#E5ECF6",
            "gridcolor": "white",
            "gridwidth": 2,
            "linecolor": "white",
            "showbackground": true,
            "ticks": "",
            "zerolinecolor": "white"
           }
          },
          "shapedefaults": {
           "line": {
            "color": "#2a3f5f"
           }
          },
          "ternary": {
           "aaxis": {
            "gridcolor": "white",
            "linecolor": "white",
            "ticks": ""
           },
           "baxis": {
            "gridcolor": "white",
            "linecolor": "white",
            "ticks": ""
           },
           "bgcolor": "#E5ECF6",
           "caxis": {
            "gridcolor": "white",
            "linecolor": "white",
            "ticks": ""
           }
          },
          "title": {
           "x": 0.05
          },
          "xaxis": {
           "automargin": true,
           "gridcolor": "white",
           "linecolor": "white",
           "ticks": "",
           "title": {
            "standoff": 15
           },
           "zerolinecolor": "white",
           "zerolinewidth": 2
          },
          "yaxis": {
           "automargin": true,
           "gridcolor": "white",
           "linecolor": "white",
           "ticks": "",
           "title": {
            "standoff": 15
           },
           "zerolinecolor": "white",
           "zerolinewidth": 2
          }
         }
        },
        "xaxis": {
         "visible": false
        },
        "yaxis": {
         "visible": false
        }
       }
      },
      "text/html": [
       "<div>                            <div id=\"9f8beb56-3c6e-4d85-b868-a04e0e833e98\" class=\"plotly-graph-div\" style=\"height:525px; width:100%;\"></div>            <script type=\"text/javascript\">                require([\"plotly\"], function(Plotly) {                    window.PLOTLYENV=window.PLOTLYENV || {};                                    if (document.getElementById(\"9f8beb56-3c6e-4d85-b868-a04e0e833e98\")) {                    Plotly.newPlot(                        \"9f8beb56-3c6e-4d85-b868-a04e0e833e98\",                        [{\"marker\":{\"color\":\"red\",\"size\":50},\"mode\":\"markers+text\",\"text\":[\"Health_services\",\"Apollo Hospitals Enterprise Limited\",\"Fortis Healthcare Limited\",\"Healthcare Global Enterprises Limited\",\"Krishna Institute of Medical Sciences Limited\",\"Lotus Eye Hospital and Institute Limited\",\"Max Healthcare Institute Limited\",\"Narayana Hrudayalaya Ltd.\",\"Nureca Limited\",\"Poly Medicure Limited\",\"Shalby Limited\",\"Tarsons Products Limited\",\"TVS Electronics Limited\"],\"textposition\":\"bottom center\",\"x\":[-0.013427334013435644,0.9424039015355478,0.6498443250200064,0.49915541026425414,-0.9526631468996519,-1.0,-0.8256384572661397,-0.2870469464013994,0.955516561834262,0.6061589885263674,0.1502605735409554,-0.13024631504068213,-0.5943175611000839],\"y\":[-0.004035246549886454,0.20577207493452188,0.5471402252855132,0.8724919385712477,0.39914246793442054,-0.1399550750017332,-0.6716114511701105,-0.9438274996981734,-0.35856184354281734,-0.712510655552306,-0.8507977760966913,0.8418277260082289,0.814925114877786],\"type\":\"scatter\"},{\"hoverinfo\":\"none\",\"line\":{\"color\":\"black\",\"width\":2},\"mode\":\"lines\",\"x\":[-0.013427334013435644,0.9424039015355478],\"y\":[-0.004035246549886454,0.20577207493452188],\"type\":\"scatter\"},{\"hoverinfo\":\"none\",\"line\":{\"color\":\"black\",\"width\":2},\"mode\":\"lines\",\"x\":[-0.013427334013435644,0.6498443250200064],\"y\":[-0.004035246549886454,0.5471402252855132],\"type\":\"scatter\"},{\"hoverinfo\":\"none\",\"line\":{\"color\":\"black\",\"width\":2},\"mode\":\"lines\",\"x\":[-0.013427334013435644,0.49915541026425414],\"y\":[-0.004035246549886454,0.8724919385712477],\"type\":\"scatter\"},{\"hoverinfo\":\"none\",\"line\":{\"color\":\"black\",\"width\":2},\"mode\":\"lines\",\"x\":[-0.013427334013435644,-0.9526631468996519],\"y\":[-0.004035246549886454,0.39914246793442054],\"type\":\"scatter\"},{\"hoverinfo\":\"none\",\"line\":{\"color\":\"black\",\"width\":2},\"mode\":\"lines\",\"x\":[-0.013427334013435644,-1.0],\"y\":[-0.004035246549886454,-0.1399550750017332],\"type\":\"scatter\"},{\"hoverinfo\":\"none\",\"line\":{\"color\":\"black\",\"width\":2},\"mode\":\"lines\",\"x\":[-0.013427334013435644,-0.8256384572661397],\"y\":[-0.004035246549886454,-0.6716114511701105],\"type\":\"scatter\"},{\"hoverinfo\":\"none\",\"line\":{\"color\":\"black\",\"width\":2},\"mode\":\"lines\",\"x\":[-0.013427334013435644,-0.2870469464013994],\"y\":[-0.004035246549886454,-0.9438274996981734],\"type\":\"scatter\"},{\"hoverinfo\":\"none\",\"line\":{\"color\":\"black\",\"width\":2},\"mode\":\"lines\",\"x\":[-0.013427334013435644,0.955516561834262],\"y\":[-0.004035246549886454,-0.35856184354281734],\"type\":\"scatter\"},{\"hoverinfo\":\"none\",\"line\":{\"color\":\"black\",\"width\":2},\"mode\":\"lines\",\"x\":[-0.013427334013435644,0.6061589885263674],\"y\":[-0.004035246549886454,-0.712510655552306],\"type\":\"scatter\"},{\"hoverinfo\":\"none\",\"line\":{\"color\":\"black\",\"width\":2},\"mode\":\"lines\",\"x\":[-0.013427334013435644,0.1502605735409554],\"y\":[-0.004035246549886454,-0.8507977760966913],\"type\":\"scatter\"},{\"hoverinfo\":\"none\",\"line\":{\"color\":\"black\",\"width\":2},\"mode\":\"lines\",\"x\":[-0.013427334013435644,-0.13024631504068213],\"y\":[-0.004035246549886454,0.8418277260082289],\"type\":\"scatter\"},{\"hoverinfo\":\"none\",\"line\":{\"color\":\"black\",\"width\":2},\"mode\":\"lines\",\"x\":[-0.013427334013435644,-0.5943175611000839],\"y\":[-0.004035246549886454,0.814925114877786],\"type\":\"scatter\"}],                        {\"template\":{\"data\":{\"histogram2dcontour\":[{\"type\":\"histogram2dcontour\",\"colorbar\":{\"outlinewidth\":0,\"ticks\":\"\"},\"colorscale\":[[0.0,\"#0d0887\"],[0.1111111111111111,\"#46039f\"],[0.2222222222222222,\"#7201a8\"],[0.3333333333333333,\"#9c179e\"],[0.4444444444444444,\"#bd3786\"],[0.5555555555555556,\"#d8576b\"],[0.6666666666666666,\"#ed7953\"],[0.7777777777777778,\"#fb9f3a\"],[0.8888888888888888,\"#fdca26\"],[1.0,\"#f0f921\"]]}],\"choropleth\":[{\"type\":\"choropleth\",\"colorbar\":{\"outlinewidth\":0,\"ticks\":\"\"}}],\"histogram2d\":[{\"type\":\"histogram2d\",\"colorbar\":{\"outlinewidth\":0,\"ticks\":\"\"},\"colorscale\":[[0.0,\"#0d0887\"],[0.1111111111111111,\"#46039f\"],[0.2222222222222222,\"#7201a8\"],[0.3333333333333333,\"#9c179e\"],[0.4444444444444444,\"#bd3786\"],[0.5555555555555556,\"#d8576b\"],[0.6666666666666666,\"#ed7953\"],[0.7777777777777778,\"#fb9f3a\"],[0.8888888888888888,\"#fdca26\"],[1.0,\"#f0f921\"]]}],\"heatmap\":[{\"type\":\"heatmap\",\"colorbar\":{\"outlinewidth\":0,\"ticks\":\"\"},\"colorscale\":[[0.0,\"#0d0887\"],[0.1111111111111111,\"#46039f\"],[0.2222222222222222,\"#7201a8\"],[0.3333333333333333,\"#9c179e\"],[0.4444444444444444,\"#bd3786\"],[0.5555555555555556,\"#d8576b\"],[0.6666666666666666,\"#ed7953\"],[0.7777777777777778,\"#fb9f3a\"],[0.8888888888888888,\"#fdca26\"],[1.0,\"#f0f921\"]]}],\"heatmapgl\":[{\"type\":\"heatmapgl\",\"colorbar\":{\"outlinewidth\":0,\"ticks\":\"\"},\"colorscale\":[[0.0,\"#0d0887\"],[0.1111111111111111,\"#46039f\"],[0.2222222222222222,\"#7201a8\"],[0.3333333333333333,\"#9c179e\"],[0.4444444444444444,\"#bd3786\"],[0.5555555555555556,\"#d8576b\"],[0.6666666666666666,\"#ed7953\"],[0.7777777777777778,\"#fb9f3a\"],[0.8888888888888888,\"#fdca26\"],[1.0,\"#f0f921\"]]}],\"contourcarpet\":[{\"type\":\"contourcarpet\",\"colorbar\":{\"outlinewidth\":0,\"ticks\":\"\"}}],\"contour\":[{\"type\":\"contour\",\"colorbar\":{\"outlinewidth\":0,\"ticks\":\"\"},\"colorscale\":[[0.0,\"#0d0887\"],[0.1111111111111111,\"#46039f\"],[0.2222222222222222,\"#7201a8\"],[0.3333333333333333,\"#9c179e\"],[0.4444444444444444,\"#bd3786\"],[0.5555555555555556,\"#d8576b\"],[0.6666666666666666,\"#ed7953\"],[0.7777777777777778,\"#fb9f3a\"],[0.8888888888888888,\"#fdca26\"],[1.0,\"#f0f921\"]]}],\"surface\":[{\"type\":\"surface\",\"colorbar\":{\"outlinewidth\":0,\"ticks\":\"\"},\"colorscale\":[[0.0,\"#0d0887\"],[0.1111111111111111,\"#46039f\"],[0.2222222222222222,\"#7201a8\"],[0.3333333333333333,\"#9c179e\"],[0.4444444444444444,\"#bd3786\"],[0.5555555555555556,\"#d8576b\"],[0.6666666666666666,\"#ed7953\"],[0.7777777777777778,\"#fb9f3a\"],[0.8888888888888888,\"#fdca26\"],[1.0,\"#f0f921\"]]}],\"mesh3d\":[{\"type\":\"mesh3d\",\"colorbar\":{\"outlinewidth\":0,\"ticks\":\"\"}}],\"scatter\":[{\"fillpattern\":{\"fillmode\":\"overlay\",\"size\":10,\"solidity\":0.2},\"type\":\"scatter\"}],\"parcoords\":[{\"type\":\"parcoords\",\"line\":{\"colorbar\":{\"outlinewidth\":0,\"ticks\":\"\"}}}],\"scatterpolargl\":[{\"type\":\"scatterpolargl\",\"marker\":{\"colorbar\":{\"outlinewidth\":0,\"ticks\":\"\"}}}],\"bar\":[{\"error_x\":{\"color\":\"#2a3f5f\"},\"error_y\":{\"color\":\"#2a3f5f\"},\"marker\":{\"line\":{\"color\":\"#E5ECF6\",\"width\":0.5},\"pattern\":{\"fillmode\":\"overlay\",\"size\":10,\"solidity\":0.2}},\"type\":\"bar\"}],\"scattergeo\":[{\"type\":\"scattergeo\",\"marker\":{\"colorbar\":{\"outlinewidth\":0,\"ticks\":\"\"}}}],\"scatterpolar\":[{\"type\":\"scatterpolar\",\"marker\":{\"colorbar\":{\"outlinewidth\":0,\"ticks\":\"\"}}}],\"histogram\":[{\"marker\":{\"pattern\":{\"fillmode\":\"overlay\",\"size\":10,\"solidity\":0.2}},\"type\":\"histogram\"}],\"scattergl\":[{\"type\":\"scattergl\",\"marker\":{\"colorbar\":{\"outlinewidth\":0,\"ticks\":\"\"}}}],\"scatter3d\":[{\"type\":\"scatter3d\",\"line\":{\"colorbar\":{\"outlinewidth\":0,\"ticks\":\"\"}},\"marker\":{\"colorbar\":{\"outlinewidth\":0,\"ticks\":\"\"}}}],\"scattermapbox\":[{\"type\":\"scattermapbox\",\"marker\":{\"colorbar\":{\"outlinewidth\":0,\"ticks\":\"\"}}}],\"scatterternary\":[{\"type\":\"scatterternary\",\"marker\":{\"colorbar\":{\"outlinewidth\":0,\"ticks\":\"\"}}}],\"scattercarpet\":[{\"type\":\"scattercarpet\",\"marker\":{\"colorbar\":{\"outlinewidth\":0,\"ticks\":\"\"}}}],\"carpet\":[{\"aaxis\":{\"endlinecolor\":\"#2a3f5f\",\"gridcolor\":\"white\",\"linecolor\":\"white\",\"minorgridcolor\":\"white\",\"startlinecolor\":\"#2a3f5f\"},\"baxis\":{\"endlinecolor\":\"#2a3f5f\",\"gridcolor\":\"white\",\"linecolor\":\"white\",\"minorgridcolor\":\"white\",\"startlinecolor\":\"#2a3f5f\"},\"type\":\"carpet\"}],\"table\":[{\"cells\":{\"fill\":{\"color\":\"#EBF0F8\"},\"line\":{\"color\":\"white\"}},\"header\":{\"fill\":{\"color\":\"#C8D4E3\"},\"line\":{\"color\":\"white\"}},\"type\":\"table\"}],\"barpolar\":[{\"marker\":{\"line\":{\"color\":\"#E5ECF6\",\"width\":0.5},\"pattern\":{\"fillmode\":\"overlay\",\"size\":10,\"solidity\":0.2}},\"type\":\"barpolar\"}],\"pie\":[{\"automargin\":true,\"type\":\"pie\"}]},\"layout\":{\"autotypenumbers\":\"strict\",\"colorway\":[\"#636efa\",\"#EF553B\",\"#00cc96\",\"#ab63fa\",\"#FFA15A\",\"#19d3f3\",\"#FF6692\",\"#B6E880\",\"#FF97FF\",\"#FECB52\"],\"font\":{\"color\":\"#2a3f5f\"},\"hovermode\":\"closest\",\"hoverlabel\":{\"align\":\"left\"},\"paper_bgcolor\":\"white\",\"plot_bgcolor\":\"#E5ECF6\",\"polar\":{\"bgcolor\":\"#E5ECF6\",\"angularaxis\":{\"gridcolor\":\"white\",\"linecolor\":\"white\",\"ticks\":\"\"},\"radialaxis\":{\"gridcolor\":\"white\",\"linecolor\":\"white\",\"ticks\":\"\"}},\"ternary\":{\"bgcolor\":\"#E5ECF6\",\"aaxis\":{\"gridcolor\":\"white\",\"linecolor\":\"white\",\"ticks\":\"\"},\"baxis\":{\"gridcolor\":\"white\",\"linecolor\":\"white\",\"ticks\":\"\"},\"caxis\":{\"gridcolor\":\"white\",\"linecolor\":\"white\",\"ticks\":\"\"}},\"coloraxis\":{\"colorbar\":{\"outlinewidth\":0,\"ticks\":\"\"}},\"colorscale\":{\"sequential\":[[0.0,\"#0d0887\"],[0.1111111111111111,\"#46039f\"],[0.2222222222222222,\"#7201a8\"],[0.3333333333333333,\"#9c179e\"],[0.4444444444444444,\"#bd3786\"],[0.5555555555555556,\"#d8576b\"],[0.6666666666666666,\"#ed7953\"],[0.7777777777777778,\"#fb9f3a\"],[0.8888888888888888,\"#fdca26\"],[1.0,\"#f0f921\"]],\"sequentialminus\":[[0.0,\"#0d0887\"],[0.1111111111111111,\"#46039f\"],[0.2222222222222222,\"#7201a8\"],[0.3333333333333333,\"#9c179e\"],[0.4444444444444444,\"#bd3786\"],[0.5555555555555556,\"#d8576b\"],[0.6666666666666666,\"#ed7953\"],[0.7777777777777778,\"#fb9f3a\"],[0.8888888888888888,\"#fdca26\"],[1.0,\"#f0f921\"]],\"diverging\":[[0,\"#8e0152\"],[0.1,\"#c51b7d\"],[0.2,\"#de77ae\"],[0.3,\"#f1b6da\"],[0.4,\"#fde0ef\"],[0.5,\"#f7f7f7\"],[0.6,\"#e6f5d0\"],[0.7,\"#b8e186\"],[0.8,\"#7fbc41\"],[0.9,\"#4d9221\"],[1,\"#276419\"]]},\"xaxis\":{\"gridcolor\":\"white\",\"linecolor\":\"white\",\"ticks\":\"\",\"title\":{\"standoff\":15},\"zerolinecolor\":\"white\",\"automargin\":true,\"zerolinewidth\":2},\"yaxis\":{\"gridcolor\":\"white\",\"linecolor\":\"white\",\"ticks\":\"\",\"title\":{\"standoff\":15},\"zerolinecolor\":\"white\",\"automargin\":true,\"zerolinewidth\":2},\"scene\":{\"xaxis\":{\"backgroundcolor\":\"#E5ECF6\",\"gridcolor\":\"white\",\"linecolor\":\"white\",\"showbackground\":true,\"ticks\":\"\",\"zerolinecolor\":\"white\",\"gridwidth\":2},\"yaxis\":{\"backgroundcolor\":\"#E5ECF6\",\"gridcolor\":\"white\",\"linecolor\":\"white\",\"showbackground\":true,\"ticks\":\"\",\"zerolinecolor\":\"white\",\"gridwidth\":2},\"zaxis\":{\"backgroundcolor\":\"#E5ECF6\",\"gridcolor\":\"white\",\"linecolor\":\"white\",\"showbackground\":true,\"ticks\":\"\",\"zerolinecolor\":\"white\",\"gridwidth\":2}},\"shapedefaults\":{\"line\":{\"color\":\"#2a3f5f\"}},\"annotationdefaults\":{\"arrowcolor\":\"#2a3f5f\",\"arrowhead\":0,\"arrowwidth\":1},\"geo\":{\"bgcolor\":\"white\",\"landcolor\":\"#E5ECF6\",\"subunitcolor\":\"white\",\"showland\":true,\"showlakes\":true,\"lakecolor\":\"white\"},\"title\":{\"x\":0.05},\"mapbox\":{\"style\":\"light\"}}},\"xaxis\":{\"visible\":false},\"yaxis\":{\"visible\":false},\"showlegend\":false},                        {\"responsive\": true}                    ).then(function(){\n",
       "                            \n",
       "var gd = document.getElementById('9f8beb56-3c6e-4d85-b868-a04e0e833e98');\n",
       "var x = new MutationObserver(function (mutations, observer) {{\n",
       "        var display = window.getComputedStyle(gd).display;\n",
       "        if (!display || display === 'none') {{\n",
       "            console.log([gd, 'removed!']);\n",
       "            Plotly.purge(gd);\n",
       "            observer.disconnect();\n",
       "        }}\n",
       "}});\n",
       "\n",
       "// Listen for the removal of the full notebook cells\n",
       "var notebookContainer = gd.closest('#notebook-container');\n",
       "if (notebookContainer) {{\n",
       "    x.observe(notebookContainer, {childList: true});\n",
       "}}\n",
       "\n",
       "// Listen for the clearing of the current output cell\n",
       "var outputEl = gd.closest('.output');\n",
       "if (outputEl) {{\n",
       "    x.observe(outputEl, {childList: true});\n",
       "}}\n",
       "\n",
       "                        })                };                });            </script>        </div>"
      ]
     },
     "metadata": {},
     "output_type": "display_data"
    }
   ],
   "source": [
    "central_node = \"Health_services\"\n",
    "stocks = health\n",
    "\n",
    "# Create NetworkX graph (directed from central node to stocks)\n",
    "G = nx.DiGraph()\n",
    "\n",
    "# Add central node  \n",
    "G.add_node(central_node)\n",
    "\n",
    "# Add stock nodes and connect them to the central node\n",
    "for stock in stocks:\n",
    "    G.add_node(stock)\n",
    "    G.add_edge(central_node, stock)\n",
    "\n",
    "# Layout algorithm\n",
    "pos = nx.spring_layout(G, k=0.7, pos={central_node: (0, 0)}, seed=150)  \n",
    "# Adjust k and seed for desired visual arrangement\n",
    "\n",
    "# Convert positions for Plotly\n",
    "plotly_pos = {node: np.array(pos[node]) for node in G.nodes()}\n",
    "\n",
    "# Create Plotly figure\n",
    "fig = go.Figure()\n",
    "\n",
    "# Add nodes\n",
    "fig.add_trace(go.Scatter(x=[pos[0] for pos in plotly_pos.values()],  \n",
    "                         y=[pos[1] for pos in plotly_pos.values()],\n",
    "                         mode='markers+text',\n",
    "                         text=list(G.nodes()),\n",
    "                         textposition='bottom center',\n",
    "                         marker=dict(size=50, color = \"red\")\n",
    "                         ))\n",
    "\n",
    "# Add edges\n",
    "for edge in G.edges:\n",
    "    x0, y0 = plotly_pos[edge[0]]\n",
    "    x1, y1 = plotly_pos[edge[1]]\n",
    "    fig.add_trace(go.Scatter(x=[x0, x1], y=[y0, y1],\n",
    "                             mode='lines',\n",
    "                             line=dict(color='black', width=2),\n",
    "                             hoverinfo='none')) \n",
    "\n",
    "# Customize layout\n",
    "fig.update_layout(showlegend=False,\n",
    "                  xaxis=dict(visible=False), yaxis=dict(visible=False))\n",
    "\n",
    "fig.show()\n"
   ]
  },
  {
   "cell_type": "code",
   "execution_count": 193,
   "id": "ebd0f07e",
   "metadata": {},
   "outputs": [
    {
     "data": {
      "application/vnd.plotly.v1+json": {
       "config": {
        "plotlyServerURL": "https://plot.ly"
       },
       "data": [
        {
         "marker": {
          "size": 50
         },
         "mode": "markers",
         "text": [
          "Tech Sector Surges on AI News",
          "Technology Services",
          "Finance",
          "Healthcare",
          "360 ONE WAM LIMITED",
          "Abans Holdings Limited",
          "Avonmore Capital & Management Services Limited",
          "Baid Finserv Limited",
          "CMS Info Systems Limited",
          "CSL Finance Limited",
          "Eldeco Housing And Industries Limited",
          "Five-Star Business Finance Limited",
          "Fusion Micro Finance Limited",
          "Indiabulls Enterprises Limited",
          "Life Insurance Corporation Of India",
          "Monarch Networth Capital Limited",
          "Mufin Green Finance Limited",
          "Prudent Corporate Advisory Services Limited",
          "Keystone Realtors Limited",
          "Suratwwala Business Group Limited",
          "Shriram Finance Limited",
          "SRG Housing Finance Limited",
          "Tamilnad Mercantile Bank Limited",
          "TruCap Finance Limited",
          "Apollo Hospitals Enterprise Limited",
          "Fortis Healthcare Limited",
          "Healthcare Global Enterprises Limited",
          "Krishna Institute of Medical Sciences Limited",
          "Lotus Eye Hospital and Institute Limited",
          "Max Healthcare Institute Limited",
          "Narayana Hrudayalaya Ltd.",
          "Nureca Limited",
          "Poly Medicure Limited",
          "Shalby Limited",
          "Tarsons Products Limited",
          "TVS Electronics Limited",
          "Ace Integrated Solutions Limited",
          "Cigniti Technologies Limited",
          "Dev Information Technology Limited",
          "eMudhra Limited",
          "InfoBeans Technologies Limited",
          "Kfin Technologies Limited",
          "Ksolves India Limited",
          "Mold-Tek Technologies Limited",
          "NINtec Systems Limited",
          "Palred Technologies Limited",
          "R Systems International Limited",
          "Sigma Solve Limited",
          "Silver Touch Technologies Limited",
          "Tracxn Technologies Limited",
          "Virinchi Limited"
         ],
         "textposition": "bottom center",
         "type": "scatter",
         "x": [
          10,
          5.538429831988936,
          4.327095601741058,
          4.17956220613768,
          -1.0023549276362327,
          -0.8002787160668196,
          -0.6039583801387215,
          -0.4405021358519159,
          -0.3324383497806371,
          -0.2977121240404828,
          -0.3483091614215091,
          -0.4877516948508358,
          -0.7048880353940151,
          -0.9682075273935806,
          -1.2291591259686372,
          -1.4398051817749231,
          -1.576313150474112,
          -1.6462947244262245,
          -1.6738662942019826,
          -1.6789537732110202,
          -1.6663852766535858,
          -1.6256767086768964,
          -1.5363594176000932,
          -1.3750486359240144,
          -1.8050498240672372,
          -1.816134563262495,
          -1.8164969748797883,
          -1.8052718032272188,
          -1.761636697673231,
          -1.6535292308796312,
          -1.472790883518564,
          -1.2626052361871745,
          -1.092397382462103,
          -1.0093019599674935,
          -1.0206335544418745,
          -1.107064299204163,
          0.2897418144889619,
          0.3249243977659486,
          0.38794839184453345,
          0.47052003531775055,
          0.5682600536017705,
          0.6795959522742887,
          0.8044616509912117,
          0.9428465136604515,
          1.0933319080712054,
          1.2518097140044133,
          1.4107206052908996,
          1.5590944470814103,
          1.6832637534983006,
          1.7665075379379966,
          1.779061335560397
         ],
         "y": [
          1.4328208202455939,
          -2.587173767601876,
          3.546523281177612,
          -0.1922986848777245,
          6.285541281487434,
          6.660398741785319,
          6.974980141511844,
          7.208428789273237,
          7.350260894720208,
          7.392127274641711,
          7.323786599518408,
          7.131160339569891,
          6.801019580269358,
          6.333335801869677,
          5.757571461967866,
          5.14173118641869,
          4.577548757512944,
          4.148069701558958,
          3.90292975393663,
          3.857435763898152,
          4.0043929109790195,
          4.324417862887351,
          4.789980114211445,
          5.366666151884087,
          -0.47474583671830434,
          -0.2794439847497322,
          -0.2640067680719649,
          -0.4652596534065312,
          -0.891134985799435,
          -1.4870135890881482,
          -2.1282204234323303,
          -2.6729054011530113,
          -3.0333156277473465,
          -3.192639617057317,
          -3.1746195901886627,
          -3.0127197663856813,
          -5.5367650519877225,
          -5.58474823933983,
          -5.679853944268618,
          -5.803736575925823,
          -5.9455226943549135,
          -6.099661275674865,
          -6.263287485819468,
          -6.4338764927528,
          -6.607575414869248,
          -6.778384056914454,
          -6.938266934773508,
          -7.077968141329576,
          -7.187832566436763,
          -7.256724585624286,
          -7.261426054975506
         ]
        },
        {
         "hoverinfo": "none",
         "line": {
          "color": "black",
          "width": 2
         },
         "mode": "lines",
         "type": "scatter",
         "x": [
          10,
          5.538429831988936
         ],
         "y": [
          1.4328208202455939,
          -2.587173767601876
         ]
        },
        {
         "hoverinfo": "none",
         "line": {
          "color": "black",
          "width": 2
         },
         "mode": "lines",
         "type": "scatter",
         "x": [
          10,
          4.327095601741058
         ],
         "y": [
          1.4328208202455939,
          3.546523281177612
         ]
        },
        {
         "hoverinfo": "none",
         "line": {
          "color": "black",
          "width": 2
         },
         "mode": "lines",
         "type": "scatter",
         "x": [
          10,
          4.17956220613768
         ],
         "y": [
          1.4328208202455939,
          -0.1922986848777245
         ]
        },
        {
         "hoverinfo": "none",
         "line": {
          "color": "black",
          "width": 2
         },
         "mode": "lines",
         "type": "scatter",
         "x": [
          5.538429831988936,
          0.2897418144889619
         ],
         "y": [
          -2.587173767601876,
          -5.5367650519877225
         ]
        },
        {
         "hoverinfo": "none",
         "line": {
          "color": "black",
          "width": 2
         },
         "mode": "lines",
         "type": "scatter",
         "x": [
          5.538429831988936,
          0.3249243977659486
         ],
         "y": [
          -2.587173767601876,
          -5.58474823933983
         ]
        },
        {
         "hoverinfo": "none",
         "line": {
          "color": "black",
          "width": 2
         },
         "mode": "lines",
         "type": "scatter",
         "x": [
          5.538429831988936,
          0.38794839184453345
         ],
         "y": [
          -2.587173767601876,
          -5.679853944268618
         ]
        },
        {
         "hoverinfo": "none",
         "line": {
          "color": "black",
          "width": 2
         },
         "mode": "lines",
         "type": "scatter",
         "x": [
          5.538429831988936,
          0.47052003531775055
         ],
         "y": [
          -2.587173767601876,
          -5.803736575925823
         ]
        },
        {
         "hoverinfo": "none",
         "line": {
          "color": "black",
          "width": 2
         },
         "mode": "lines",
         "type": "scatter",
         "x": [
          5.538429831988936,
          0.5682600536017705
         ],
         "y": [
          -2.587173767601876,
          -5.9455226943549135
         ]
        },
        {
         "hoverinfo": "none",
         "line": {
          "color": "black",
          "width": 2
         },
         "mode": "lines",
         "type": "scatter",
         "x": [
          5.538429831988936,
          0.6795959522742887
         ],
         "y": [
          -2.587173767601876,
          -6.099661275674865
         ]
        },
        {
         "hoverinfo": "none",
         "line": {
          "color": "black",
          "width": 2
         },
         "mode": "lines",
         "type": "scatter",
         "x": [
          5.538429831988936,
          0.8044616509912117
         ],
         "y": [
          -2.587173767601876,
          -6.263287485819468
         ]
        },
        {
         "hoverinfo": "none",
         "line": {
          "color": "black",
          "width": 2
         },
         "mode": "lines",
         "type": "scatter",
         "x": [
          5.538429831988936,
          0.9428465136604515
         ],
         "y": [
          -2.587173767601876,
          -6.4338764927528
         ]
        },
        {
         "hoverinfo": "none",
         "line": {
          "color": "black",
          "width": 2
         },
         "mode": "lines",
         "type": "scatter",
         "x": [
          5.538429831988936,
          1.0933319080712054
         ],
         "y": [
          -2.587173767601876,
          -6.607575414869248
         ]
        },
        {
         "hoverinfo": "none",
         "line": {
          "color": "black",
          "width": 2
         },
         "mode": "lines",
         "type": "scatter",
         "x": [
          5.538429831988936,
          1.2518097140044133
         ],
         "y": [
          -2.587173767601876,
          -6.778384056914454
         ]
        },
        {
         "hoverinfo": "none",
         "line": {
          "color": "black",
          "width": 2
         },
         "mode": "lines",
         "type": "scatter",
         "x": [
          5.538429831988936,
          1.4107206052908996
         ],
         "y": [
          -2.587173767601876,
          -6.938266934773508
         ]
        },
        {
         "hoverinfo": "none",
         "line": {
          "color": "black",
          "width": 2
         },
         "mode": "lines",
         "type": "scatter",
         "x": [
          5.538429831988936,
          1.5590944470814103
         ],
         "y": [
          -2.587173767601876,
          -7.077968141329576
         ]
        },
        {
         "hoverinfo": "none",
         "line": {
          "color": "black",
          "width": 2
         },
         "mode": "lines",
         "type": "scatter",
         "x": [
          5.538429831988936,
          1.6832637534983006
         ],
         "y": [
          -2.587173767601876,
          -7.187832566436763
         ]
        },
        {
         "hoverinfo": "none",
         "line": {
          "color": "black",
          "width": 2
         },
         "mode": "lines",
         "type": "scatter",
         "x": [
          5.538429831988936,
          1.7665075379379966
         ],
         "y": [
          -2.587173767601876,
          -7.256724585624286
         ]
        },
        {
         "hoverinfo": "none",
         "line": {
          "color": "black",
          "width": 2
         },
         "mode": "lines",
         "type": "scatter",
         "x": [
          5.538429831988936,
          1.779061335560397
         ],
         "y": [
          -2.587173767601876,
          -7.261426054975506
         ]
        },
        {
         "hoverinfo": "none",
         "line": {
          "color": "black",
          "width": 2
         },
         "mode": "lines",
         "type": "scatter",
         "x": [
          4.327095601741058,
          -1.0023549276362327
         ],
         "y": [
          3.546523281177612,
          6.285541281487434
         ]
        },
        {
         "hoverinfo": "none",
         "line": {
          "color": "black",
          "width": 2
         },
         "mode": "lines",
         "type": "scatter",
         "x": [
          4.327095601741058,
          -0.8002787160668196
         ],
         "y": [
          3.546523281177612,
          6.660398741785319
         ]
        },
        {
         "hoverinfo": "none",
         "line": {
          "color": "black",
          "width": 2
         },
         "mode": "lines",
         "type": "scatter",
         "x": [
          4.327095601741058,
          -0.6039583801387215
         ],
         "y": [
          3.546523281177612,
          6.974980141511844
         ]
        },
        {
         "hoverinfo": "none",
         "line": {
          "color": "black",
          "width": 2
         },
         "mode": "lines",
         "type": "scatter",
         "x": [
          4.327095601741058,
          -0.4405021358519159
         ],
         "y": [
          3.546523281177612,
          7.208428789273237
         ]
        },
        {
         "hoverinfo": "none",
         "line": {
          "color": "black",
          "width": 2
         },
         "mode": "lines",
         "type": "scatter",
         "x": [
          4.327095601741058,
          -0.3324383497806371
         ],
         "y": [
          3.546523281177612,
          7.350260894720208
         ]
        },
        {
         "hoverinfo": "none",
         "line": {
          "color": "black",
          "width": 2
         },
         "mode": "lines",
         "type": "scatter",
         "x": [
          4.327095601741058,
          -0.2977121240404828
         ],
         "y": [
          3.546523281177612,
          7.392127274641711
         ]
        },
        {
         "hoverinfo": "none",
         "line": {
          "color": "black",
          "width": 2
         },
         "mode": "lines",
         "type": "scatter",
         "x": [
          4.327095601741058,
          -0.3483091614215091
         ],
         "y": [
          3.546523281177612,
          7.323786599518408
         ]
        },
        {
         "hoverinfo": "none",
         "line": {
          "color": "black",
          "width": 2
         },
         "mode": "lines",
         "type": "scatter",
         "x": [
          4.327095601741058,
          -0.4877516948508358
         ],
         "y": [
          3.546523281177612,
          7.131160339569891
         ]
        },
        {
         "hoverinfo": "none",
         "line": {
          "color": "black",
          "width": 2
         },
         "mode": "lines",
         "type": "scatter",
         "x": [
          4.327095601741058,
          -0.7048880353940151
         ],
         "y": [
          3.546523281177612,
          6.801019580269358
         ]
        },
        {
         "hoverinfo": "none",
         "line": {
          "color": "black",
          "width": 2
         },
         "mode": "lines",
         "type": "scatter",
         "x": [
          4.327095601741058,
          -0.9682075273935806
         ],
         "y": [
          3.546523281177612,
          6.333335801869677
         ]
        },
        {
         "hoverinfo": "none",
         "line": {
          "color": "black",
          "width": 2
         },
         "mode": "lines",
         "type": "scatter",
         "x": [
          4.327095601741058,
          -1.2291591259686372
         ],
         "y": [
          3.546523281177612,
          5.757571461967866
         ]
        },
        {
         "hoverinfo": "none",
         "line": {
          "color": "black",
          "width": 2
         },
         "mode": "lines",
         "type": "scatter",
         "x": [
          4.327095601741058,
          -1.4398051817749231
         ],
         "y": [
          3.546523281177612,
          5.14173118641869
         ]
        },
        {
         "hoverinfo": "none",
         "line": {
          "color": "black",
          "width": 2
         },
         "mode": "lines",
         "type": "scatter",
         "x": [
          4.327095601741058,
          -1.576313150474112
         ],
         "y": [
          3.546523281177612,
          4.577548757512944
         ]
        },
        {
         "hoverinfo": "none",
         "line": {
          "color": "black",
          "width": 2
         },
         "mode": "lines",
         "type": "scatter",
         "x": [
          4.327095601741058,
          -1.6462947244262245
         ],
         "y": [
          3.546523281177612,
          4.148069701558958
         ]
        },
        {
         "hoverinfo": "none",
         "line": {
          "color": "black",
          "width": 2
         },
         "mode": "lines",
         "type": "scatter",
         "x": [
          4.327095601741058,
          -1.6738662942019826
         ],
         "y": [
          3.546523281177612,
          3.90292975393663
         ]
        },
        {
         "hoverinfo": "none",
         "line": {
          "color": "black",
          "width": 2
         },
         "mode": "lines",
         "type": "scatter",
         "x": [
          4.327095601741058,
          -1.6789537732110202
         ],
         "y": [
          3.546523281177612,
          3.857435763898152
         ]
        },
        {
         "hoverinfo": "none",
         "line": {
          "color": "black",
          "width": 2
         },
         "mode": "lines",
         "type": "scatter",
         "x": [
          4.327095601741058,
          -1.6663852766535858
         ],
         "y": [
          3.546523281177612,
          4.0043929109790195
         ]
        },
        {
         "hoverinfo": "none",
         "line": {
          "color": "black",
          "width": 2
         },
         "mode": "lines",
         "type": "scatter",
         "x": [
          4.327095601741058,
          -1.6256767086768964
         ],
         "y": [
          3.546523281177612,
          4.324417862887351
         ]
        },
        {
         "hoverinfo": "none",
         "line": {
          "color": "black",
          "width": 2
         },
         "mode": "lines",
         "type": "scatter",
         "x": [
          4.327095601741058,
          -1.5363594176000932
         ],
         "y": [
          3.546523281177612,
          4.789980114211445
         ]
        },
        {
         "hoverinfo": "none",
         "line": {
          "color": "black",
          "width": 2
         },
         "mode": "lines",
         "type": "scatter",
         "x": [
          4.327095601741058,
          -1.3750486359240144
         ],
         "y": [
          3.546523281177612,
          5.366666151884087
         ]
        },
        {
         "hoverinfo": "none",
         "line": {
          "color": "black",
          "width": 2
         },
         "mode": "lines",
         "type": "scatter",
         "x": [
          4.17956220613768,
          -1.8050498240672372
         ],
         "y": [
          -0.1922986848777245,
          -0.47474583671830434
         ]
        },
        {
         "hoverinfo": "none",
         "line": {
          "color": "black",
          "width": 2
         },
         "mode": "lines",
         "type": "scatter",
         "x": [
          4.17956220613768,
          -1.816134563262495
         ],
         "y": [
          -0.1922986848777245,
          -0.2794439847497322
         ]
        },
        {
         "hoverinfo": "none",
         "line": {
          "color": "black",
          "width": 2
         },
         "mode": "lines",
         "type": "scatter",
         "x": [
          4.17956220613768,
          -1.8164969748797883
         ],
         "y": [
          -0.1922986848777245,
          -0.2640067680719649
         ]
        },
        {
         "hoverinfo": "none",
         "line": {
          "color": "black",
          "width": 2
         },
         "mode": "lines",
         "type": "scatter",
         "x": [
          4.17956220613768,
          -1.8052718032272188
         ],
         "y": [
          -0.1922986848777245,
          -0.4652596534065312
         ]
        },
        {
         "hoverinfo": "none",
         "line": {
          "color": "black",
          "width": 2
         },
         "mode": "lines",
         "type": "scatter",
         "x": [
          4.17956220613768,
          -1.761636697673231
         ],
         "y": [
          -0.1922986848777245,
          -0.891134985799435
         ]
        },
        {
         "hoverinfo": "none",
         "line": {
          "color": "black",
          "width": 2
         },
         "mode": "lines",
         "type": "scatter",
         "x": [
          4.17956220613768,
          -1.6535292308796312
         ],
         "y": [
          -0.1922986848777245,
          -1.4870135890881482
         ]
        },
        {
         "hoverinfo": "none",
         "line": {
          "color": "black",
          "width": 2
         },
         "mode": "lines",
         "type": "scatter",
         "x": [
          4.17956220613768,
          -1.472790883518564
         ],
         "y": [
          -0.1922986848777245,
          -2.1282204234323303
         ]
        },
        {
         "hoverinfo": "none",
         "line": {
          "color": "black",
          "width": 2
         },
         "mode": "lines",
         "type": "scatter",
         "x": [
          4.17956220613768,
          -1.2626052361871745
         ],
         "y": [
          -0.1922986848777245,
          -2.6729054011530113
         ]
        },
        {
         "hoverinfo": "none",
         "line": {
          "color": "black",
          "width": 2
         },
         "mode": "lines",
         "type": "scatter",
         "x": [
          4.17956220613768,
          -1.092397382462103
         ],
         "y": [
          -0.1922986848777245,
          -3.0333156277473465
         ]
        },
        {
         "hoverinfo": "none",
         "line": {
          "color": "black",
          "width": 2
         },
         "mode": "lines",
         "type": "scatter",
         "x": [
          4.17956220613768,
          -1.0093019599674935
         ],
         "y": [
          -0.1922986848777245,
          -3.192639617057317
         ]
        },
        {
         "hoverinfo": "none",
         "line": {
          "color": "black",
          "width": 2
         },
         "mode": "lines",
         "type": "scatter",
         "x": [
          4.17956220613768,
          -1.0206335544418745
         ],
         "y": [
          -0.1922986848777245,
          -3.1746195901886627
         ]
        },
        {
         "hoverinfo": "none",
         "line": {
          "color": "black",
          "width": 2
         },
         "mode": "lines",
         "type": "scatter",
         "x": [
          4.17956220613768,
          -1.107064299204163
         ],
         "y": [
          -0.1922986848777245,
          -3.0127197663856813
         ]
        }
       ],
       "layout": {
        "showlegend": false,
        "template": {
         "data": {
          "bar": [
           {
            "error_x": {
             "color": "#2a3f5f"
            },
            "error_y": {
             "color": "#2a3f5f"
            },
            "marker": {
             "line": {
              "color": "#E5ECF6",
              "width": 0.5
             },
             "pattern": {
              "fillmode": "overlay",
              "size": 10,
              "solidity": 0.2
             }
            },
            "type": "bar"
           }
          ],
          "barpolar": [
           {
            "marker": {
             "line": {
              "color": "#E5ECF6",
              "width": 0.5
             },
             "pattern": {
              "fillmode": "overlay",
              "size": 10,
              "solidity": 0.2
             }
            },
            "type": "barpolar"
           }
          ],
          "carpet": [
           {
            "aaxis": {
             "endlinecolor": "#2a3f5f",
             "gridcolor": "white",
             "linecolor": "white",
             "minorgridcolor": "white",
             "startlinecolor": "#2a3f5f"
            },
            "baxis": {
             "endlinecolor": "#2a3f5f",
             "gridcolor": "white",
             "linecolor": "white",
             "minorgridcolor": "white",
             "startlinecolor": "#2a3f5f"
            },
            "type": "carpet"
           }
          ],
          "choropleth": [
           {
            "colorbar": {
             "outlinewidth": 0,
             "ticks": ""
            },
            "type": "choropleth"
           }
          ],
          "contour": [
           {
            "colorbar": {
             "outlinewidth": 0,
             "ticks": ""
            },
            "colorscale": [
             [
              0,
              "#0d0887"
             ],
             [
              0.1111111111111111,
              "#46039f"
             ],
             [
              0.2222222222222222,
              "#7201a8"
             ],
             [
              0.3333333333333333,
              "#9c179e"
             ],
             [
              0.4444444444444444,
              "#bd3786"
             ],
             [
              0.5555555555555556,
              "#d8576b"
             ],
             [
              0.6666666666666666,
              "#ed7953"
             ],
             [
              0.7777777777777778,
              "#fb9f3a"
             ],
             [
              0.8888888888888888,
              "#fdca26"
             ],
             [
              1,
              "#f0f921"
             ]
            ],
            "type": "contour"
           }
          ],
          "contourcarpet": [
           {
            "colorbar": {
             "outlinewidth": 0,
             "ticks": ""
            },
            "type": "contourcarpet"
           }
          ],
          "heatmap": [
           {
            "colorbar": {
             "outlinewidth": 0,
             "ticks": ""
            },
            "colorscale": [
             [
              0,
              "#0d0887"
             ],
             [
              0.1111111111111111,
              "#46039f"
             ],
             [
              0.2222222222222222,
              "#7201a8"
             ],
             [
              0.3333333333333333,
              "#9c179e"
             ],
             [
              0.4444444444444444,
              "#bd3786"
             ],
             [
              0.5555555555555556,
              "#d8576b"
             ],
             [
              0.6666666666666666,
              "#ed7953"
             ],
             [
              0.7777777777777778,
              "#fb9f3a"
             ],
             [
              0.8888888888888888,
              "#fdca26"
             ],
             [
              1,
              "#f0f921"
             ]
            ],
            "type": "heatmap"
           }
          ],
          "heatmapgl": [
           {
            "colorbar": {
             "outlinewidth": 0,
             "ticks": ""
            },
            "colorscale": [
             [
              0,
              "#0d0887"
             ],
             [
              0.1111111111111111,
              "#46039f"
             ],
             [
              0.2222222222222222,
              "#7201a8"
             ],
             [
              0.3333333333333333,
              "#9c179e"
             ],
             [
              0.4444444444444444,
              "#bd3786"
             ],
             [
              0.5555555555555556,
              "#d8576b"
             ],
             [
              0.6666666666666666,
              "#ed7953"
             ],
             [
              0.7777777777777778,
              "#fb9f3a"
             ],
             [
              0.8888888888888888,
              "#fdca26"
             ],
             [
              1,
              "#f0f921"
             ]
            ],
            "type": "heatmapgl"
           }
          ],
          "histogram": [
           {
            "marker": {
             "pattern": {
              "fillmode": "overlay",
              "size": 10,
              "solidity": 0.2
             }
            },
            "type": "histogram"
           }
          ],
          "histogram2d": [
           {
            "colorbar": {
             "outlinewidth": 0,
             "ticks": ""
            },
            "colorscale": [
             [
              0,
              "#0d0887"
             ],
             [
              0.1111111111111111,
              "#46039f"
             ],
             [
              0.2222222222222222,
              "#7201a8"
             ],
             [
              0.3333333333333333,
              "#9c179e"
             ],
             [
              0.4444444444444444,
              "#bd3786"
             ],
             [
              0.5555555555555556,
              "#d8576b"
             ],
             [
              0.6666666666666666,
              "#ed7953"
             ],
             [
              0.7777777777777778,
              "#fb9f3a"
             ],
             [
              0.8888888888888888,
              "#fdca26"
             ],
             [
              1,
              "#f0f921"
             ]
            ],
            "type": "histogram2d"
           }
          ],
          "histogram2dcontour": [
           {
            "colorbar": {
             "outlinewidth": 0,
             "ticks": ""
            },
            "colorscale": [
             [
              0,
              "#0d0887"
             ],
             [
              0.1111111111111111,
              "#46039f"
             ],
             [
              0.2222222222222222,
              "#7201a8"
             ],
             [
              0.3333333333333333,
              "#9c179e"
             ],
             [
              0.4444444444444444,
              "#bd3786"
             ],
             [
              0.5555555555555556,
              "#d8576b"
             ],
             [
              0.6666666666666666,
              "#ed7953"
             ],
             [
              0.7777777777777778,
              "#fb9f3a"
             ],
             [
              0.8888888888888888,
              "#fdca26"
             ],
             [
              1,
              "#f0f921"
             ]
            ],
            "type": "histogram2dcontour"
           }
          ],
          "mesh3d": [
           {
            "colorbar": {
             "outlinewidth": 0,
             "ticks": ""
            },
            "type": "mesh3d"
           }
          ],
          "parcoords": [
           {
            "line": {
             "colorbar": {
              "outlinewidth": 0,
              "ticks": ""
             }
            },
            "type": "parcoords"
           }
          ],
          "pie": [
           {
            "automargin": true,
            "type": "pie"
           }
          ],
          "scatter": [
           {
            "fillpattern": {
             "fillmode": "overlay",
             "size": 10,
             "solidity": 0.2
            },
            "type": "scatter"
           }
          ],
          "scatter3d": [
           {
            "line": {
             "colorbar": {
              "outlinewidth": 0,
              "ticks": ""
             }
            },
            "marker": {
             "colorbar": {
              "outlinewidth": 0,
              "ticks": ""
             }
            },
            "type": "scatter3d"
           }
          ],
          "scattercarpet": [
           {
            "marker": {
             "colorbar": {
              "outlinewidth": 0,
              "ticks": ""
             }
            },
            "type": "scattercarpet"
           }
          ],
          "scattergeo": [
           {
            "marker": {
             "colorbar": {
              "outlinewidth": 0,
              "ticks": ""
             }
            },
            "type": "scattergeo"
           }
          ],
          "scattergl": [
           {
            "marker": {
             "colorbar": {
              "outlinewidth": 0,
              "ticks": ""
             }
            },
            "type": "scattergl"
           }
          ],
          "scattermapbox": [
           {
            "marker": {
             "colorbar": {
              "outlinewidth": 0,
              "ticks": ""
             }
            },
            "type": "scattermapbox"
           }
          ],
          "scatterpolar": [
           {
            "marker": {
             "colorbar": {
              "outlinewidth": 0,
              "ticks": ""
             }
            },
            "type": "scatterpolar"
           }
          ],
          "scatterpolargl": [
           {
            "marker": {
             "colorbar": {
              "outlinewidth": 0,
              "ticks": ""
             }
            },
            "type": "scatterpolargl"
           }
          ],
          "scatterternary": [
           {
            "marker": {
             "colorbar": {
              "outlinewidth": 0,
              "ticks": ""
             }
            },
            "type": "scatterternary"
           }
          ],
          "surface": [
           {
            "colorbar": {
             "outlinewidth": 0,
             "ticks": ""
            },
            "colorscale": [
             [
              0,
              "#0d0887"
             ],
             [
              0.1111111111111111,
              "#46039f"
             ],
             [
              0.2222222222222222,
              "#7201a8"
             ],
             [
              0.3333333333333333,
              "#9c179e"
             ],
             [
              0.4444444444444444,
              "#bd3786"
             ],
             [
              0.5555555555555556,
              "#d8576b"
             ],
             [
              0.6666666666666666,
              "#ed7953"
             ],
             [
              0.7777777777777778,
              "#fb9f3a"
             ],
             [
              0.8888888888888888,
              "#fdca26"
             ],
             [
              1,
              "#f0f921"
             ]
            ],
            "type": "surface"
           }
          ],
          "table": [
           {
            "cells": {
             "fill": {
              "color": "#EBF0F8"
             },
             "line": {
              "color": "white"
             }
            },
            "header": {
             "fill": {
              "color": "#C8D4E3"
             },
             "line": {
              "color": "white"
             }
            },
            "type": "table"
           }
          ]
         },
         "layout": {
          "annotationdefaults": {
           "arrowcolor": "#2a3f5f",
           "arrowhead": 0,
           "arrowwidth": 1
          },
          "autotypenumbers": "strict",
          "coloraxis": {
           "colorbar": {
            "outlinewidth": 0,
            "ticks": ""
           }
          },
          "colorscale": {
           "diverging": [
            [
             0,
             "#8e0152"
            ],
            [
             0.1,
             "#c51b7d"
            ],
            [
             0.2,
             "#de77ae"
            ],
            [
             0.3,
             "#f1b6da"
            ],
            [
             0.4,
             "#fde0ef"
            ],
            [
             0.5,
             "#f7f7f7"
            ],
            [
             0.6,
             "#e6f5d0"
            ],
            [
             0.7,
             "#b8e186"
            ],
            [
             0.8,
             "#7fbc41"
            ],
            [
             0.9,
             "#4d9221"
            ],
            [
             1,
             "#276419"
            ]
           ],
           "sequential": [
            [
             0,
             "#0d0887"
            ],
            [
             0.1111111111111111,
             "#46039f"
            ],
            [
             0.2222222222222222,
             "#7201a8"
            ],
            [
             0.3333333333333333,
             "#9c179e"
            ],
            [
             0.4444444444444444,
             "#bd3786"
            ],
            [
             0.5555555555555556,
             "#d8576b"
            ],
            [
             0.6666666666666666,
             "#ed7953"
            ],
            [
             0.7777777777777778,
             "#fb9f3a"
            ],
            [
             0.8888888888888888,
             "#fdca26"
            ],
            [
             1,
             "#f0f921"
            ]
           ],
           "sequentialminus": [
            [
             0,
             "#0d0887"
            ],
            [
             0.1111111111111111,
             "#46039f"
            ],
            [
             0.2222222222222222,
             "#7201a8"
            ],
            [
             0.3333333333333333,
             "#9c179e"
            ],
            [
             0.4444444444444444,
             "#bd3786"
            ],
            [
             0.5555555555555556,
             "#d8576b"
            ],
            [
             0.6666666666666666,
             "#ed7953"
            ],
            [
             0.7777777777777778,
             "#fb9f3a"
            ],
            [
             0.8888888888888888,
             "#fdca26"
            ],
            [
             1,
             "#f0f921"
            ]
           ]
          },
          "colorway": [
           "#636efa",
           "#EF553B",
           "#00cc96",
           "#ab63fa",
           "#FFA15A",
           "#19d3f3",
           "#FF6692",
           "#B6E880",
           "#FF97FF",
           "#FECB52"
          ],
          "font": {
           "color": "#2a3f5f"
          },
          "geo": {
           "bgcolor": "white",
           "lakecolor": "white",
           "landcolor": "#E5ECF6",
           "showlakes": true,
           "showland": true,
           "subunitcolor": "white"
          },
          "hoverlabel": {
           "align": "left"
          },
          "hovermode": "closest",
          "mapbox": {
           "style": "light"
          },
          "paper_bgcolor": "white",
          "plot_bgcolor": "#E5ECF6",
          "polar": {
           "angularaxis": {
            "gridcolor": "white",
            "linecolor": "white",
            "ticks": ""
           },
           "bgcolor": "#E5ECF6",
           "radialaxis": {
            "gridcolor": "white",
            "linecolor": "white",
            "ticks": ""
           }
          },
          "scene": {
           "xaxis": {
            "backgroundcolor": "#E5ECF6",
            "gridcolor": "white",
            "gridwidth": 2,
            "linecolor": "white",
            "showbackground": true,
            "ticks": "",
            "zerolinecolor": "white"
           },
           "yaxis": {
            "backgroundcolor": "#E5ECF6",
            "gridcolor": "white",
            "gridwidth": 2,
            "linecolor": "white",
            "showbackground": true,
            "ticks": "",
            "zerolinecolor": "white"
           },
           "zaxis": {
            "backgroundcolor": "#E5ECF6",
            "gridcolor": "white",
            "gridwidth": 2,
            "linecolor": "white",
            "showbackground": true,
            "ticks": "",
            "zerolinecolor": "white"
           }
          },
          "shapedefaults": {
           "line": {
            "color": "#2a3f5f"
           }
          },
          "ternary": {
           "aaxis": {
            "gridcolor": "white",
            "linecolor": "white",
            "ticks": ""
           },
           "baxis": {
            "gridcolor": "white",
            "linecolor": "white",
            "ticks": ""
           },
           "bgcolor": "#E5ECF6",
           "caxis": {
            "gridcolor": "white",
            "linecolor": "white",
            "ticks": ""
           }
          },
          "title": {
           "x": 0.05
          },
          "xaxis": {
           "automargin": true,
           "gridcolor": "white",
           "linecolor": "white",
           "ticks": "",
           "title": {
            "standoff": 15
           },
           "zerolinecolor": "white",
           "zerolinewidth": 2
          },
          "yaxis": {
           "automargin": true,
           "gridcolor": "white",
           "linecolor": "white",
           "ticks": "",
           "title": {
            "standoff": 15
           },
           "zerolinecolor": "white",
           "zerolinewidth": 2
          }
         }
        },
        "xaxis": {
         "visible": false
        },
        "yaxis": {
         "visible": false
        }
       }
      },
      "text/html": [
       "<div>                            <div id=\"f47d1cb0-e739-4b3b-b603-b7167586c5f1\" class=\"plotly-graph-div\" style=\"height:525px; width:100%;\"></div>            <script type=\"text/javascript\">                require([\"plotly\"], function(Plotly) {                    window.PLOTLYENV=window.PLOTLYENV || {};                                    if (document.getElementById(\"f47d1cb0-e739-4b3b-b603-b7167586c5f1\")) {                    Plotly.newPlot(                        \"f47d1cb0-e739-4b3b-b603-b7167586c5f1\",                        [{\"marker\":{\"size\":50},\"mode\":\"markers\",\"text\":[\"Tech Sector Surges on AI News\",\"Technology Services\",\"Finance\",\"Healthcare\",\"360 ONE WAM LIMITED\",\"Abans Holdings Limited\",\"Avonmore Capital & Management Services Limited\",\"Baid Finserv Limited\",\"CMS Info Systems Limited\",\"CSL Finance Limited\",\"Eldeco Housing And Industries Limited\",\"Five-Star Business Finance Limited\",\"Fusion Micro Finance Limited\",\"Indiabulls Enterprises Limited\",\"Life Insurance Corporation Of India\",\"Monarch Networth Capital Limited\",\"Mufin Green Finance Limited\",\"Prudent Corporate Advisory Services Limited\",\"Keystone Realtors Limited\",\"Suratwwala Business Group Limited\",\"Shriram Finance Limited\",\"SRG Housing Finance Limited\",\"Tamilnad Mercantile Bank Limited\",\"TruCap Finance Limited\",\"Apollo Hospitals Enterprise Limited\",\"Fortis Healthcare Limited\",\"Healthcare Global Enterprises Limited\",\"Krishna Institute of Medical Sciences Limited\",\"Lotus Eye Hospital and Institute Limited\",\"Max Healthcare Institute Limited\",\"Narayana Hrudayalaya Ltd.\",\"Nureca Limited\",\"Poly Medicure Limited\",\"Shalby Limited\",\"Tarsons Products Limited\",\"TVS Electronics Limited\",\"Ace Integrated Solutions Limited\",\"Cigniti Technologies Limited\",\"Dev Information Technology Limited\",\"eMudhra Limited\",\"InfoBeans Technologies Limited\",\"Kfin Technologies Limited\",\"Ksolves India Limited\",\"Mold-Tek Technologies Limited\",\"NINtec Systems Limited\",\"Palred Technologies Limited\",\"R Systems International Limited\",\"Sigma Solve Limited\",\"Silver Touch Technologies Limited\",\"Tracxn Technologies Limited\",\"Virinchi Limited\"],\"textposition\":\"bottom center\",\"x\":[10.0,5.538429831988936,4.327095601741058,4.17956220613768,-1.0023549276362327,-0.8002787160668196,-0.6039583801387215,-0.4405021358519159,-0.3324383497806371,-0.2977121240404828,-0.3483091614215091,-0.4877516948508358,-0.7048880353940151,-0.9682075273935806,-1.2291591259686372,-1.4398051817749231,-1.576313150474112,-1.6462947244262245,-1.6738662942019826,-1.6789537732110202,-1.6663852766535858,-1.6256767086768964,-1.5363594176000932,-1.3750486359240144,-1.8050498240672372,-1.816134563262495,-1.8164969748797883,-1.8052718032272188,-1.761636697673231,-1.6535292308796312,-1.472790883518564,-1.2626052361871745,-1.092397382462103,-1.0093019599674935,-1.0206335544418745,-1.107064299204163,0.2897418144889619,0.3249243977659486,0.38794839184453345,0.47052003531775055,0.5682600536017705,0.6795959522742887,0.8044616509912117,0.9428465136604515,1.0933319080712054,1.2518097140044133,1.4107206052908996,1.5590944470814103,1.6832637534983006,1.7665075379379966,1.779061335560397],\"y\":[1.4328208202455939,-2.587173767601876,3.546523281177612,-0.1922986848777245,6.285541281487434,6.660398741785319,6.974980141511844,7.208428789273237,7.350260894720208,7.392127274641711,7.323786599518408,7.131160339569891,6.801019580269358,6.333335801869677,5.757571461967866,5.14173118641869,4.577548757512944,4.148069701558958,3.90292975393663,3.857435763898152,4.0043929109790195,4.324417862887351,4.789980114211445,5.366666151884087,-0.47474583671830434,-0.2794439847497322,-0.2640067680719649,-0.4652596534065312,-0.891134985799435,-1.4870135890881482,-2.1282204234323303,-2.6729054011530113,-3.0333156277473465,-3.192639617057317,-3.1746195901886627,-3.0127197663856813,-5.5367650519877225,-5.58474823933983,-5.679853944268618,-5.803736575925823,-5.9455226943549135,-6.099661275674865,-6.263287485819468,-6.4338764927528,-6.607575414869248,-6.778384056914454,-6.938266934773508,-7.077968141329576,-7.187832566436763,-7.256724585624286,-7.261426054975506],\"type\":\"scatter\"},{\"hoverinfo\":\"none\",\"line\":{\"color\":\"black\",\"width\":2},\"mode\":\"lines\",\"x\":[10.0,5.538429831988936],\"y\":[1.4328208202455939,-2.587173767601876],\"type\":\"scatter\"},{\"hoverinfo\":\"none\",\"line\":{\"color\":\"black\",\"width\":2},\"mode\":\"lines\",\"x\":[10.0,4.327095601741058],\"y\":[1.4328208202455939,3.546523281177612],\"type\":\"scatter\"},{\"hoverinfo\":\"none\",\"line\":{\"color\":\"black\",\"width\":2},\"mode\":\"lines\",\"x\":[10.0,4.17956220613768],\"y\":[1.4328208202455939,-0.1922986848777245],\"type\":\"scatter\"},{\"hoverinfo\":\"none\",\"line\":{\"color\":\"black\",\"width\":2},\"mode\":\"lines\",\"x\":[5.538429831988936,0.2897418144889619],\"y\":[-2.587173767601876,-5.5367650519877225],\"type\":\"scatter\"},{\"hoverinfo\":\"none\",\"line\":{\"color\":\"black\",\"width\":2},\"mode\":\"lines\",\"x\":[5.538429831988936,0.3249243977659486],\"y\":[-2.587173767601876,-5.58474823933983],\"type\":\"scatter\"},{\"hoverinfo\":\"none\",\"line\":{\"color\":\"black\",\"width\":2},\"mode\":\"lines\",\"x\":[5.538429831988936,0.38794839184453345],\"y\":[-2.587173767601876,-5.679853944268618],\"type\":\"scatter\"},{\"hoverinfo\":\"none\",\"line\":{\"color\":\"black\",\"width\":2},\"mode\":\"lines\",\"x\":[5.538429831988936,0.47052003531775055],\"y\":[-2.587173767601876,-5.803736575925823],\"type\":\"scatter\"},{\"hoverinfo\":\"none\",\"line\":{\"color\":\"black\",\"width\":2},\"mode\":\"lines\",\"x\":[5.538429831988936,0.5682600536017705],\"y\":[-2.587173767601876,-5.9455226943549135],\"type\":\"scatter\"},{\"hoverinfo\":\"none\",\"line\":{\"color\":\"black\",\"width\":2},\"mode\":\"lines\",\"x\":[5.538429831988936,0.6795959522742887],\"y\":[-2.587173767601876,-6.099661275674865],\"type\":\"scatter\"},{\"hoverinfo\":\"none\",\"line\":{\"color\":\"black\",\"width\":2},\"mode\":\"lines\",\"x\":[5.538429831988936,0.8044616509912117],\"y\":[-2.587173767601876,-6.263287485819468],\"type\":\"scatter\"},{\"hoverinfo\":\"none\",\"line\":{\"color\":\"black\",\"width\":2},\"mode\":\"lines\",\"x\":[5.538429831988936,0.9428465136604515],\"y\":[-2.587173767601876,-6.4338764927528],\"type\":\"scatter\"},{\"hoverinfo\":\"none\",\"line\":{\"color\":\"black\",\"width\":2},\"mode\":\"lines\",\"x\":[5.538429831988936,1.0933319080712054],\"y\":[-2.587173767601876,-6.607575414869248],\"type\":\"scatter\"},{\"hoverinfo\":\"none\",\"line\":{\"color\":\"black\",\"width\":2},\"mode\":\"lines\",\"x\":[5.538429831988936,1.2518097140044133],\"y\":[-2.587173767601876,-6.778384056914454],\"type\":\"scatter\"},{\"hoverinfo\":\"none\",\"line\":{\"color\":\"black\",\"width\":2},\"mode\":\"lines\",\"x\":[5.538429831988936,1.4107206052908996],\"y\":[-2.587173767601876,-6.938266934773508],\"type\":\"scatter\"},{\"hoverinfo\":\"none\",\"line\":{\"color\":\"black\",\"width\":2},\"mode\":\"lines\",\"x\":[5.538429831988936,1.5590944470814103],\"y\":[-2.587173767601876,-7.077968141329576],\"type\":\"scatter\"},{\"hoverinfo\":\"none\",\"line\":{\"color\":\"black\",\"width\":2},\"mode\":\"lines\",\"x\":[5.538429831988936,1.6832637534983006],\"y\":[-2.587173767601876,-7.187832566436763],\"type\":\"scatter\"},{\"hoverinfo\":\"none\",\"line\":{\"color\":\"black\",\"width\":2},\"mode\":\"lines\",\"x\":[5.538429831988936,1.7665075379379966],\"y\":[-2.587173767601876,-7.256724585624286],\"type\":\"scatter\"},{\"hoverinfo\":\"none\",\"line\":{\"color\":\"black\",\"width\":2},\"mode\":\"lines\",\"x\":[5.538429831988936,1.779061335560397],\"y\":[-2.587173767601876,-7.261426054975506],\"type\":\"scatter\"},{\"hoverinfo\":\"none\",\"line\":{\"color\":\"black\",\"width\":2},\"mode\":\"lines\",\"x\":[4.327095601741058,-1.0023549276362327],\"y\":[3.546523281177612,6.285541281487434],\"type\":\"scatter\"},{\"hoverinfo\":\"none\",\"line\":{\"color\":\"black\",\"width\":2},\"mode\":\"lines\",\"x\":[4.327095601741058,-0.8002787160668196],\"y\":[3.546523281177612,6.660398741785319],\"type\":\"scatter\"},{\"hoverinfo\":\"none\",\"line\":{\"color\":\"black\",\"width\":2},\"mode\":\"lines\",\"x\":[4.327095601741058,-0.6039583801387215],\"y\":[3.546523281177612,6.974980141511844],\"type\":\"scatter\"},{\"hoverinfo\":\"none\",\"line\":{\"color\":\"black\",\"width\":2},\"mode\":\"lines\",\"x\":[4.327095601741058,-0.4405021358519159],\"y\":[3.546523281177612,7.208428789273237],\"type\":\"scatter\"},{\"hoverinfo\":\"none\",\"line\":{\"color\":\"black\",\"width\":2},\"mode\":\"lines\",\"x\":[4.327095601741058,-0.3324383497806371],\"y\":[3.546523281177612,7.350260894720208],\"type\":\"scatter\"},{\"hoverinfo\":\"none\",\"line\":{\"color\":\"black\",\"width\":2},\"mode\":\"lines\",\"x\":[4.327095601741058,-0.2977121240404828],\"y\":[3.546523281177612,7.392127274641711],\"type\":\"scatter\"},{\"hoverinfo\":\"none\",\"line\":{\"color\":\"black\",\"width\":2},\"mode\":\"lines\",\"x\":[4.327095601741058,-0.3483091614215091],\"y\":[3.546523281177612,7.323786599518408],\"type\":\"scatter\"},{\"hoverinfo\":\"none\",\"line\":{\"color\":\"black\",\"width\":2},\"mode\":\"lines\",\"x\":[4.327095601741058,-0.4877516948508358],\"y\":[3.546523281177612,7.131160339569891],\"type\":\"scatter\"},{\"hoverinfo\":\"none\",\"line\":{\"color\":\"black\",\"width\":2},\"mode\":\"lines\",\"x\":[4.327095601741058,-0.7048880353940151],\"y\":[3.546523281177612,6.801019580269358],\"type\":\"scatter\"},{\"hoverinfo\":\"none\",\"line\":{\"color\":\"black\",\"width\":2},\"mode\":\"lines\",\"x\":[4.327095601741058,-0.9682075273935806],\"y\":[3.546523281177612,6.333335801869677],\"type\":\"scatter\"},{\"hoverinfo\":\"none\",\"line\":{\"color\":\"black\",\"width\":2},\"mode\":\"lines\",\"x\":[4.327095601741058,-1.2291591259686372],\"y\":[3.546523281177612,5.757571461967866],\"type\":\"scatter\"},{\"hoverinfo\":\"none\",\"line\":{\"color\":\"black\",\"width\":2},\"mode\":\"lines\",\"x\":[4.327095601741058,-1.4398051817749231],\"y\":[3.546523281177612,5.14173118641869],\"type\":\"scatter\"},{\"hoverinfo\":\"none\",\"line\":{\"color\":\"black\",\"width\":2},\"mode\":\"lines\",\"x\":[4.327095601741058,-1.576313150474112],\"y\":[3.546523281177612,4.577548757512944],\"type\":\"scatter\"},{\"hoverinfo\":\"none\",\"line\":{\"color\":\"black\",\"width\":2},\"mode\":\"lines\",\"x\":[4.327095601741058,-1.6462947244262245],\"y\":[3.546523281177612,4.148069701558958],\"type\":\"scatter\"},{\"hoverinfo\":\"none\",\"line\":{\"color\":\"black\",\"width\":2},\"mode\":\"lines\",\"x\":[4.327095601741058,-1.6738662942019826],\"y\":[3.546523281177612,3.90292975393663],\"type\":\"scatter\"},{\"hoverinfo\":\"none\",\"line\":{\"color\":\"black\",\"width\":2},\"mode\":\"lines\",\"x\":[4.327095601741058,-1.6789537732110202],\"y\":[3.546523281177612,3.857435763898152],\"type\":\"scatter\"},{\"hoverinfo\":\"none\",\"line\":{\"color\":\"black\",\"width\":2},\"mode\":\"lines\",\"x\":[4.327095601741058,-1.6663852766535858],\"y\":[3.546523281177612,4.0043929109790195],\"type\":\"scatter\"},{\"hoverinfo\":\"none\",\"line\":{\"color\":\"black\",\"width\":2},\"mode\":\"lines\",\"x\":[4.327095601741058,-1.6256767086768964],\"y\":[3.546523281177612,4.324417862887351],\"type\":\"scatter\"},{\"hoverinfo\":\"none\",\"line\":{\"color\":\"black\",\"width\":2},\"mode\":\"lines\",\"x\":[4.327095601741058,-1.5363594176000932],\"y\":[3.546523281177612,4.789980114211445],\"type\":\"scatter\"},{\"hoverinfo\":\"none\",\"line\":{\"color\":\"black\",\"width\":2},\"mode\":\"lines\",\"x\":[4.327095601741058,-1.3750486359240144],\"y\":[3.546523281177612,5.366666151884087],\"type\":\"scatter\"},{\"hoverinfo\":\"none\",\"line\":{\"color\":\"black\",\"width\":2},\"mode\":\"lines\",\"x\":[4.17956220613768,-1.8050498240672372],\"y\":[-0.1922986848777245,-0.47474583671830434],\"type\":\"scatter\"},{\"hoverinfo\":\"none\",\"line\":{\"color\":\"black\",\"width\":2},\"mode\":\"lines\",\"x\":[4.17956220613768,-1.816134563262495],\"y\":[-0.1922986848777245,-0.2794439847497322],\"type\":\"scatter\"},{\"hoverinfo\":\"none\",\"line\":{\"color\":\"black\",\"width\":2},\"mode\":\"lines\",\"x\":[4.17956220613768,-1.8164969748797883],\"y\":[-0.1922986848777245,-0.2640067680719649],\"type\":\"scatter\"},{\"hoverinfo\":\"none\",\"line\":{\"color\":\"black\",\"width\":2},\"mode\":\"lines\",\"x\":[4.17956220613768,-1.8052718032272188],\"y\":[-0.1922986848777245,-0.4652596534065312],\"type\":\"scatter\"},{\"hoverinfo\":\"none\",\"line\":{\"color\":\"black\",\"width\":2},\"mode\":\"lines\",\"x\":[4.17956220613768,-1.761636697673231],\"y\":[-0.1922986848777245,-0.891134985799435],\"type\":\"scatter\"},{\"hoverinfo\":\"none\",\"line\":{\"color\":\"black\",\"width\":2},\"mode\":\"lines\",\"x\":[4.17956220613768,-1.6535292308796312],\"y\":[-0.1922986848777245,-1.4870135890881482],\"type\":\"scatter\"},{\"hoverinfo\":\"none\",\"line\":{\"color\":\"black\",\"width\":2},\"mode\":\"lines\",\"x\":[4.17956220613768,-1.472790883518564],\"y\":[-0.1922986848777245,-2.1282204234323303],\"type\":\"scatter\"},{\"hoverinfo\":\"none\",\"line\":{\"color\":\"black\",\"width\":2},\"mode\":\"lines\",\"x\":[4.17956220613768,-1.2626052361871745],\"y\":[-0.1922986848777245,-2.6729054011530113],\"type\":\"scatter\"},{\"hoverinfo\":\"none\",\"line\":{\"color\":\"black\",\"width\":2},\"mode\":\"lines\",\"x\":[4.17956220613768,-1.092397382462103],\"y\":[-0.1922986848777245,-3.0333156277473465],\"type\":\"scatter\"},{\"hoverinfo\":\"none\",\"line\":{\"color\":\"black\",\"width\":2},\"mode\":\"lines\",\"x\":[4.17956220613768,-1.0093019599674935],\"y\":[-0.1922986848777245,-3.192639617057317],\"type\":\"scatter\"},{\"hoverinfo\":\"none\",\"line\":{\"color\":\"black\",\"width\":2},\"mode\":\"lines\",\"x\":[4.17956220613768,-1.0206335544418745],\"y\":[-0.1922986848777245,-3.1746195901886627],\"type\":\"scatter\"},{\"hoverinfo\":\"none\",\"line\":{\"color\":\"black\",\"width\":2},\"mode\":\"lines\",\"x\":[4.17956220613768,-1.107064299204163],\"y\":[-0.1922986848777245,-3.0127197663856813],\"type\":\"scatter\"}],                        {\"template\":{\"data\":{\"histogram2dcontour\":[{\"type\":\"histogram2dcontour\",\"colorbar\":{\"outlinewidth\":0,\"ticks\":\"\"},\"colorscale\":[[0.0,\"#0d0887\"],[0.1111111111111111,\"#46039f\"],[0.2222222222222222,\"#7201a8\"],[0.3333333333333333,\"#9c179e\"],[0.4444444444444444,\"#bd3786\"],[0.5555555555555556,\"#d8576b\"],[0.6666666666666666,\"#ed7953\"],[0.7777777777777778,\"#fb9f3a\"],[0.8888888888888888,\"#fdca26\"],[1.0,\"#f0f921\"]]}],\"choropleth\":[{\"type\":\"choropleth\",\"colorbar\":{\"outlinewidth\":0,\"ticks\":\"\"}}],\"histogram2d\":[{\"type\":\"histogram2d\",\"colorbar\":{\"outlinewidth\":0,\"ticks\":\"\"},\"colorscale\":[[0.0,\"#0d0887\"],[0.1111111111111111,\"#46039f\"],[0.2222222222222222,\"#7201a8\"],[0.3333333333333333,\"#9c179e\"],[0.4444444444444444,\"#bd3786\"],[0.5555555555555556,\"#d8576b\"],[0.6666666666666666,\"#ed7953\"],[0.7777777777777778,\"#fb9f3a\"],[0.8888888888888888,\"#fdca26\"],[1.0,\"#f0f921\"]]}],\"heatmap\":[{\"type\":\"heatmap\",\"colorbar\":{\"outlinewidth\":0,\"ticks\":\"\"},\"colorscale\":[[0.0,\"#0d0887\"],[0.1111111111111111,\"#46039f\"],[0.2222222222222222,\"#7201a8\"],[0.3333333333333333,\"#9c179e\"],[0.4444444444444444,\"#bd3786\"],[0.5555555555555556,\"#d8576b\"],[0.6666666666666666,\"#ed7953\"],[0.7777777777777778,\"#fb9f3a\"],[0.8888888888888888,\"#fdca26\"],[1.0,\"#f0f921\"]]}],\"heatmapgl\":[{\"type\":\"heatmapgl\",\"colorbar\":{\"outlinewidth\":0,\"ticks\":\"\"},\"colorscale\":[[0.0,\"#0d0887\"],[0.1111111111111111,\"#46039f\"],[0.2222222222222222,\"#7201a8\"],[0.3333333333333333,\"#9c179e\"],[0.4444444444444444,\"#bd3786\"],[0.5555555555555556,\"#d8576b\"],[0.6666666666666666,\"#ed7953\"],[0.7777777777777778,\"#fb9f3a\"],[0.8888888888888888,\"#fdca26\"],[1.0,\"#f0f921\"]]}],\"contourcarpet\":[{\"type\":\"contourcarpet\",\"colorbar\":{\"outlinewidth\":0,\"ticks\":\"\"}}],\"contour\":[{\"type\":\"contour\",\"colorbar\":{\"outlinewidth\":0,\"ticks\":\"\"},\"colorscale\":[[0.0,\"#0d0887\"],[0.1111111111111111,\"#46039f\"],[0.2222222222222222,\"#7201a8\"],[0.3333333333333333,\"#9c179e\"],[0.4444444444444444,\"#bd3786\"],[0.5555555555555556,\"#d8576b\"],[0.6666666666666666,\"#ed7953\"],[0.7777777777777778,\"#fb9f3a\"],[0.8888888888888888,\"#fdca26\"],[1.0,\"#f0f921\"]]}],\"surface\":[{\"type\":\"surface\",\"colorbar\":{\"outlinewidth\":0,\"ticks\":\"\"},\"colorscale\":[[0.0,\"#0d0887\"],[0.1111111111111111,\"#46039f\"],[0.2222222222222222,\"#7201a8\"],[0.3333333333333333,\"#9c179e\"],[0.4444444444444444,\"#bd3786\"],[0.5555555555555556,\"#d8576b\"],[0.6666666666666666,\"#ed7953\"],[0.7777777777777778,\"#fb9f3a\"],[0.8888888888888888,\"#fdca26\"],[1.0,\"#f0f921\"]]}],\"mesh3d\":[{\"type\":\"mesh3d\",\"colorbar\":{\"outlinewidth\":0,\"ticks\":\"\"}}],\"scatter\":[{\"fillpattern\":{\"fillmode\":\"overlay\",\"size\":10,\"solidity\":0.2},\"type\":\"scatter\"}],\"parcoords\":[{\"type\":\"parcoords\",\"line\":{\"colorbar\":{\"outlinewidth\":0,\"ticks\":\"\"}}}],\"scatterpolargl\":[{\"type\":\"scatterpolargl\",\"marker\":{\"colorbar\":{\"outlinewidth\":0,\"ticks\":\"\"}}}],\"bar\":[{\"error_x\":{\"color\":\"#2a3f5f\"},\"error_y\":{\"color\":\"#2a3f5f\"},\"marker\":{\"line\":{\"color\":\"#E5ECF6\",\"width\":0.5},\"pattern\":{\"fillmode\":\"overlay\",\"size\":10,\"solidity\":0.2}},\"type\":\"bar\"}],\"scattergeo\":[{\"type\":\"scattergeo\",\"marker\":{\"colorbar\":{\"outlinewidth\":0,\"ticks\":\"\"}}}],\"scatterpolar\":[{\"type\":\"scatterpolar\",\"marker\":{\"colorbar\":{\"outlinewidth\":0,\"ticks\":\"\"}}}],\"histogram\":[{\"marker\":{\"pattern\":{\"fillmode\":\"overlay\",\"size\":10,\"solidity\":0.2}},\"type\":\"histogram\"}],\"scattergl\":[{\"type\":\"scattergl\",\"marker\":{\"colorbar\":{\"outlinewidth\":0,\"ticks\":\"\"}}}],\"scatter3d\":[{\"type\":\"scatter3d\",\"line\":{\"colorbar\":{\"outlinewidth\":0,\"ticks\":\"\"}},\"marker\":{\"colorbar\":{\"outlinewidth\":0,\"ticks\":\"\"}}}],\"scattermapbox\":[{\"type\":\"scattermapbox\",\"marker\":{\"colorbar\":{\"outlinewidth\":0,\"ticks\":\"\"}}}],\"scatterternary\":[{\"type\":\"scatterternary\",\"marker\":{\"colorbar\":{\"outlinewidth\":0,\"ticks\":\"\"}}}],\"scattercarpet\":[{\"type\":\"scattercarpet\",\"marker\":{\"colorbar\":{\"outlinewidth\":0,\"ticks\":\"\"}}}],\"carpet\":[{\"aaxis\":{\"endlinecolor\":\"#2a3f5f\",\"gridcolor\":\"white\",\"linecolor\":\"white\",\"minorgridcolor\":\"white\",\"startlinecolor\":\"#2a3f5f\"},\"baxis\":{\"endlinecolor\":\"#2a3f5f\",\"gridcolor\":\"white\",\"linecolor\":\"white\",\"minorgridcolor\":\"white\",\"startlinecolor\":\"#2a3f5f\"},\"type\":\"carpet\"}],\"table\":[{\"cells\":{\"fill\":{\"color\":\"#EBF0F8\"},\"line\":{\"color\":\"white\"}},\"header\":{\"fill\":{\"color\":\"#C8D4E3\"},\"line\":{\"color\":\"white\"}},\"type\":\"table\"}],\"barpolar\":[{\"marker\":{\"line\":{\"color\":\"#E5ECF6\",\"width\":0.5},\"pattern\":{\"fillmode\":\"overlay\",\"size\":10,\"solidity\":0.2}},\"type\":\"barpolar\"}],\"pie\":[{\"automargin\":true,\"type\":\"pie\"}]},\"layout\":{\"autotypenumbers\":\"strict\",\"colorway\":[\"#636efa\",\"#EF553B\",\"#00cc96\",\"#ab63fa\",\"#FFA15A\",\"#19d3f3\",\"#FF6692\",\"#B6E880\",\"#FF97FF\",\"#FECB52\"],\"font\":{\"color\":\"#2a3f5f\"},\"hovermode\":\"closest\",\"hoverlabel\":{\"align\":\"left\"},\"paper_bgcolor\":\"white\",\"plot_bgcolor\":\"#E5ECF6\",\"polar\":{\"bgcolor\":\"#E5ECF6\",\"angularaxis\":{\"gridcolor\":\"white\",\"linecolor\":\"white\",\"ticks\":\"\"},\"radialaxis\":{\"gridcolor\":\"white\",\"linecolor\":\"white\",\"ticks\":\"\"}},\"ternary\":{\"bgcolor\":\"#E5ECF6\",\"aaxis\":{\"gridcolor\":\"white\",\"linecolor\":\"white\",\"ticks\":\"\"},\"baxis\":{\"gridcolor\":\"white\",\"linecolor\":\"white\",\"ticks\":\"\"},\"caxis\":{\"gridcolor\":\"white\",\"linecolor\":\"white\",\"ticks\":\"\"}},\"coloraxis\":{\"colorbar\":{\"outlinewidth\":0,\"ticks\":\"\"}},\"colorscale\":{\"sequential\":[[0.0,\"#0d0887\"],[0.1111111111111111,\"#46039f\"],[0.2222222222222222,\"#7201a8\"],[0.3333333333333333,\"#9c179e\"],[0.4444444444444444,\"#bd3786\"],[0.5555555555555556,\"#d8576b\"],[0.6666666666666666,\"#ed7953\"],[0.7777777777777778,\"#fb9f3a\"],[0.8888888888888888,\"#fdca26\"],[1.0,\"#f0f921\"]],\"sequentialminus\":[[0.0,\"#0d0887\"],[0.1111111111111111,\"#46039f\"],[0.2222222222222222,\"#7201a8\"],[0.3333333333333333,\"#9c179e\"],[0.4444444444444444,\"#bd3786\"],[0.5555555555555556,\"#d8576b\"],[0.6666666666666666,\"#ed7953\"],[0.7777777777777778,\"#fb9f3a\"],[0.8888888888888888,\"#fdca26\"],[1.0,\"#f0f921\"]],\"diverging\":[[0,\"#8e0152\"],[0.1,\"#c51b7d\"],[0.2,\"#de77ae\"],[0.3,\"#f1b6da\"],[0.4,\"#fde0ef\"],[0.5,\"#f7f7f7\"],[0.6,\"#e6f5d0\"],[0.7,\"#b8e186\"],[0.8,\"#7fbc41\"],[0.9,\"#4d9221\"],[1,\"#276419\"]]},\"xaxis\":{\"gridcolor\":\"white\",\"linecolor\":\"white\",\"ticks\":\"\",\"title\":{\"standoff\":15},\"zerolinecolor\":\"white\",\"automargin\":true,\"zerolinewidth\":2},\"yaxis\":{\"gridcolor\":\"white\",\"linecolor\":\"white\",\"ticks\":\"\",\"title\":{\"standoff\":15},\"zerolinecolor\":\"white\",\"automargin\":true,\"zerolinewidth\":2},\"scene\":{\"xaxis\":{\"backgroundcolor\":\"#E5ECF6\",\"gridcolor\":\"white\",\"linecolor\":\"white\",\"showbackground\":true,\"ticks\":\"\",\"zerolinecolor\":\"white\",\"gridwidth\":2},\"yaxis\":{\"backgroundcolor\":\"#E5ECF6\",\"gridcolor\":\"white\",\"linecolor\":\"white\",\"showbackground\":true,\"ticks\":\"\",\"zerolinecolor\":\"white\",\"gridwidth\":2},\"zaxis\":{\"backgroundcolor\":\"#E5ECF6\",\"gridcolor\":\"white\",\"linecolor\":\"white\",\"showbackground\":true,\"ticks\":\"\",\"zerolinecolor\":\"white\",\"gridwidth\":2}},\"shapedefaults\":{\"line\":{\"color\":\"#2a3f5f\"}},\"annotationdefaults\":{\"arrowcolor\":\"#2a3f5f\",\"arrowhead\":0,\"arrowwidth\":1},\"geo\":{\"bgcolor\":\"white\",\"landcolor\":\"#E5ECF6\",\"subunitcolor\":\"white\",\"showland\":true,\"showlakes\":true,\"lakecolor\":\"white\"},\"title\":{\"x\":0.05},\"mapbox\":{\"style\":\"light\"}}},\"xaxis\":{\"visible\":false},\"yaxis\":{\"visible\":false},\"showlegend\":false},                        {\"responsive\": true}                    ).then(function(){\n",
       "                            \n",
       "var gd = document.getElementById('f47d1cb0-e739-4b3b-b603-b7167586c5f1');\n",
       "var x = new MutationObserver(function (mutations, observer) {{\n",
       "        var display = window.getComputedStyle(gd).display;\n",
       "        if (!display || display === 'none') {{\n",
       "            console.log([gd, 'removed!']);\n",
       "            Plotly.purge(gd);\n",
       "            observer.disconnect();\n",
       "        }}\n",
       "}});\n",
       "\n",
       "// Listen for the removal of the full notebook cells\n",
       "var notebookContainer = gd.closest('#notebook-container');\n",
       "if (notebookContainer) {{\n",
       "    x.observe(notebookContainer, {childList: true});\n",
       "}}\n",
       "\n",
       "// Listen for the clearing of the current output cell\n",
       "var outputEl = gd.closest('.output');\n",
       "if (outputEl) {{\n",
       "    x.observe(outputEl, {childList: true});\n",
       "}}\n",
       "\n",
       "                        })                };                });            </script>        </div>"
      ]
     },
     "metadata": {},
     "output_type": "display_data"
    }
   ],
   "source": [
    "import networkx as nx\n",
    "import plotly.graph_objects as go\n",
    "import numpy as np\n",
    "\n",
    "# Sample Data\n",
    "news_headline = \"Tech Sector Surges on AI News\"\n",
    "sectors = [\"Technology Services\", \"Finance\", \"Healthcare\"]\n",
    "finance_stocks = fin\n",
    "health_stocks = health\n",
    "technology_stocks = tech\n",
    "# Create NetworkX graph \n",
    "G = nx.DiGraph()\n",
    "\n",
    "# Add news headline \n",
    "G.add_node(news_headline)\n",
    "\n",
    "# Add sectors \n",
    "for sector in sectors:\n",
    "    G.add_node(sector)\n",
    "    G.add_edge(news_headline, sector)\n",
    "\n",
    "# Add finance stocks and connect  \n",
    "for stock in finance_stocks:\n",
    "    G.add_node(stock)\n",
    "    G.add_edge(\"Finance\", stock)\n",
    "\n",
    "for stock in health_stocks:\n",
    "    G.add_node(stock)\n",
    "    G.add_edge(\"Healthcare\", stock)\n",
    "    \n",
    "for stock in technology_stocks:\n",
    "    G.add_node(stock)\n",
    "    G.add_edge(\"Technology Services\", stock)\n",
    "# Layout \n",
    "pos = nx.kamada_kawai_layout(G, scale=10,weight='weight')  # Adjust 'k' and 'seed' if needed \n",
    "\n",
    "# Convert positions for Plotly\n",
    "plotly_pos = {node: np.array(pos[node]) for node in G.nodes()}\n",
    "\n",
    "# Create Plotly figure\n",
    "fig = go.Figure()\n",
    "\n",
    "# Add nodes\n",
    "fig.add_trace(go.Scatter(x=[pos[0] for pos in plotly_pos.values()],\n",
    "                         y=[pos[1] for pos in plotly_pos.values()],\n",
    "                         mode='markers',\n",
    "                         text=list(G.nodes()),\n",
    "                         textposition='bottom center',\n",
    "                         marker=dict(size=50) \n",
    "                         ))\n",
    "\n",
    "# Add edges\n",
    "for edge in G.edges:\n",
    "    x0, y0 = plotly_pos[edge[0]]\n",
    "    x1, y1 = plotly_pos[edge[1]]\n",
    "    fig.add_trace(go.Scatter(x=[x0, x1], y=[y0, y1],\n",
    "                             mode='lines',\n",
    "                             line=dict(color='black', width=2),\n",
    "                             hoverinfo='none')) \n",
    "\n",
    "# Customize layout \n",
    "fig.update_layout(showlegend=False,\n",
    "                  xaxis=dict(visible=False), yaxis=dict(visible=False))\n",
    "\n",
    "fig.show()\n"
   ]
  },
  {
   "cell_type": "code",
   "execution_count": 99,
   "id": "0dd2a88a",
   "metadata": {},
   "outputs": [
    {
     "name": "stdout",
     "output_type": "stream",
     "text": [
      "Requirement already satisfied: requests in /Users/amanmehra/miniconda3/lib/python3.12/site-packages (2.31.0)\r\n",
      "Requirement already satisfied: charset-normalizer<4,>=2 in /Users/amanmehra/miniconda3/lib/python3.12/site-packages (from requests) (2.0.4)\r\n",
      "Requirement already satisfied: idna<4,>=2.5 in /Users/amanmehra/miniconda3/lib/python3.12/site-packages (from requests) (3.4)\r\n",
      "Requirement already satisfied: urllib3<3,>=1.21.1 in /Users/amanmehra/miniconda3/lib/python3.12/site-packages (from requests) (2.1.0)\r\n",
      "Requirement already satisfied: certifi>=2017.4.17 in /Users/amanmehra/miniconda3/lib/python3.12/site-packages (from requests) (2024.2.2)\r\n"
     ]
    }
   ],
   "source": [
    "\n",
    "!pip install requests\n",
    "\n",
    "\n",
    "\n",
    "\n",
    "\n"
   ]
  },
  {
   "cell_type": "code",
   "execution_count": 102,
   "id": "e55ab5ef",
   "metadata": {},
   "outputs": [],
   "source": [
    "d2 = pd.read_csv(\"articles.csv\")\n",
    "\n"
   ]
  },
  {
   "cell_type": "code",
   "execution_count": 104,
   "id": "dd4fbbba",
   "metadata": {},
   "outputs": [
    {
     "data": {
      "text/html": [
       "<div>\n",
       "<style scoped>\n",
       "    .dataframe tbody tr th:only-of-type {\n",
       "        vertical-align: middle;\n",
       "    }\n",
       "\n",
       "    .dataframe tbody tr th {\n",
       "        vertical-align: top;\n",
       "    }\n",
       "\n",
       "    .dataframe thead th {\n",
       "        text-align: right;\n",
       "    }\n",
       "</style>\n",
       "<table border=\"1\" class=\"dataframe\">\n",
       "  <thead>\n",
       "    <tr style=\"text-align: right;\">\n",
       "      <th></th>\n",
       "      <th>Category</th>\n",
       "      <th>Title</th>\n",
       "      <th>URL</th>\n",
       "      <th>Description</th>\n",
       "    </tr>\n",
       "  </thead>\n",
       "  <tbody>\n",
       "    <tr>\n",
       "      <th>0</th>\n",
       "      <td>IPO</td>\n",
       "      <td>23 Mind-boggling Oligarchs Statistics to Know ...</td>\n",
       "      <td>https://techreport.com/statistics/oligarchs-st...</td>\n",
       "      <td>In This Guide Key Oligarchs Statistics General...</td>\n",
       "    </tr>\n",
       "    <tr>\n",
       "      <th>1</th>\n",
       "      <td>IPO</td>\n",
       "      <td>क्या फिर टाटा ग्रुप मचाएगा IPO मार्केट में धमा...</td>\n",
       "      <td>https://www.aajtak.in/business/news/story/tata...</td>\n",
       "      <td>शुक्रवार को महाशिवरात्रि के मौके पर शेयर बाजार...</td>\n",
       "    </tr>\n",
       "    <tr>\n",
       "      <th>2</th>\n",
       "      <td>IPO</td>\n",
       "      <td>Baron Capital ups Swiggy’s valuation; new anti...</td>\n",
       "      <td>https://economictimes.indiatimes.com/tech/news...</td>\n",
       "      <td>The US-based asset manager has now marked up t...</td>\n",
       "    </tr>\n",
       "    <tr>\n",
       "      <th>3</th>\n",
       "      <td>IPO</td>\n",
       "      <td>ETMarkets SME Talk: Kulbhushan Parashar shares...</td>\n",
       "      <td>https://economictimes.indiatimes.com/markets/e...</td>\n",
       "      <td>\"The overall Indian economy in the last 2-3 ye...</td>\n",
       "    </tr>\n",
       "    <tr>\n",
       "      <th>4</th>\n",
       "      <td>IPO</td>\n",
       "      <td>Tata Sons trying to avoid IPO. Is it Ok Tata B...</td>\n",
       "      <td>https://economictimes.indiatimes.com/markets/i...</td>\n",
       "      <td>The RBI rule that Tata Sons would have to get ...</td>\n",
       "    </tr>\n",
       "  </tbody>\n",
       "</table>\n",
       "</div>"
      ],
      "text/plain": [
       "  Category                                              Title  \\\n",
       "0      IPO  23 Mind-boggling Oligarchs Statistics to Know ...   \n",
       "1      IPO  क्या फिर टाटा ग्रुप मचाएगा IPO मार्केट में धमा...   \n",
       "2      IPO  Baron Capital ups Swiggy’s valuation; new anti...   \n",
       "3      IPO  ETMarkets SME Talk: Kulbhushan Parashar shares...   \n",
       "4      IPO  Tata Sons trying to avoid IPO. Is it Ok Tata B...   \n",
       "\n",
       "                                                 URL  \\\n",
       "0  https://techreport.com/statistics/oligarchs-st...   \n",
       "1  https://www.aajtak.in/business/news/story/tata...   \n",
       "2  https://economictimes.indiatimes.com/tech/news...   \n",
       "3  https://economictimes.indiatimes.com/markets/e...   \n",
       "4  https://economictimes.indiatimes.com/markets/i...   \n",
       "\n",
       "                                         Description  \n",
       "0  In This Guide Key Oligarchs Statistics General...  \n",
       "1  शुक्रवार को महाशिवरात्रि के मौके पर शेयर बाजार...  \n",
       "2  The US-based asset manager has now marked up t...  \n",
       "3  \"The overall Indian economy in the last 2-3 ye...  \n",
       "4  The RBI rule that Tata Sons would have to get ...  "
      ]
     },
     "execution_count": 104,
     "metadata": {},
     "output_type": "execute_result"
    }
   ],
   "source": [
    "d2.head()\n",
    "\n"
   ]
  },
  {
   "cell_type": "code",
   "execution_count": 128,
   "id": "97e774a0",
   "metadata": {},
   "outputs": [],
   "source": [
    "ipo_cat_data = d2.groupby('Category').get_group('IPO') \n",
    "ipo = ipo_cat_data['Title']\n",
    "\n",
    "ep_cat_data = d2.groupby('Category').get_group('Energy Policies and Renewable Energy') \n",
    "ep = ep_cat_data['Title']\n",
    "\n",
    "\n",
    "gr_cat_data = d2.groupby('Category').get_group('Government Regulations and Policies')\n",
    "gr = gr_cat_data['Title']\n",
    "\n",
    "hp_cat_data = d2.groupby('Category').get_group('Healthcare Policies and Regulations')\n",
    "hp = hp_cat_data['Title']\n",
    "\n",
    "id_cat_data = d2.groupby('Category').get_group('Infrastructure Development and Investments')\n",
    "idi = id_cat_data['Title']\n",
    "\n"
   ]
  },
  {
   "cell_type": "code",
   "execution_count": 182,
   "id": "20a92457",
   "metadata": {
    "scrolled": true
   },
   "outputs": [
    {
     "data": {
      "application/vnd.plotly.v1+json": {
       "config": {
        "plotlyServerURL": "https://plot.ly"
       },
       "data": [
        {
         "marker": {
          "color": [
           "yellow",
           "yellow",
           "yellow",
           "yellow",
           "yellow",
           "yellow",
           "yellow",
           "yellow",
           "yellow",
           "yellow",
           "blue",
           "blue",
           "blue",
           "blue",
           "blue",
           "blue",
           "blue",
           "blue",
           "blue",
           "blue",
           "blue",
           "blue",
           "blue",
           "blue",
           "blue",
           "blue",
           "blue",
           "blue",
           "blue",
           "blue",
           "blue",
           "blue",
           "blue",
           "blue",
           "blue",
           "blue",
           "blue",
           "blue",
           "blue",
           "blue",
           "blue",
           "blue",
           "blue",
           "blue",
           "blue",
           "blue",
           "blue",
           "blue",
           "blue",
           "blue",
           "blue",
           "blue",
           "blue",
           "blue",
           "blue",
           "blue",
           "blue",
           "blue",
           "blue",
           "blue",
           "blue",
           "blue",
           "blue",
           "blue",
           "blue",
           "blue",
           "blue",
           "blue",
           "blue",
           "blue",
           "blue",
           "blue",
           "blue",
           "blue",
           "blue",
           "blue",
           "blue",
           "blue",
           "blue",
           "blue",
           "blue",
           "blue",
           "blue",
           "blue",
           "blue",
           "blue",
           "blue",
           "blue",
           "blue",
           "blue",
           "blue",
           "blue",
           "blue",
           "blue"
          ],
          "size": 50
         },
         "mode": "markers",
         "text": [
          "IPO",
          "Energy Policies and Renewable Energy",
          "Government Regulations and Policies",
          "Healthcare Policies and Regulations",
          "Infrastructure Development and Investments",
          "Market Technology",
          "Environmental, Social, and Governance (ESG) Investing",
          "Climate Change and Market Impacts",
          "Pharma",
          "Automobiles",
          "23 Mind-boggling Oligarchs Statistics to Know in 2024",
          "क्या फिर टाटा ग्रुप मचाएगा IPO मार्केट में धमाल? खबर आते ही शेयर बनने लगे रॉकेट",
          "Baron Capital ups Swiggy’s valuation; new antitrust law fine print",
          "ETMarkets SME Talk: Kulbhushan Parashar shares the secret of turning SME companies into multibaggers",
          "Tata Sons trying to avoid IPO. Is it Ok Tata Bye Bye for multi-billion-dollar rally?",
          "JM Financial says will fully cooperate with Sebi in probe into public issue of debt securities",
          "Pratham EPC Projects IPO: 11 मार्च से लगा सकेंगे पैसा, ग्रे मार्केट में अभी से भाग रहा शेयर",
          "Peak XV, Tiger Global’s Meesho plans; consumer brand deals lure tech VCs",
          "Tata Sons looking at debt rejig to avoid IPO next year",
          "Inside Air NZ’s stripped-back alternative to Auckland Airport’s $3.9b terminal plan",
          "Green Hydrogen Market Analysis to 2033: Solar Energy Poised to Dominate the Global Market as Cost Reductions Drive Economic Viability",
          "Concentrated Solar Power Market to Reach $12.01 Billion by 2030 Owing to Rise in Demand for Clean Energy Sources | Says Coherent Market Insights",
          "A Technocratic War on Farmers, Oil Dependency, and Homemade Apple Pie",
          "BlackRock World Mining Trust Plc - Final Results",
          "Australian homes are getting bigger and bigger, and it's wiping out gains in energy efficiency",
          "Kerry: China Says It Might Not Use Coal Plants It’s Building, Have to Spend Trillions a Year to Hit Climate Goals",
          "Mining Global Market Report 2024",
          "Australian homes are getting bigger and bigger, and it’s wiping out gains in energy efficiency",
          "Teleperformance: 2023 Annual Results: Profitable Growth and Strong Cash Flow",
          "Plant-based Meals Market size to exceed $230.84 bn by 2032, Says Global Market Insights Inc.",
          "China Market Update: “Two Sessions” Drives Technology & Healthcare Rally, Defending PDD & TikTok, Week In Review",
          "Goat Cheese Market to Reach $9.2 billion, Globally, by 2032 at 4.5% CAGR: Allied Market Research",
          "Sales of Global Plug-in Hybrid Electric Vehicles (PHEVs) are projected to grow at a CAGR of 17.9% by 2034.",
          "India's healthcare care innovation market to double to $60 billion by FY28, says new report",
          "Altisource Announces Fourth Quarter and Full Year 2023 Financial Results",
          "Keratin Products Market Expected to Reach $3.4 Billion, Globally, by 2032 at 6.1% CAGR—Allied Market Research",
          "Turning Machine Learning to Federated Learning in Minutes with NVIDIA FLARE 2.4",
          "Earnings call: Flywire reports robust Q4 and FY 2023 financials",
          "Cyber Insurance Market Size to Reach Revenue Worth US$68.2 Bn by 2030-end, Forecasts Fairfield Market Research",
          "Global Account Reconciliation Software Market Size is Estimated to Reach USD 6930 million by 2030, Growing at a CAGR of 14.8%: Straits Research",
          "India Construction Equipment Market Share Analysis & Growth Forecasts to 2029: Increasing Government Spending on Construction and Infrastructure Development",
          "[Latest] Global Photo Printing and Merchandise Market Size/Share Worth USD 28.2 Billion by 2032 at a 3.2% CAGR: Custom Market Insights (Analysis, Outlook, Leaders, Report, Trends, Forecast, Segmentation, Growth, Growth Rate, Value)",
          "India’s business knowledge gained from IT, ITES clients will be its strength in the AI world",
          "Mining Explosives and Systems Market to Reach USD 328.1 billion by 2031, Expanding at a CAGR of 3.3%: Report by Transparency Market Research, Inc.",
          "Leak Detection Market to Reach $8.2 Billion, Globally, by 2032 at 5.6% CAGR: Allied Market Research",
          "Medical Waste Management Market Worth $12.2 billion | MarketsandMarkets™",
          "Cold Chain Logistics Market Size to Grow USD 877710 Million by 2030 at a CAGR of 14.8% | Valuates Reports",
          "Global Carbon Steel Market to Reach $1,284.51 Billion by 2030 Owing To the Rapid Infrastructure Development Activities in Demand for Shipbuilding Industry | Says Coherent Market Insights",
          "Global tech firms likely to lead India’s local AI compute charge",
          "PM Modi to inaugurate BGPL, to boost energy sector in Northeast",
          "AI (Artificial Intelligence) in Mental Health Market Size/Share Envisaged to Reach USD 10,334.09 Million By 2032, at 30.8% CAGR: Polaris Market Research",
          "GPU access to power up India’s AI play: experts",
          "Even if the industry achieves half the govt. target for electric vehicle penetration by 2030, overall EV annual sales would touch 12-15 lakh units: BYD India",
          "After Contactless, The Next Big Thing In Retail Payments Is A2A",
          "New-age consumer brands pulling in funds, tech no bar; and other top stories this week",
          "Hayward: China Joe Biden Avoids Any Offense to Beijing in State of the Union",
          "India to build a 10,000-GPU supercomputer for autarchic AI development",
          "'Iss chunaav mein bhi safai hone wali hai,' says Prime Minister Modi in dig at Opposition",
          "Asia-Pacific Small Caliber Ammunition Market Analysis and Forecast Report 2023-2024 and 2033 Featuring Australian Munitions, Hughes Precision Manufacturing, and POONGSAN - ResearchAndMarkets.com",
          "Pension Funds Market to Reach $109.1 trillion, Globally, by 2032 at 5.5% CAGR: Allied Market Research",
          "Genpact Limited (NYSE:G) Shares Purchased by Truist Financial Corp",
          "Bank of Nova Scotia Sells 3,104 Shares of Genpact Limited (NYSE:G)",
          "Tower Research Capital LLC TRC Buys 7,189 Shares of Genpact Limited (NYSE:G)",
          "Alliance Trust : Full Results Announcement 2023",
          "Alliance Trust PLC - Final Results",
          "Global Corporate Governance Trends for 2024",
          "Vietnam 2024 rice exports seen falling, India prices strike record high",
          "Vivendi: Strong Growth in Results in 2023",
          "Capita Plc - Full Year Results 2023",
          "Textile Recycling Market projected to reach USD 11.3 Billion by 2030, growing at a CAGR of 6.5% during the forecast period of 2023-2030 - pronounced by MarketDigits in its recent study",
          "Down on the farm, the beef industry inches toward sustainability",
          "EFFECTIVE MEASURES TO TACKLE AIR POLLUTION",
          "Global Confectionery Market Size is Estimated to Reach USD 421.05 billion by 2031, Growing at a CAGR of 3.9%: Straits Research",
          "Low-carbon governance, fiscal decentralization, and enterprise green development: Evidence from China",
          "What the SEC climate disclosure rule may mean for investors",
          "The History of Public Health Colonialism ⋆ Brownstone Institute",
          "AstraZeneca bets on licencing deals, public-private partnerships for India growth",
          "Novo Nordisk mejorará su terapia contra la obesidad dentro de seis años",
          "Stick Packaging Market Size Anticipated to Hit USD 547.63 Mn by 2032",
          "Global Paracetamol IV Market to reach USD 1,575.45 million by 2030 - By Indication (Pain, Pyrexia/Fever), Application (Non-surgical, Surgical), End-use - Forecast 2024-2030",
          "Lupin : March 8, 2024 Lupin Appoints Rakesh Bhardwaj as Chief Information Officer",
          "Top Content Providers With AI Tools Expertise In 2024",
          "India-EFTA set to sign trade deal on March 10",
          "Analiză: Prețurile mondiale la alimente au scăzut și în luna februarie, grație degringoladei cotațiilor la cereale",
          "Govt directs 4 sectors to provide detailed info on warranty, service centres",
          "Torrent Gas announces reduction in CNG prices by Rs 2.50 per kg across all locations",
          "Global Urethane Coatings Market Size is Poised to Reach USD 33.74 Billion by 2032 | Asia Pacific is the Epicenter of the Urethane Coatings Boom Says Astute Analytica",
          "Book review of “Chip War” and the Fragility of microchips",
          "Research on energy-saving control of agricultural hybrid tractors integrating working condition prediction",
          "Global Smart Fleet Management Market Size is Estimated to Reach USD 201,353 million by 2030, Growing at a CAGR of 16.3%: Straits Research",
          "Fifth-Wheel Coupling Market Forecasted to Reach USD 870.1 million by 2031, with a 4.3% CAGR: Transparency Market Research, Inc.",
          "Chief Minister Eknath Shinde reinforces Maharashtra's trillion-dollar economic trajectory at the 2024",
          "Australia and Vietnam upgrade relations, to begin talks on critical minerals",
          "Semiconductor Woes Could Dampen Auto Industry's Road to Recovery"
         ],
         "textposition": "bottom center",
         "type": "scatter",
         "x": [
          0.5493091020521651,
          0.7363265917503617,
          0.758821753506579,
          0.8245653180102448,
          0.8743180532337418,
          0.8590118388568114,
          0.8887713105133785,
          0.9068655873965794,
          0.8522008333158481,
          0.23843116340548254,
          -0.3394786113635401,
          0.20900944871336788,
          0.20030629707890368,
          0.18978696396496716,
          0.1776679960933551,
          0.16413528060960547,
          0.14935069395728523,
          0.1334570040990159,
          0.11658112058764386,
          0.0988371498798137,
          -0.16798855132574708,
          -0.17422884649421513,
          -0.3376198794495072,
          -0.32871301420366583,
          -0.17421746311338754,
          -0.19021107595792602,
          -0.20609924705876276,
          -0.22202112931999418,
          -0.32730104920677905,
          -0.25344942320955416,
          -0.29466866276386827,
          -0.2914368948561495,
          -0.3050202324513296,
          -0.32417107075660373,
          -0.331411387549088,
          -0.3442153269728533,
          -0.34940395042500294,
          -0.35729254915860864,
          -0.36471897116628976,
          -0.3716572958796341,
          -0.37808200235061556,
          -0.3839682498964865,
          -0.38929778143447297,
          -0.35004523546130645,
          -0.35057003728818487,
          -0.3536118207873294,
          -0.35608661124474306,
          -0.35798862248539776,
          -0.3593116771455204,
          -0.3600502827866533,
          -0.36019814465715977,
          -0.37617897153189955,
          -0.376377769489275,
          -0.3759542763165892,
          -0.3749043925392117,
          -0.37322592742160976,
          -0.3709182550727891,
          -0.36798189366404244,
          -0.3644186706943934,
          -0.26559514857166006,
          -0.2559844807392503,
          -0.24592119308738328,
          -0.23542317163300988,
          -0.22451415572519273,
          -0.2132240165864552,
          -0.20158838377472674,
          -0.08217702979112823,
          -0.06732084189538386,
          -0.052260399994478596,
          -0.037036788996823465,
          -0.02169615634085878,
          -0.006290449461094518,
          0.009122063632979816,
          0.024475681302096822,
          0.03969736691502358,
          0.15538977982733226,
          0.17211355063729292,
          0.1884754023280454,
          0.20439479658223486,
          0.2197836837135445,
          0.23454618072631434,
          0.24857792258353095,
          0.2617646977094083,
          0.27398161253487924,
          0.3317023501290409,
          0.3495678284406914,
          0.3664865378186128,
          0.3823630478955233,
          0.39708897478559374,
          0.41054074383263733,
          0.42257650076519354,
          0.43303111869421024,
          0.4417105351411917,
          0.448383588527105
         ],
         "y": [
          -0.6867989520470925,
          -0.26576015892905064,
          -0.22898769797014645,
          -0.09002616870551412,
          -0.08266476778066068,
          -0.12982895921020715,
          0.14393860336784559,
          0.3739113671681816,
          0.6653777976219315,
          1,
          0.1698273881982737,
          0.5006724347750234,
          0.4980573183121243,
          0.49481679775147763,
          0.49096669147104816,
          0.48651343245491296,
          0.48145719198259185,
          0.4757940554476003,
          0.4695174103665304,
          0.46261913397739596,
          0.580998894223528,
          0.5685927776097166,
          0.33877322496592666,
          0.3559177427369799,
          0.5688029889800696,
          0.5509657171744741,
          0.5325331116649189,
          0.5133049094420784,
          0.36026485164522315,
          0.4728947044566914,
          0.4228488928074905,
          0.4208678534140977,
          0.3982995749241027,
          0.36406436681634197,
          0.35105014190552947,
          0.32624010805302683,
          0.2931755229334032,
          0.2679702167075925,
          0.24232940544662387,
          0.21628505873563011,
          0.18987179546994126,
          0.163123596155302,
          0.13606688524977956,
          0.1036068965694636,
          0.07105562310216913,
          0.044503698681175735,
          0.017814516919548766,
          -0.008997613102616193,
          -0.03590967497599907,
          -0.06290226300250229,
          -0.08996952900478274,
          -0.10468300825158368,
          -0.1325498448480414,
          -0.16044289405761547,
          -0.18835705662633795,
          -0.21627254237605986,
          -0.24416509419377636,
          -0.27201120319993843,
          -0.2997850313809604,
          -0.29382210850451734,
          -0.31852773432314274,
          -0.34285272951219364,
          -0.36678498748736826,
          -0.39030196426193214,
          -0.41337267014613205,
          -0.43596059647755314,
          -0.3652607122276079,
          -0.3848186061155443,
          -0.4038579028518609,
          -0.4223549556916361,
          -0.4402845272097486,
          -0.4576194784981829,
          -0.47433076570519805,
          -0.49038684659742426,
          -0.5057544084160497,
          -0.3543797608280276,
          -0.36561277294863853,
          -0.37623067749281847,
          -0.3862192684159173,
          -0.39556369227401955,
          -0.4042483523631283,
          -0.41225651360812365,
          -0.4195694053693854,
          -0.42616551921504076,
          -0.23098294129237987,
          -0.2295864019495694,
          -0.22802792883177084,
          -0.22635688151794695,
          -0.2246269281782508,
          -0.22289626243000105,
          -0.2212277600265522,
          -0.21968916158586838,
          -0.21835297882712604,
          -0.2172960388422182
         ]
        },
        {
         "hoverinfo": "none",
         "line": {
          "color": "black",
          "width": 2
         },
         "mode": "lines",
         "type": "scatter",
         "x": [
          0.5493091020521651,
          -0.3394786113635401
         ],
         "y": [
          -0.6867989520470925,
          0.1698273881982737
         ]
        },
        {
         "hoverinfo": "none",
         "line": {
          "color": "black",
          "width": 2
         },
         "mode": "lines",
         "type": "scatter",
         "x": [
          0.5493091020521651,
          0.20900944871336788
         ],
         "y": [
          -0.6867989520470925,
          0.5006724347750234
         ]
        },
        {
         "hoverinfo": "none",
         "line": {
          "color": "black",
          "width": 2
         },
         "mode": "lines",
         "type": "scatter",
         "x": [
          0.5493091020521651,
          0.20030629707890368
         ],
         "y": [
          -0.6867989520470925,
          0.4980573183121243
         ]
        },
        {
         "hoverinfo": "none",
         "line": {
          "color": "black",
          "width": 2
         },
         "mode": "lines",
         "type": "scatter",
         "x": [
          0.5493091020521651,
          0.18978696396496716
         ],
         "y": [
          -0.6867989520470925,
          0.49481679775147763
         ]
        },
        {
         "hoverinfo": "none",
         "line": {
          "color": "black",
          "width": 2
         },
         "mode": "lines",
         "type": "scatter",
         "x": [
          0.5493091020521651,
          0.1776679960933551
         ],
         "y": [
          -0.6867989520470925,
          0.49096669147104816
         ]
        },
        {
         "hoverinfo": "none",
         "line": {
          "color": "black",
          "width": 2
         },
         "mode": "lines",
         "type": "scatter",
         "x": [
          0.5493091020521651,
          0.16413528060960547
         ],
         "y": [
          -0.6867989520470925,
          0.48651343245491296
         ]
        },
        {
         "hoverinfo": "none",
         "line": {
          "color": "black",
          "width": 2
         },
         "mode": "lines",
         "type": "scatter",
         "x": [
          0.5493091020521651,
          0.14935069395728523
         ],
         "y": [
          -0.6867989520470925,
          0.48145719198259185
         ]
        },
        {
         "hoverinfo": "none",
         "line": {
          "color": "black",
          "width": 2
         },
         "mode": "lines",
         "type": "scatter",
         "x": [
          0.5493091020521651,
          0.1334570040990159
         ],
         "y": [
          -0.6867989520470925,
          0.4757940554476003
         ]
        },
        {
         "hoverinfo": "none",
         "line": {
          "color": "black",
          "width": 2
         },
         "mode": "lines",
         "type": "scatter",
         "x": [
          0.5493091020521651,
          0.11658112058764386
         ],
         "y": [
          -0.6867989520470925,
          0.4695174103665304
         ]
        },
        {
         "hoverinfo": "none",
         "line": {
          "color": "black",
          "width": 2
         },
         "mode": "lines",
         "type": "scatter",
         "x": [
          0.5493091020521651,
          0.0988371498798137
         ],
         "y": [
          -0.6867989520470925,
          0.46261913397739596
         ]
        },
        {
         "hoverinfo": "none",
         "line": {
          "color": "black",
          "width": 2
         },
         "mode": "lines",
         "type": "scatter",
         "x": [
          0.7363265917503617,
          -0.16798855132574708
         ],
         "y": [
          -0.26576015892905064,
          0.580998894223528
         ]
        },
        {
         "hoverinfo": "none",
         "line": {
          "color": "black",
          "width": 2
         },
         "mode": "lines",
         "type": "scatter",
         "x": [
          0.7363265917503617,
          -0.17422884649421513
         ],
         "y": [
          -0.26576015892905064,
          0.5685927776097166
         ]
        },
        {
         "hoverinfo": "none",
         "line": {
          "color": "black",
          "width": 2
         },
         "mode": "lines",
         "type": "scatter",
         "x": [
          0.7363265917503617,
          -0.3376198794495072
         ],
         "y": [
          -0.26576015892905064,
          0.33877322496592666
         ]
        },
        {
         "hoverinfo": "none",
         "line": {
          "color": "black",
          "width": 2
         },
         "mode": "lines",
         "type": "scatter",
         "x": [
          0.7363265917503617,
          -0.32871301420366583
         ],
         "y": [
          -0.26576015892905064,
          0.3559177427369799
         ]
        },
        {
         "hoverinfo": "none",
         "line": {
          "color": "black",
          "width": 2
         },
         "mode": "lines",
         "type": "scatter",
         "x": [
          0.7363265917503617,
          -0.17421746311338754
         ],
         "y": [
          -0.26576015892905064,
          0.5688029889800696
         ]
        },
        {
         "hoverinfo": "none",
         "line": {
          "color": "black",
          "width": 2
         },
         "mode": "lines",
         "type": "scatter",
         "x": [
          0.7363265917503617,
          -0.19021107595792602
         ],
         "y": [
          -0.26576015892905064,
          0.5509657171744741
         ]
        },
        {
         "hoverinfo": "none",
         "line": {
          "color": "black",
          "width": 2
         },
         "mode": "lines",
         "type": "scatter",
         "x": [
          0.7363265917503617,
          -0.20609924705876276
         ],
         "y": [
          -0.26576015892905064,
          0.5325331116649189
         ]
        },
        {
         "hoverinfo": "none",
         "line": {
          "color": "black",
          "width": 2
         },
         "mode": "lines",
         "type": "scatter",
         "x": [
          0.7363265917503617,
          -0.22202112931999418
         ],
         "y": [
          -0.26576015892905064,
          0.5133049094420784
         ]
        },
        {
         "hoverinfo": "none",
         "line": {
          "color": "black",
          "width": 2
         },
         "mode": "lines",
         "type": "scatter",
         "x": [
          0.7363265917503617,
          -0.32730104920677905
         ],
         "y": [
          -0.26576015892905064,
          0.36026485164522315
         ]
        },
        {
         "hoverinfo": "none",
         "line": {
          "color": "black",
          "width": 2
         },
         "mode": "lines",
         "type": "scatter",
         "x": [
          0.7363265917503617,
          -0.25344942320955416
         ],
         "y": [
          -0.26576015892905064,
          0.4728947044566914
         ]
        },
        {
         "hoverinfo": "none",
         "line": {
          "color": "black",
          "width": 2
         },
         "mode": "lines",
         "type": "scatter",
         "x": [
          0.758821753506579,
          -0.29466866276386827
         ],
         "y": [
          -0.22898769797014645,
          0.4228488928074905
         ]
        },
        {
         "hoverinfo": "none",
         "line": {
          "color": "black",
          "width": 2
         },
         "mode": "lines",
         "type": "scatter",
         "x": [
          0.758821753506579,
          -0.16798855132574708
         ],
         "y": [
          -0.22898769797014645,
          0.580998894223528
         ]
        },
        {
         "hoverinfo": "none",
         "line": {
          "color": "black",
          "width": 2
         },
         "mode": "lines",
         "type": "scatter",
         "x": [
          0.758821753506579,
          -0.3376198794495072
         ],
         "y": [
          -0.22898769797014645,
          0.33877322496592666
         ]
        },
        {
         "hoverinfo": "none",
         "line": {
          "color": "black",
          "width": 2
         },
         "mode": "lines",
         "type": "scatter",
         "x": [
          0.758821753506579,
          -0.2914368948561495
         ],
         "y": [
          -0.22898769797014645,
          0.4208678534140977
         ]
        },
        {
         "hoverinfo": "none",
         "line": {
          "color": "black",
          "width": 2
         },
         "mode": "lines",
         "type": "scatter",
         "x": [
          0.758821753506579,
          -0.32871301420366583
         ],
         "y": [
          -0.22898769797014645,
          0.3559177427369799
         ]
        },
        {
         "hoverinfo": "none",
         "line": {
          "color": "black",
          "width": 2
         },
         "mode": "lines",
         "type": "scatter",
         "x": [
          0.758821753506579,
          -0.3050202324513296
         ],
         "y": [
          -0.22898769797014645,
          0.3982995749241027
         ]
        },
        {
         "hoverinfo": "none",
         "line": {
          "color": "black",
          "width": 2
         },
         "mode": "lines",
         "type": "scatter",
         "x": [
          0.758821753506579,
          -0.32417107075660373
         ],
         "y": [
          -0.22898769797014645,
          0.36406436681634197
         ]
        },
        {
         "hoverinfo": "none",
         "line": {
          "color": "black",
          "width": 2
         },
         "mode": "lines",
         "type": "scatter",
         "x": [
          0.758821753506579,
          -0.331411387549088
         ],
         "y": [
          -0.22898769797014645,
          0.35105014190552947
         ]
        },
        {
         "hoverinfo": "none",
         "line": {
          "color": "black",
          "width": 2
         },
         "mode": "lines",
         "type": "scatter",
         "x": [
          0.758821753506579,
          -0.3442153269728533
         ],
         "y": [
          -0.22898769797014645,
          0.32624010805302683
         ]
        },
        {
         "hoverinfo": "none",
         "line": {
          "color": "black",
          "width": 2
         },
         "mode": "lines",
         "type": "scatter",
         "x": [
          0.8245653180102448,
          -0.29466866276386827
         ],
         "y": [
          -0.09002616870551412,
          0.4228488928074905
         ]
        },
        {
         "hoverinfo": "none",
         "line": {
          "color": "black",
          "width": 2
         },
         "mode": "lines",
         "type": "scatter",
         "x": [
          0.8245653180102448,
          -0.3376198794495072
         ],
         "y": [
          -0.09002616870551412,
          0.33877322496592666
         ]
        },
        {
         "hoverinfo": "none",
         "line": {
          "color": "black",
          "width": 2
         },
         "mode": "lines",
         "type": "scatter",
         "x": [
          0.8245653180102448,
          -0.32417107075660373
         ],
         "y": [
          -0.09002616870551412,
          0.36406436681634197
         ]
        },
        {
         "hoverinfo": "none",
         "line": {
          "color": "black",
          "width": 2
         },
         "mode": "lines",
         "type": "scatter",
         "x": [
          0.8245653180102448,
          -0.34940395042500294
         ],
         "y": [
          -0.09002616870551412,
          0.2931755229334032
         ]
        },
        {
         "hoverinfo": "none",
         "line": {
          "color": "black",
          "width": 2
         },
         "mode": "lines",
         "type": "scatter",
         "x": [
          0.8245653180102448,
          -0.35729254915860864
         ],
         "y": [
          -0.09002616870551412,
          0.2679702167075925
         ]
        },
        {
         "hoverinfo": "none",
         "line": {
          "color": "black",
          "width": 2
         },
         "mode": "lines",
         "type": "scatter",
         "x": [
          0.8245653180102448,
          -0.36471897116628976
         ],
         "y": [
          -0.09002616870551412,
          0.24232940544662387
         ]
        },
        {
         "hoverinfo": "none",
         "line": {
          "color": "black",
          "width": 2
         },
         "mode": "lines",
         "type": "scatter",
         "x": [
          0.8245653180102448,
          -0.3716572958796341
         ],
         "y": [
          -0.09002616870551412,
          0.21628505873563011
         ]
        },
        {
         "hoverinfo": "none",
         "line": {
          "color": "black",
          "width": 2
         },
         "mode": "lines",
         "type": "scatter",
         "x": [
          0.8245653180102448,
          -0.37808200235061556
         ],
         "y": [
          -0.09002616870551412,
          0.18987179546994126
         ]
        },
        {
         "hoverinfo": "none",
         "line": {
          "color": "black",
          "width": 2
         },
         "mode": "lines",
         "type": "scatter",
         "x": [
          0.8245653180102448,
          -0.3839682498964865
         ],
         "y": [
          -0.09002616870551412,
          0.163123596155302
         ]
        },
        {
         "hoverinfo": "none",
         "line": {
          "color": "black",
          "width": 2
         },
         "mode": "lines",
         "type": "scatter",
         "x": [
          0.8245653180102448,
          -0.38929778143447297
         ],
         "y": [
          -0.09002616870551412,
          0.13606688524977956
         ]
        },
        {
         "hoverinfo": "none",
         "line": {
          "color": "black",
          "width": 2
         },
         "mode": "lines",
         "type": "scatter",
         "x": [
          0.8743180532337418,
          -0.35004523546130645
         ],
         "y": [
          -0.08266476778066068,
          0.1036068965694636
         ]
        },
        {
         "hoverinfo": "none",
         "line": {
          "color": "black",
          "width": 2
         },
         "mode": "lines",
         "type": "scatter",
         "x": [
          0.8743180532337418,
          -0.35057003728818487
         ],
         "y": [
          -0.08266476778066068,
          0.07105562310216913
         ]
        },
        {
         "hoverinfo": "none",
         "line": {
          "color": "black",
          "width": 2
         },
         "mode": "lines",
         "type": "scatter",
         "x": [
          0.8743180532337418,
          -0.3536118207873294
         ],
         "y": [
          -0.08266476778066068,
          0.044503698681175735
         ]
        },
        {
         "hoverinfo": "none",
         "line": {
          "color": "black",
          "width": 2
         },
         "mode": "lines",
         "type": "scatter",
         "x": [
          0.8743180532337418,
          -0.35608661124474306
         ],
         "y": [
          -0.08266476778066068,
          0.017814516919548766
         ]
        },
        {
         "hoverinfo": "none",
         "line": {
          "color": "black",
          "width": 2
         },
         "mode": "lines",
         "type": "scatter",
         "x": [
          0.8743180532337418,
          -0.35798862248539776
         ],
         "y": [
          -0.08266476778066068,
          -0.008997613102616193
         ]
        },
        {
         "hoverinfo": "none",
         "line": {
          "color": "black",
          "width": 2
         },
         "mode": "lines",
         "type": "scatter",
         "x": [
          0.8743180532337418,
          -0.3593116771455204
         ],
         "y": [
          -0.08266476778066068,
          -0.03590967497599907
         ]
        },
        {
         "hoverinfo": "none",
         "line": {
          "color": "black",
          "width": 2
         },
         "mode": "lines",
         "type": "scatter",
         "x": [
          0.8743180532337418,
          -0.16798855132574708
         ],
         "y": [
          -0.08266476778066068,
          0.580998894223528
         ]
        },
        {
         "hoverinfo": "none",
         "line": {
          "color": "black",
          "width": 2
         },
         "mode": "lines",
         "type": "scatter",
         "x": [
          0.8743180532337418,
          -0.17422884649421513
         ],
         "y": [
          -0.08266476778066068,
          0.5685927776097166
         ]
        },
        {
         "hoverinfo": "none",
         "line": {
          "color": "black",
          "width": 2
         },
         "mode": "lines",
         "type": "scatter",
         "x": [
          0.8743180532337418,
          -0.3600502827866533
         ],
         "y": [
          -0.08266476778066068,
          -0.06290226300250229
         ]
        },
        {
         "hoverinfo": "none",
         "line": {
          "color": "black",
          "width": 2
         },
         "mode": "lines",
         "type": "scatter",
         "x": [
          0.8743180532337418,
          -0.36019814465715977
         ],
         "y": [
          -0.08266476778066068,
          -0.08996952900478274
         ]
        },
        {
         "hoverinfo": "none",
         "line": {
          "color": "black",
          "width": 2
         },
         "mode": "lines",
         "type": "scatter",
         "x": [
          0.8590118388568114,
          -0.37617897153189955
         ],
         "y": [
          -0.12982895921020715,
          -0.10468300825158368
         ]
        },
        {
         "hoverinfo": "none",
         "line": {
          "color": "black",
          "width": 2
         },
         "mode": "lines",
         "type": "scatter",
         "x": [
          0.8590118388568114,
          -0.376377769489275
         ],
         "y": [
          -0.12982895921020715,
          -0.1325498448480414
         ]
        },
        {
         "hoverinfo": "none",
         "line": {
          "color": "black",
          "width": 2
         },
         "mode": "lines",
         "type": "scatter",
         "x": [
          0.8590118388568114,
          -0.3759542763165892
         ],
         "y": [
          -0.12982895921020715,
          -0.16044289405761547
         ]
        },
        {
         "hoverinfo": "none",
         "line": {
          "color": "black",
          "width": 2
         },
         "mode": "lines",
         "type": "scatter",
         "x": [
          0.8590118388568114,
          -0.35004523546130645
         ],
         "y": [
          -0.12982895921020715,
          0.1036068965694636
         ]
        },
        {
         "hoverinfo": "none",
         "line": {
          "color": "black",
          "width": 2
         },
         "mode": "lines",
         "type": "scatter",
         "x": [
          0.8590118388568114,
          -0.3749043925392117
         ],
         "y": [
          -0.12982895921020715,
          -0.18835705662633795
         ]
        },
        {
         "hoverinfo": "none",
         "line": {
          "color": "black",
          "width": 2
         },
         "mode": "lines",
         "type": "scatter",
         "x": [
          0.8590118388568114,
          -0.3394786113635401
         ],
         "y": [
          -0.12982895921020715,
          0.1698273881982737
         ]
        },
        {
         "hoverinfo": "none",
         "line": {
          "color": "black",
          "width": 2
         },
         "mode": "lines",
         "type": "scatter",
         "x": [
          0.8590118388568114,
          -0.37322592742160976
         ],
         "y": [
          -0.12982895921020715,
          -0.21627254237605986
         ]
        },
        {
         "hoverinfo": "none",
         "line": {
          "color": "black",
          "width": 2
         },
         "mode": "lines",
         "type": "scatter",
         "x": [
          0.8590118388568114,
          -0.3709182550727891
         ],
         "y": [
          -0.12982895921020715,
          -0.24416509419377636
         ]
        },
        {
         "hoverinfo": "none",
         "line": {
          "color": "black",
          "width": 2
         },
         "mode": "lines",
         "type": "scatter",
         "x": [
          0.8590118388568114,
          -0.36798189366404244
         ],
         "y": [
          -0.12982895921020715,
          -0.27201120319993843
         ]
        },
        {
         "hoverinfo": "none",
         "line": {
          "color": "black",
          "width": 2
         },
         "mode": "lines",
         "type": "scatter",
         "x": [
          0.8590118388568114,
          -0.3644186706943934
         ],
         "y": [
          -0.12982895921020715,
          -0.2997850313809604
         ]
        },
        {
         "hoverinfo": "none",
         "line": {
          "color": "black",
          "width": 2
         },
         "mode": "lines",
         "type": "scatter",
         "x": [
          0.8887713105133785,
          -0.32871301420366583
         ],
         "y": [
          0.14393860336784559,
          0.3559177427369799
         ]
        },
        {
         "hoverinfo": "none",
         "line": {
          "color": "black",
          "width": 2
         },
         "mode": "lines",
         "type": "scatter",
         "x": [
          0.8887713105133785,
          -0.26559514857166006
         ],
         "y": [
          0.14393860336784559,
          -0.29382210850451734
         ]
        },
        {
         "hoverinfo": "none",
         "line": {
          "color": "black",
          "width": 2
         },
         "mode": "lines",
         "type": "scatter",
         "x": [
          0.8887713105133785,
          -0.2559844807392503
         ],
         "y": [
          0.14393860336784559,
          -0.31852773432314274
         ]
        },
        {
         "hoverinfo": "none",
         "line": {
          "color": "black",
          "width": 2
         },
         "mode": "lines",
         "type": "scatter",
         "x": [
          0.8887713105133785,
          -0.24592119308738328
         ],
         "y": [
          0.14393860336784559,
          -0.34285272951219364
         ]
        },
        {
         "hoverinfo": "none",
         "line": {
          "color": "black",
          "width": 2
         },
         "mode": "lines",
         "type": "scatter",
         "x": [
          0.8887713105133785,
          -0.23542317163300988
         ],
         "y": [
          0.14393860336784559,
          -0.36678498748736826
         ]
        },
        {
         "hoverinfo": "none",
         "line": {
          "color": "black",
          "width": 2
         },
         "mode": "lines",
         "type": "scatter",
         "x": [
          0.8887713105133785,
          -0.22451415572519273
         ],
         "y": [
          0.14393860336784559,
          -0.39030196426193214
         ]
        },
        {
         "hoverinfo": "none",
         "line": {
          "color": "black",
          "width": 2
         },
         "mode": "lines",
         "type": "scatter",
         "x": [
          0.8887713105133785,
          -0.2132240165864552
         ],
         "y": [
          0.14393860336784559,
          -0.41337267014613205
         ]
        },
        {
         "hoverinfo": "none",
         "line": {
          "color": "black",
          "width": 2
         },
         "mode": "lines",
         "type": "scatter",
         "x": [
          0.8887713105133785,
          -0.32730104920677905
         ],
         "y": [
          0.14393860336784559,
          0.36026485164522315
         ]
        },
        {
         "hoverinfo": "none",
         "line": {
          "color": "black",
          "width": 2
         },
         "mode": "lines",
         "type": "scatter",
         "x": [
          0.8887713105133785,
          -0.20158838377472674
         ],
         "y": [
          0.14393860336784559,
          -0.43596059647755314
         ]
        },
        {
         "hoverinfo": "none",
         "line": {
          "color": "black",
          "width": 2
         },
         "mode": "lines",
         "type": "scatter",
         "x": [
          0.9068655873965794,
          -0.08217702979112823
         ],
         "y": [
          0.3739113671681816,
          -0.3652607122276079
         ]
        },
        {
         "hoverinfo": "none",
         "line": {
          "color": "black",
          "width": 2
         },
         "mode": "lines",
         "type": "scatter",
         "x": [
          0.9068655873965794,
          -0.06732084189538386
         ],
         "y": [
          0.3739113671681816,
          -0.3848186061155443
         ]
        },
        {
         "hoverinfo": "none",
         "line": {
          "color": "black",
          "width": 2
         },
         "mode": "lines",
         "type": "scatter",
         "x": [
          0.9068655873965794,
          -0.32871301420366583
         ],
         "y": [
          0.3739113671681816,
          0.3559177427369799
         ]
        },
        {
         "hoverinfo": "none",
         "line": {
          "color": "black",
          "width": 2
         },
         "mode": "lines",
         "type": "scatter",
         "x": [
          0.9068655873965794,
          -0.052260399994478596
         ],
         "y": [
          0.3739113671681816,
          -0.4038579028518609
         ]
        },
        {
         "hoverinfo": "none",
         "line": {
          "color": "black",
          "width": 2
         },
         "mode": "lines",
         "type": "scatter",
         "x": [
          0.9068655873965794,
          -0.037036788996823465
         ],
         "y": [
          0.3739113671681816,
          -0.4223549556916361
         ]
        },
        {
         "hoverinfo": "none",
         "line": {
          "color": "black",
          "width": 2
         },
         "mode": "lines",
         "type": "scatter",
         "x": [
          0.9068655873965794,
          -0.02169615634085878
         ],
         "y": [
          0.3739113671681816,
          -0.4402845272097486
         ]
        },
        {
         "hoverinfo": "none",
         "line": {
          "color": "black",
          "width": 2
         },
         "mode": "lines",
         "type": "scatter",
         "x": [
          0.9068655873965794,
          -0.006290449461094518
         ],
         "y": [
          0.3739113671681816,
          -0.4576194784981829
         ]
        },
        {
         "hoverinfo": "none",
         "line": {
          "color": "black",
          "width": 2
         },
         "mode": "lines",
         "type": "scatter",
         "x": [
          0.9068655873965794,
          0.009122063632979816
         ],
         "y": [
          0.3739113671681816,
          -0.47433076570519805
         ]
        },
        {
         "hoverinfo": "none",
         "line": {
          "color": "black",
          "width": 2
         },
         "mode": "lines",
         "type": "scatter",
         "x": [
          0.9068655873965794,
          0.024475681302096822
         ],
         "y": [
          0.3739113671681816,
          -0.49038684659742426
         ]
        },
        {
         "hoverinfo": "none",
         "line": {
          "color": "black",
          "width": 2
         },
         "mode": "lines",
         "type": "scatter",
         "x": [
          0.9068655873965794,
          0.03969736691502358
         ],
         "y": [
          0.3739113671681816,
          -0.5057544084160497
         ]
        },
        {
         "hoverinfo": "none",
         "line": {
          "color": "black",
          "width": 2
         },
         "mode": "lines",
         "type": "scatter",
         "x": [
          0.8522008333158481,
          0.15538977982733226
         ],
         "y": [
          0.6653777976219315,
          -0.3543797608280276
         ]
        },
        {
         "hoverinfo": "none",
         "line": {
          "color": "black",
          "width": 2
         },
         "mode": "lines",
         "type": "scatter",
         "x": [
          0.8522008333158481,
          0.17211355063729292
         ],
         "y": [
          0.6653777976219315,
          -0.36561277294863853
         ]
        },
        {
         "hoverinfo": "none",
         "line": {
          "color": "black",
          "width": 2
         },
         "mode": "lines",
         "type": "scatter",
         "x": [
          0.8522008333158481,
          0.1884754023280454
         ],
         "y": [
          0.6653777976219315,
          -0.37623067749281847
         ]
        },
        {
         "hoverinfo": "none",
         "line": {
          "color": "black",
          "width": 2
         },
         "mode": "lines",
         "type": "scatter",
         "x": [
          0.8522008333158481,
          0.20439479658223486
         ],
         "y": [
          0.6653777976219315,
          -0.3862192684159173
         ]
        },
        {
         "hoverinfo": "none",
         "line": {
          "color": "black",
          "width": 2
         },
         "mode": "lines",
         "type": "scatter",
         "x": [
          0.8522008333158481,
          0.2197836837135445
         ],
         "y": [
          0.6653777976219315,
          -0.39556369227401955
         ]
        },
        {
         "hoverinfo": "none",
         "line": {
          "color": "black",
          "width": 2
         },
         "mode": "lines",
         "type": "scatter",
         "x": [
          0.8522008333158481,
          0.23454618072631434
         ],
         "y": [
          0.6653777976219315,
          -0.4042483523631283
         ]
        },
        {
         "hoverinfo": "none",
         "line": {
          "color": "black",
          "width": 2
         },
         "mode": "lines",
         "type": "scatter",
         "x": [
          0.8522008333158481,
          0.24857792258353095
         ],
         "y": [
          0.6653777976219315,
          -0.41225651360812365
         ]
        },
        {
         "hoverinfo": "none",
         "line": {
          "color": "black",
          "width": 2
         },
         "mode": "lines",
         "type": "scatter",
         "x": [
          0.8522008333158481,
          -0.3376198794495072
         ],
         "y": [
          0.6653777976219315,
          0.33877322496592666
         ]
        },
        {
         "hoverinfo": "none",
         "line": {
          "color": "black",
          "width": 2
         },
         "mode": "lines",
         "type": "scatter",
         "x": [
          0.8522008333158481,
          0.2617646977094083
         ],
         "y": [
          0.6653777976219315,
          -0.4195694053693854
         ]
        },
        {
         "hoverinfo": "none",
         "line": {
          "color": "black",
          "width": 2
         },
         "mode": "lines",
         "type": "scatter",
         "x": [
          0.8522008333158481,
          0.27398161253487924
         ],
         "y": [
          0.6653777976219315,
          -0.42616551921504076
         ]
        },
        {
         "hoverinfo": "none",
         "line": {
          "color": "black",
          "width": 2
         },
         "mode": "lines",
         "type": "scatter",
         "x": [
          0.23843116340548254,
          0.3317023501290409
         ],
         "y": [
          1,
          -0.23098294129237987
         ]
        },
        {
         "hoverinfo": "none",
         "line": {
          "color": "black",
          "width": 2
         },
         "mode": "lines",
         "type": "scatter",
         "x": [
          0.23843116340548254,
          0.3495678284406914
         ],
         "y": [
          1,
          -0.2295864019495694
         ]
        },
        {
         "hoverinfo": "none",
         "line": {
          "color": "black",
          "width": 2
         },
         "mode": "lines",
         "type": "scatter",
         "x": [
          0.23843116340548254,
          0.3664865378186128
         ],
         "y": [
          1,
          -0.22802792883177084
         ]
        },
        {
         "hoverinfo": "none",
         "line": {
          "color": "black",
          "width": 2
         },
         "mode": "lines",
         "type": "scatter",
         "x": [
          0.23843116340548254,
          0.3823630478955233
         ],
         "y": [
          1,
          -0.22635688151794695
         ]
        },
        {
         "hoverinfo": "none",
         "line": {
          "color": "black",
          "width": 2
         },
         "mode": "lines",
         "type": "scatter",
         "x": [
          0.23843116340548254,
          0.39708897478559374
         ],
         "y": [
          1,
          -0.2246269281782508
         ]
        },
        {
         "hoverinfo": "none",
         "line": {
          "color": "black",
          "width": 2
         },
         "mode": "lines",
         "type": "scatter",
         "x": [
          0.23843116340548254,
          0.41054074383263733
         ],
         "y": [
          1,
          -0.22289626243000105
         ]
        },
        {
         "hoverinfo": "none",
         "line": {
          "color": "black",
          "width": 2
         },
         "mode": "lines",
         "type": "scatter",
         "x": [
          0.23843116340548254,
          0.42257650076519354
         ],
         "y": [
          1,
          -0.2212277600265522
         ]
        },
        {
         "hoverinfo": "none",
         "line": {
          "color": "black",
          "width": 2
         },
         "mode": "lines",
         "type": "scatter",
         "x": [
          0.23843116340548254,
          0.43303111869421024
         ],
         "y": [
          1,
          -0.21968916158586838
         ]
        },
        {
         "hoverinfo": "none",
         "line": {
          "color": "black",
          "width": 2
         },
         "mode": "lines",
         "type": "scatter",
         "x": [
          0.23843116340548254,
          0.4417105351411917
         ],
         "y": [
          1,
          -0.21835297882712604
         ]
        },
        {
         "hoverinfo": "none",
         "line": {
          "color": "black",
          "width": 2
         },
         "mode": "lines",
         "type": "scatter",
         "x": [
          0.23843116340548254,
          0.448383588527105
         ],
         "y": [
          1,
          -0.2172960388422182
         ]
        }
       ],
       "layout": {
        "showlegend": false,
        "template": {
         "data": {
          "bar": [
           {
            "error_x": {
             "color": "#2a3f5f"
            },
            "error_y": {
             "color": "#2a3f5f"
            },
            "marker": {
             "line": {
              "color": "#E5ECF6",
              "width": 0.5
             },
             "pattern": {
              "fillmode": "overlay",
              "size": 10,
              "solidity": 0.2
             }
            },
            "type": "bar"
           }
          ],
          "barpolar": [
           {
            "marker": {
             "line": {
              "color": "#E5ECF6",
              "width": 0.5
             },
             "pattern": {
              "fillmode": "overlay",
              "size": 10,
              "solidity": 0.2
             }
            },
            "type": "barpolar"
           }
          ],
          "carpet": [
           {
            "aaxis": {
             "endlinecolor": "#2a3f5f",
             "gridcolor": "white",
             "linecolor": "white",
             "minorgridcolor": "white",
             "startlinecolor": "#2a3f5f"
            },
            "baxis": {
             "endlinecolor": "#2a3f5f",
             "gridcolor": "white",
             "linecolor": "white",
             "minorgridcolor": "white",
             "startlinecolor": "#2a3f5f"
            },
            "type": "carpet"
           }
          ],
          "choropleth": [
           {
            "colorbar": {
             "outlinewidth": 0,
             "ticks": ""
            },
            "type": "choropleth"
           }
          ],
          "contour": [
           {
            "colorbar": {
             "outlinewidth": 0,
             "ticks": ""
            },
            "colorscale": [
             [
              0,
              "#0d0887"
             ],
             [
              0.1111111111111111,
              "#46039f"
             ],
             [
              0.2222222222222222,
              "#7201a8"
             ],
             [
              0.3333333333333333,
              "#9c179e"
             ],
             [
              0.4444444444444444,
              "#bd3786"
             ],
             [
              0.5555555555555556,
              "#d8576b"
             ],
             [
              0.6666666666666666,
              "#ed7953"
             ],
             [
              0.7777777777777778,
              "#fb9f3a"
             ],
             [
              0.8888888888888888,
              "#fdca26"
             ],
             [
              1,
              "#f0f921"
             ]
            ],
            "type": "contour"
           }
          ],
          "contourcarpet": [
           {
            "colorbar": {
             "outlinewidth": 0,
             "ticks": ""
            },
            "type": "contourcarpet"
           }
          ],
          "heatmap": [
           {
            "colorbar": {
             "outlinewidth": 0,
             "ticks": ""
            },
            "colorscale": [
             [
              0,
              "#0d0887"
             ],
             [
              0.1111111111111111,
              "#46039f"
             ],
             [
              0.2222222222222222,
              "#7201a8"
             ],
             [
              0.3333333333333333,
              "#9c179e"
             ],
             [
              0.4444444444444444,
              "#bd3786"
             ],
             [
              0.5555555555555556,
              "#d8576b"
             ],
             [
              0.6666666666666666,
              "#ed7953"
             ],
             [
              0.7777777777777778,
              "#fb9f3a"
             ],
             [
              0.8888888888888888,
              "#fdca26"
             ],
             [
              1,
              "#f0f921"
             ]
            ],
            "type": "heatmap"
           }
          ],
          "heatmapgl": [
           {
            "colorbar": {
             "outlinewidth": 0,
             "ticks": ""
            },
            "colorscale": [
             [
              0,
              "#0d0887"
             ],
             [
              0.1111111111111111,
              "#46039f"
             ],
             [
              0.2222222222222222,
              "#7201a8"
             ],
             [
              0.3333333333333333,
              "#9c179e"
             ],
             [
              0.4444444444444444,
              "#bd3786"
             ],
             [
              0.5555555555555556,
              "#d8576b"
             ],
             [
              0.6666666666666666,
              "#ed7953"
             ],
             [
              0.7777777777777778,
              "#fb9f3a"
             ],
             [
              0.8888888888888888,
              "#fdca26"
             ],
             [
              1,
              "#f0f921"
             ]
            ],
            "type": "heatmapgl"
           }
          ],
          "histogram": [
           {
            "marker": {
             "pattern": {
              "fillmode": "overlay",
              "size": 10,
              "solidity": 0.2
             }
            },
            "type": "histogram"
           }
          ],
          "histogram2d": [
           {
            "colorbar": {
             "outlinewidth": 0,
             "ticks": ""
            },
            "colorscale": [
             [
              0,
              "#0d0887"
             ],
             [
              0.1111111111111111,
              "#46039f"
             ],
             [
              0.2222222222222222,
              "#7201a8"
             ],
             [
              0.3333333333333333,
              "#9c179e"
             ],
             [
              0.4444444444444444,
              "#bd3786"
             ],
             [
              0.5555555555555556,
              "#d8576b"
             ],
             [
              0.6666666666666666,
              "#ed7953"
             ],
             [
              0.7777777777777778,
              "#fb9f3a"
             ],
             [
              0.8888888888888888,
              "#fdca26"
             ],
             [
              1,
              "#f0f921"
             ]
            ],
            "type": "histogram2d"
           }
          ],
          "histogram2dcontour": [
           {
            "colorbar": {
             "outlinewidth": 0,
             "ticks": ""
            },
            "colorscale": [
             [
              0,
              "#0d0887"
             ],
             [
              0.1111111111111111,
              "#46039f"
             ],
             [
              0.2222222222222222,
              "#7201a8"
             ],
             [
              0.3333333333333333,
              "#9c179e"
             ],
             [
              0.4444444444444444,
              "#bd3786"
             ],
             [
              0.5555555555555556,
              "#d8576b"
             ],
             [
              0.6666666666666666,
              "#ed7953"
             ],
             [
              0.7777777777777778,
              "#fb9f3a"
             ],
             [
              0.8888888888888888,
              "#fdca26"
             ],
             [
              1,
              "#f0f921"
             ]
            ],
            "type": "histogram2dcontour"
           }
          ],
          "mesh3d": [
           {
            "colorbar": {
             "outlinewidth": 0,
             "ticks": ""
            },
            "type": "mesh3d"
           }
          ],
          "parcoords": [
           {
            "line": {
             "colorbar": {
              "outlinewidth": 0,
              "ticks": ""
             }
            },
            "type": "parcoords"
           }
          ],
          "pie": [
           {
            "automargin": true,
            "type": "pie"
           }
          ],
          "scatter": [
           {
            "fillpattern": {
             "fillmode": "overlay",
             "size": 10,
             "solidity": 0.2
            },
            "type": "scatter"
           }
          ],
          "scatter3d": [
           {
            "line": {
             "colorbar": {
              "outlinewidth": 0,
              "ticks": ""
             }
            },
            "marker": {
             "colorbar": {
              "outlinewidth": 0,
              "ticks": ""
             }
            },
            "type": "scatter3d"
           }
          ],
          "scattercarpet": [
           {
            "marker": {
             "colorbar": {
              "outlinewidth": 0,
              "ticks": ""
             }
            },
            "type": "scattercarpet"
           }
          ],
          "scattergeo": [
           {
            "marker": {
             "colorbar": {
              "outlinewidth": 0,
              "ticks": ""
             }
            },
            "type": "scattergeo"
           }
          ],
          "scattergl": [
           {
            "marker": {
             "colorbar": {
              "outlinewidth": 0,
              "ticks": ""
             }
            },
            "type": "scattergl"
           }
          ],
          "scattermapbox": [
           {
            "marker": {
             "colorbar": {
              "outlinewidth": 0,
              "ticks": ""
             }
            },
            "type": "scattermapbox"
           }
          ],
          "scatterpolar": [
           {
            "marker": {
             "colorbar": {
              "outlinewidth": 0,
              "ticks": ""
             }
            },
            "type": "scatterpolar"
           }
          ],
          "scatterpolargl": [
           {
            "marker": {
             "colorbar": {
              "outlinewidth": 0,
              "ticks": ""
             }
            },
            "type": "scatterpolargl"
           }
          ],
          "scatterternary": [
           {
            "marker": {
             "colorbar": {
              "outlinewidth": 0,
              "ticks": ""
             }
            },
            "type": "scatterternary"
           }
          ],
          "surface": [
           {
            "colorbar": {
             "outlinewidth": 0,
             "ticks": ""
            },
            "colorscale": [
             [
              0,
              "#0d0887"
             ],
             [
              0.1111111111111111,
              "#46039f"
             ],
             [
              0.2222222222222222,
              "#7201a8"
             ],
             [
              0.3333333333333333,
              "#9c179e"
             ],
             [
              0.4444444444444444,
              "#bd3786"
             ],
             [
              0.5555555555555556,
              "#d8576b"
             ],
             [
              0.6666666666666666,
              "#ed7953"
             ],
             [
              0.7777777777777778,
              "#fb9f3a"
             ],
             [
              0.8888888888888888,
              "#fdca26"
             ],
             [
              1,
              "#f0f921"
             ]
            ],
            "type": "surface"
           }
          ],
          "table": [
           {
            "cells": {
             "fill": {
              "color": "#EBF0F8"
             },
             "line": {
              "color": "white"
             }
            },
            "header": {
             "fill": {
              "color": "#C8D4E3"
             },
             "line": {
              "color": "white"
             }
            },
            "type": "table"
           }
          ]
         },
         "layout": {
          "annotationdefaults": {
           "arrowcolor": "#2a3f5f",
           "arrowhead": 0,
           "arrowwidth": 1
          },
          "autotypenumbers": "strict",
          "coloraxis": {
           "colorbar": {
            "outlinewidth": 0,
            "ticks": ""
           }
          },
          "colorscale": {
           "diverging": [
            [
             0,
             "#8e0152"
            ],
            [
             0.1,
             "#c51b7d"
            ],
            [
             0.2,
             "#de77ae"
            ],
            [
             0.3,
             "#f1b6da"
            ],
            [
             0.4,
             "#fde0ef"
            ],
            [
             0.5,
             "#f7f7f7"
            ],
            [
             0.6,
             "#e6f5d0"
            ],
            [
             0.7,
             "#b8e186"
            ],
            [
             0.8,
             "#7fbc41"
            ],
            [
             0.9,
             "#4d9221"
            ],
            [
             1,
             "#276419"
            ]
           ],
           "sequential": [
            [
             0,
             "#0d0887"
            ],
            [
             0.1111111111111111,
             "#46039f"
            ],
            [
             0.2222222222222222,
             "#7201a8"
            ],
            [
             0.3333333333333333,
             "#9c179e"
            ],
            [
             0.4444444444444444,
             "#bd3786"
            ],
            [
             0.5555555555555556,
             "#d8576b"
            ],
            [
             0.6666666666666666,
             "#ed7953"
            ],
            [
             0.7777777777777778,
             "#fb9f3a"
            ],
            [
             0.8888888888888888,
             "#fdca26"
            ],
            [
             1,
             "#f0f921"
            ]
           ],
           "sequentialminus": [
            [
             0,
             "#0d0887"
            ],
            [
             0.1111111111111111,
             "#46039f"
            ],
            [
             0.2222222222222222,
             "#7201a8"
            ],
            [
             0.3333333333333333,
             "#9c179e"
            ],
            [
             0.4444444444444444,
             "#bd3786"
            ],
            [
             0.5555555555555556,
             "#d8576b"
            ],
            [
             0.6666666666666666,
             "#ed7953"
            ],
            [
             0.7777777777777778,
             "#fb9f3a"
            ],
            [
             0.8888888888888888,
             "#fdca26"
            ],
            [
             1,
             "#f0f921"
            ]
           ]
          },
          "colorway": [
           "#636efa",
           "#EF553B",
           "#00cc96",
           "#ab63fa",
           "#FFA15A",
           "#19d3f3",
           "#FF6692",
           "#B6E880",
           "#FF97FF",
           "#FECB52"
          ],
          "font": {
           "color": "#2a3f5f"
          },
          "geo": {
           "bgcolor": "white",
           "lakecolor": "white",
           "landcolor": "#E5ECF6",
           "showlakes": true,
           "showland": true,
           "subunitcolor": "white"
          },
          "hoverlabel": {
           "align": "left"
          },
          "hovermode": "closest",
          "mapbox": {
           "style": "light"
          },
          "paper_bgcolor": "white",
          "plot_bgcolor": "#E5ECF6",
          "polar": {
           "angularaxis": {
            "gridcolor": "white",
            "linecolor": "white",
            "ticks": ""
           },
           "bgcolor": "#E5ECF6",
           "radialaxis": {
            "gridcolor": "white",
            "linecolor": "white",
            "ticks": ""
           }
          },
          "scene": {
           "xaxis": {
            "backgroundcolor": "#E5ECF6",
            "gridcolor": "white",
            "gridwidth": 2,
            "linecolor": "white",
            "showbackground": true,
            "ticks": "",
            "zerolinecolor": "white"
           },
           "yaxis": {
            "backgroundcolor": "#E5ECF6",
            "gridcolor": "white",
            "gridwidth": 2,
            "linecolor": "white",
            "showbackground": true,
            "ticks": "",
            "zerolinecolor": "white"
           },
           "zaxis": {
            "backgroundcolor": "#E5ECF6",
            "gridcolor": "white",
            "gridwidth": 2,
            "linecolor": "white",
            "showbackground": true,
            "ticks": "",
            "zerolinecolor": "white"
           }
          },
          "shapedefaults": {
           "line": {
            "color": "#2a3f5f"
           }
          },
          "ternary": {
           "aaxis": {
            "gridcolor": "white",
            "linecolor": "white",
            "ticks": ""
           },
           "baxis": {
            "gridcolor": "white",
            "linecolor": "white",
            "ticks": ""
           },
           "bgcolor": "#E5ECF6",
           "caxis": {
            "gridcolor": "white",
            "linecolor": "white",
            "ticks": ""
           }
          },
          "title": {
           "x": 0.05
          },
          "xaxis": {
           "automargin": true,
           "gridcolor": "white",
           "linecolor": "white",
           "ticks": "",
           "title": {
            "standoff": 15
           },
           "zerolinecolor": "white",
           "zerolinewidth": 2
          },
          "yaxis": {
           "automargin": true,
           "gridcolor": "white",
           "linecolor": "white",
           "ticks": "",
           "title": {
            "standoff": 15
           },
           "zerolinecolor": "white",
           "zerolinewidth": 2
          }
         }
        },
        "xaxis": {
         "visible": false
        },
        "yaxis": {
         "visible": false
        }
       }
      },
      "text/html": [
       "<div>                            <div id=\"0789d7c5-569b-4da3-b14c-c7984ba8e90b\" class=\"plotly-graph-div\" style=\"height:525px; width:100%;\"></div>            <script type=\"text/javascript\">                require([\"plotly\"], function(Plotly) {                    window.PLOTLYENV=window.PLOTLYENV || {};                                    if (document.getElementById(\"0789d7c5-569b-4da3-b14c-c7984ba8e90b\")) {                    Plotly.newPlot(                        \"0789d7c5-569b-4da3-b14c-c7984ba8e90b\",                        [{\"marker\":{\"color\":[\"yellow\",\"yellow\",\"yellow\",\"yellow\",\"yellow\",\"yellow\",\"yellow\",\"yellow\",\"yellow\",\"yellow\",\"blue\",\"blue\",\"blue\",\"blue\",\"blue\",\"blue\",\"blue\",\"blue\",\"blue\",\"blue\",\"blue\",\"blue\",\"blue\",\"blue\",\"blue\",\"blue\",\"blue\",\"blue\",\"blue\",\"blue\",\"blue\",\"blue\",\"blue\",\"blue\",\"blue\",\"blue\",\"blue\",\"blue\",\"blue\",\"blue\",\"blue\",\"blue\",\"blue\",\"blue\",\"blue\",\"blue\",\"blue\",\"blue\",\"blue\",\"blue\",\"blue\",\"blue\",\"blue\",\"blue\",\"blue\",\"blue\",\"blue\",\"blue\",\"blue\",\"blue\",\"blue\",\"blue\",\"blue\",\"blue\",\"blue\",\"blue\",\"blue\",\"blue\",\"blue\",\"blue\",\"blue\",\"blue\",\"blue\",\"blue\",\"blue\",\"blue\",\"blue\",\"blue\",\"blue\",\"blue\",\"blue\",\"blue\",\"blue\",\"blue\",\"blue\",\"blue\",\"blue\",\"blue\",\"blue\",\"blue\",\"blue\",\"blue\",\"blue\",\"blue\"],\"size\":50},\"mode\":\"markers\",\"text\":[\"IPO\",\"Energy Policies and Renewable Energy\",\"Government Regulations and Policies\",\"Healthcare Policies and Regulations\",\"Infrastructure Development and Investments\",\"Market Technology\",\"Environmental, Social, and Governance (ESG) Investing\",\"Climate Change and Market Impacts\",\"Pharma\",\"Automobiles\",\"23 Mind-boggling Oligarchs Statistics to Know in 2024\",\"\\u0915\\u094d\\u092f\\u093e \\u092b\\u093f\\u0930 \\u091f\\u093e\\u091f\\u093e \\u0917\\u094d\\u0930\\u0941\\u092a \\u092e\\u091a\\u093e\\u090f\\u0917\\u093e IPO \\u092e\\u093e\\u0930\\u094d\\u0915\\u0947\\u091f \\u092e\\u0947\\u0902 \\u0927\\u092e\\u093e\\u0932? \\u0916\\u092c\\u0930 \\u0906\\u0924\\u0947 \\u0939\\u0940 \\u0936\\u0947\\u092f\\u0930 \\u092c\\u0928\\u0928\\u0947 \\u0932\\u0917\\u0947 \\u0930\\u0949\\u0915\\u0947\\u091f\",\"Baron Capital ups Swiggy\\u2019s valuation; new antitrust law fine print\",\"ETMarkets SME Talk: Kulbhushan Parashar shares the secret of turning SME companies into multibaggers\",\"Tata Sons trying to avoid IPO. Is it Ok Tata Bye Bye for multi-billion-dollar rally?\",\"JM Financial says will fully cooperate with Sebi in probe into public issue of debt securities\",\"Pratham EPC Projects IPO: 11 \\u092e\\u093e\\u0930\\u094d\\u091a \\u0938\\u0947 \\u0932\\u0917\\u093e \\u0938\\u0915\\u0947\\u0902\\u0917\\u0947 \\u092a\\u0948\\u0938\\u093e, \\u0917\\u094d\\u0930\\u0947 \\u092e\\u093e\\u0930\\u094d\\u0915\\u0947\\u091f \\u092e\\u0947\\u0902 \\u0905\\u092d\\u0940 \\u0938\\u0947 \\u092d\\u093e\\u0917 \\u0930\\u0939\\u093e \\u0936\\u0947\\u092f\\u0930\",\"Peak XV, Tiger Global\\u2019s Meesho plans; consumer brand deals lure tech VCs\",\"Tata Sons looking at debt rejig to avoid IPO next year\",\"Inside Air NZ\\u2019s stripped-back alternative to Auckland Airport\\u2019s $3.9b terminal plan\",\"Green Hydrogen Market Analysis to 2033: Solar Energy Poised to Dominate the Global Market as Cost Reductions Drive Economic Viability\",\"Concentrated Solar Power Market to Reach $12.01 Billion by 2030 Owing to Rise in Demand for Clean Energy Sources | Says Coherent Market Insights\",\"A Technocratic War on Farmers, Oil Dependency, and Homemade Apple Pie\",\"BlackRock World Mining Trust Plc - Final Results\",\"Australian homes are getting bigger and bigger, and it's wiping out gains in energy efficiency\",\"Kerry: China Says It Might Not Use Coal Plants It\\u2019s Building, Have to Spend Trillions a Year to Hit Climate Goals\",\"Mining Global Market Report 2024\",\"Australian homes are getting bigger and bigger, and it\\u2019s wiping out gains in energy efficiency\",\"Teleperformance: 2023 Annual Results: Profitable Growth and Strong Cash Flow\",\"Plant-based Meals Market size to exceed $230.84 bn by 2032, Says Global Market Insights Inc.\",\"China Market Update: \\u201cTwo Sessions\\u201d Drives Technology & Healthcare Rally, Defending PDD & TikTok, Week In Review\",\"Goat Cheese Market to Reach $9.2 billion, Globally, by 2032 at 4.5% CAGR: Allied Market Research\",\"Sales of Global Plug-in Hybrid Electric Vehicles (PHEVs) are projected to grow at a CAGR of 17.9% by 2034.\",\"India's healthcare care innovation market to double to $60 billion by FY28, says new report\",\"Altisource Announces Fourth Quarter and Full Year 2023 Financial Results\",\"Keratin Products Market Expected to Reach $3.4 Billion, Globally, by 2032 at 6.1% CAGR\\u2014Allied Market Research\",\"Turning Machine Learning to Federated Learning in Minutes with NVIDIA FLARE 2.4\",\"Earnings call: Flywire reports robust Q4 and FY 2023 financials\",\"Cyber Insurance Market Size to Reach Revenue Worth US$68.2 Bn by 2030-end, Forecasts Fairfield Market Research\",\"Global Account Reconciliation Software Market Size is Estimated to Reach USD 6930 million by 2030, Growing at a CAGR of 14.8%: Straits Research\",\"India Construction Equipment Market Share Analysis & Growth Forecasts to 2029: Increasing Government Spending on Construction and Infrastructure Development\",\"[Latest] Global Photo Printing and Merchandise Market Size/Share Worth USD 28.2 Billion by 2032 at a 3.2% CAGR: Custom Market Insights (Analysis, Outlook, Leaders, Report, Trends, Forecast, Segmentation, Growth, Growth Rate, Value)\",\"India\\u2019s business knowledge gained from IT, ITES clients will be its strength in the AI world\",\"Mining Explosives and Systems Market to Reach USD 328.1 billion by 2031, Expanding at a CAGR of 3.3%: Report by Transparency Market Research, Inc.\",\"Leak Detection Market to Reach $8.2 Billion, Globally, by 2032 at 5.6% CAGR: Allied Market Research\",\"Medical Waste Management Market Worth $12.2 billion | MarketsandMarkets\\u2122\",\"Cold Chain Logistics Market Size to Grow USD 877710 Million by 2030 at a CAGR of 14.8% | Valuates Reports\",\"Global Carbon Steel Market to Reach $1,284.51 Billion by 2030 Owing To the Rapid Infrastructure Development Activities in Demand for Shipbuilding Industry | Says Coherent Market Insights\",\"Global tech firms likely to lead India\\u2019s local AI compute charge\",\"PM Modi to inaugurate BGPL, to boost energy sector in Northeast\",\"AI (Artificial Intelligence) in Mental Health Market Size/Share Envisaged to Reach USD 10,334.09 Million By 2032, at 30.8% CAGR: Polaris Market Research\",\"GPU access to power up India\\u2019s AI play: experts\",\"Even if the industry achieves half the govt. target for electric vehicle penetration by 2030, overall EV annual sales would touch 12-15 lakh units: BYD India\",\"After Contactless, The Next Big Thing In Retail Payments Is A2A\",\"New-age consumer brands pulling in funds, tech no bar; and other top stories this week\",\"Hayward: China Joe Biden Avoids Any Offense to Beijing in State of the Union\",\"India to build a 10,000-GPU supercomputer for autarchic AI development\",\"'Iss chunaav mein bhi safai hone wali hai,' says Prime Minister Modi in dig at Opposition\",\"Asia-Pacific Small Caliber Ammunition Market Analysis and Forecast Report 2023-2024 and 2033 Featuring Australian Munitions, Hughes Precision Manufacturing, and POONGSAN - ResearchAndMarkets.com\",\"Pension Funds Market to Reach $109.1 trillion, Globally, by 2032 at 5.5% CAGR: Allied Market Research\",\"Genpact Limited (NYSE:G) Shares Purchased by Truist Financial Corp\",\"Bank of Nova Scotia Sells 3,104 Shares of Genpact Limited (NYSE:G)\",\"Tower Research Capital LLC TRC Buys 7,189 Shares of Genpact Limited (NYSE:G)\",\"Alliance Trust : Full Results Announcement 2023\",\"Alliance Trust PLC - Final Results\",\"Global Corporate Governance Trends for 2024\",\"Vietnam 2024 rice exports seen falling, India prices strike record high\",\"Vivendi: Strong Growth in Results in 2023\",\"Capita Plc - Full Year Results 2023\",\"Textile Recycling Market projected to reach USD 11.3 Billion by 2030, growing at a CAGR of 6.5% during the forecast period of 2023-2030 - pronounced by MarketDigits in its recent study\",\"Down on the farm, the beef industry inches toward sustainability\",\"EFFECTIVE MEASURES TO TACKLE AIR POLLUTION\",\"Global Confectionery Market Size is Estimated to Reach USD 421.05 billion by 2031, Growing at a CAGR of 3.9%: Straits Research\",\"Low-carbon governance, fiscal decentralization, and enterprise green development: Evidence from China\",\"What the SEC climate disclosure rule may mean for investors\",\"The History of Public Health Colonialism \\u22c6 Brownstone Institute\",\"AstraZeneca bets on licencing deals, public-private partnerships for India growth\",\"Novo Nordisk mejorar\\u00e1 su terapia contra la obesidad dentro de seis a\\u00f1os\",\"Stick Packaging Market Size Anticipated to Hit USD 547.63 Mn by 2032\",\"Global Paracetamol IV Market to reach USD 1,575.45 million by 2030 - By Indication (Pain, Pyrexia/Fever), Application (Non-surgical, Surgical), End-use - Forecast 2024-2030\",\"Lupin : March 8, 2024 Lupin Appoints Rakesh Bhardwaj as Chief Information Officer\",\"Top Content Providers With AI Tools Expertise In 2024\",\"India-EFTA set to sign trade deal on March 10\",\"Analiz\\u0103: Pre\\u021burile mondiale la alimente au sc\\u0103zut \\u0219i \\u00een luna februarie, gra\\u021bie degringoladei cota\\u021biilor la cereale\",\"Govt directs 4 sectors to provide detailed info on warranty, service centres\",\"Torrent Gas announces reduction in CNG prices by Rs 2.50 per kg across all locations\",\"Global Urethane Coatings Market Size is Poised to Reach USD 33.74 Billion by 2032 | Asia Pacific is the Epicenter of the Urethane Coatings Boom Says Astute Analytica\",\"Book review of \\u201cChip War\\u201d and the Fragility of microchips\",\"Research on energy-saving control of agricultural hybrid tractors integrating working condition prediction\",\"Global Smart Fleet Management Market Size is Estimated to Reach USD 201,353 million by 2030, Growing at a CAGR of 16.3%: Straits Research\",\"Fifth-Wheel Coupling Market Forecasted to Reach USD 870.1 million by 2031, with a 4.3% CAGR: Transparency Market Research, Inc.\",\"Chief Minister Eknath Shinde reinforces Maharashtra's trillion-dollar economic trajectory at the 2024\",\"Australia and Vietnam upgrade relations, to begin talks on critical minerals\",\"Semiconductor Woes Could Dampen Auto Industry's Road to Recovery\"],\"textposition\":\"bottom center\",\"x\":[0.5493091020521651,0.7363265917503617,0.758821753506579,0.8245653180102448,0.8743180532337418,0.8590118388568114,0.8887713105133785,0.9068655873965794,0.8522008333158481,0.23843116340548254,-0.3394786113635401,0.20900944871336788,0.20030629707890368,0.18978696396496716,0.1776679960933551,0.16413528060960547,0.14935069395728523,0.1334570040990159,0.11658112058764386,0.0988371498798137,-0.16798855132574708,-0.17422884649421513,-0.3376198794495072,-0.32871301420366583,-0.17421746311338754,-0.19021107595792602,-0.20609924705876276,-0.22202112931999418,-0.32730104920677905,-0.25344942320955416,-0.29466866276386827,-0.2914368948561495,-0.3050202324513296,-0.32417107075660373,-0.331411387549088,-0.3442153269728533,-0.34940395042500294,-0.35729254915860864,-0.36471897116628976,-0.3716572958796341,-0.37808200235061556,-0.3839682498964865,-0.38929778143447297,-0.35004523546130645,-0.35057003728818487,-0.3536118207873294,-0.35608661124474306,-0.35798862248539776,-0.3593116771455204,-0.3600502827866533,-0.36019814465715977,-0.37617897153189955,-0.376377769489275,-0.3759542763165892,-0.3749043925392117,-0.37322592742160976,-0.3709182550727891,-0.36798189366404244,-0.3644186706943934,-0.26559514857166006,-0.2559844807392503,-0.24592119308738328,-0.23542317163300988,-0.22451415572519273,-0.2132240165864552,-0.20158838377472674,-0.08217702979112823,-0.06732084189538386,-0.052260399994478596,-0.037036788996823465,-0.02169615634085878,-0.006290449461094518,0.009122063632979816,0.024475681302096822,0.03969736691502358,0.15538977982733226,0.17211355063729292,0.1884754023280454,0.20439479658223486,0.2197836837135445,0.23454618072631434,0.24857792258353095,0.2617646977094083,0.27398161253487924,0.3317023501290409,0.3495678284406914,0.3664865378186128,0.3823630478955233,0.39708897478559374,0.41054074383263733,0.42257650076519354,0.43303111869421024,0.4417105351411917,0.448383588527105],\"y\":[-0.6867989520470925,-0.26576015892905064,-0.22898769797014645,-0.09002616870551412,-0.08266476778066068,-0.12982895921020715,0.14393860336784559,0.3739113671681816,0.6653777976219315,1.0,0.1698273881982737,0.5006724347750234,0.4980573183121243,0.49481679775147763,0.49096669147104816,0.48651343245491296,0.48145719198259185,0.4757940554476003,0.4695174103665304,0.46261913397739596,0.580998894223528,0.5685927776097166,0.33877322496592666,0.3559177427369799,0.5688029889800696,0.5509657171744741,0.5325331116649189,0.5133049094420784,0.36026485164522315,0.4728947044566914,0.4228488928074905,0.4208678534140977,0.3982995749241027,0.36406436681634197,0.35105014190552947,0.32624010805302683,0.2931755229334032,0.2679702167075925,0.24232940544662387,0.21628505873563011,0.18987179546994126,0.163123596155302,0.13606688524977956,0.1036068965694636,0.07105562310216913,0.044503698681175735,0.017814516919548766,-0.008997613102616193,-0.03590967497599907,-0.06290226300250229,-0.08996952900478274,-0.10468300825158368,-0.1325498448480414,-0.16044289405761547,-0.18835705662633795,-0.21627254237605986,-0.24416509419377636,-0.27201120319993843,-0.2997850313809604,-0.29382210850451734,-0.31852773432314274,-0.34285272951219364,-0.36678498748736826,-0.39030196426193214,-0.41337267014613205,-0.43596059647755314,-0.3652607122276079,-0.3848186061155443,-0.4038579028518609,-0.4223549556916361,-0.4402845272097486,-0.4576194784981829,-0.47433076570519805,-0.49038684659742426,-0.5057544084160497,-0.3543797608280276,-0.36561277294863853,-0.37623067749281847,-0.3862192684159173,-0.39556369227401955,-0.4042483523631283,-0.41225651360812365,-0.4195694053693854,-0.42616551921504076,-0.23098294129237987,-0.2295864019495694,-0.22802792883177084,-0.22635688151794695,-0.2246269281782508,-0.22289626243000105,-0.2212277600265522,-0.21968916158586838,-0.21835297882712604,-0.2172960388422182],\"type\":\"scatter\"},{\"hoverinfo\":\"none\",\"line\":{\"color\":\"black\",\"width\":2},\"mode\":\"lines\",\"x\":[0.5493091020521651,-0.3394786113635401],\"y\":[-0.6867989520470925,0.1698273881982737],\"type\":\"scatter\"},{\"hoverinfo\":\"none\",\"line\":{\"color\":\"black\",\"width\":2},\"mode\":\"lines\",\"x\":[0.5493091020521651,0.20900944871336788],\"y\":[-0.6867989520470925,0.5006724347750234],\"type\":\"scatter\"},{\"hoverinfo\":\"none\",\"line\":{\"color\":\"black\",\"width\":2},\"mode\":\"lines\",\"x\":[0.5493091020521651,0.20030629707890368],\"y\":[-0.6867989520470925,0.4980573183121243],\"type\":\"scatter\"},{\"hoverinfo\":\"none\",\"line\":{\"color\":\"black\",\"width\":2},\"mode\":\"lines\",\"x\":[0.5493091020521651,0.18978696396496716],\"y\":[-0.6867989520470925,0.49481679775147763],\"type\":\"scatter\"},{\"hoverinfo\":\"none\",\"line\":{\"color\":\"black\",\"width\":2},\"mode\":\"lines\",\"x\":[0.5493091020521651,0.1776679960933551],\"y\":[-0.6867989520470925,0.49096669147104816],\"type\":\"scatter\"},{\"hoverinfo\":\"none\",\"line\":{\"color\":\"black\",\"width\":2},\"mode\":\"lines\",\"x\":[0.5493091020521651,0.16413528060960547],\"y\":[-0.6867989520470925,0.48651343245491296],\"type\":\"scatter\"},{\"hoverinfo\":\"none\",\"line\":{\"color\":\"black\",\"width\":2},\"mode\":\"lines\",\"x\":[0.5493091020521651,0.14935069395728523],\"y\":[-0.6867989520470925,0.48145719198259185],\"type\":\"scatter\"},{\"hoverinfo\":\"none\",\"line\":{\"color\":\"black\",\"width\":2},\"mode\":\"lines\",\"x\":[0.5493091020521651,0.1334570040990159],\"y\":[-0.6867989520470925,0.4757940554476003],\"type\":\"scatter\"},{\"hoverinfo\":\"none\",\"line\":{\"color\":\"black\",\"width\":2},\"mode\":\"lines\",\"x\":[0.5493091020521651,0.11658112058764386],\"y\":[-0.6867989520470925,0.4695174103665304],\"type\":\"scatter\"},{\"hoverinfo\":\"none\",\"line\":{\"color\":\"black\",\"width\":2},\"mode\":\"lines\",\"x\":[0.5493091020521651,0.0988371498798137],\"y\":[-0.6867989520470925,0.46261913397739596],\"type\":\"scatter\"},{\"hoverinfo\":\"none\",\"line\":{\"color\":\"black\",\"width\":2},\"mode\":\"lines\",\"x\":[0.7363265917503617,-0.16798855132574708],\"y\":[-0.26576015892905064,0.580998894223528],\"type\":\"scatter\"},{\"hoverinfo\":\"none\",\"line\":{\"color\":\"black\",\"width\":2},\"mode\":\"lines\",\"x\":[0.7363265917503617,-0.17422884649421513],\"y\":[-0.26576015892905064,0.5685927776097166],\"type\":\"scatter\"},{\"hoverinfo\":\"none\",\"line\":{\"color\":\"black\",\"width\":2},\"mode\":\"lines\",\"x\":[0.7363265917503617,-0.3376198794495072],\"y\":[-0.26576015892905064,0.33877322496592666],\"type\":\"scatter\"},{\"hoverinfo\":\"none\",\"line\":{\"color\":\"black\",\"width\":2},\"mode\":\"lines\",\"x\":[0.7363265917503617,-0.32871301420366583],\"y\":[-0.26576015892905064,0.3559177427369799],\"type\":\"scatter\"},{\"hoverinfo\":\"none\",\"line\":{\"color\":\"black\",\"width\":2},\"mode\":\"lines\",\"x\":[0.7363265917503617,-0.17421746311338754],\"y\":[-0.26576015892905064,0.5688029889800696],\"type\":\"scatter\"},{\"hoverinfo\":\"none\",\"line\":{\"color\":\"black\",\"width\":2},\"mode\":\"lines\",\"x\":[0.7363265917503617,-0.19021107595792602],\"y\":[-0.26576015892905064,0.5509657171744741],\"type\":\"scatter\"},{\"hoverinfo\":\"none\",\"line\":{\"color\":\"black\",\"width\":2},\"mode\":\"lines\",\"x\":[0.7363265917503617,-0.20609924705876276],\"y\":[-0.26576015892905064,0.5325331116649189],\"type\":\"scatter\"},{\"hoverinfo\":\"none\",\"line\":{\"color\":\"black\",\"width\":2},\"mode\":\"lines\",\"x\":[0.7363265917503617,-0.22202112931999418],\"y\":[-0.26576015892905064,0.5133049094420784],\"type\":\"scatter\"},{\"hoverinfo\":\"none\",\"line\":{\"color\":\"black\",\"width\":2},\"mode\":\"lines\",\"x\":[0.7363265917503617,-0.32730104920677905],\"y\":[-0.26576015892905064,0.36026485164522315],\"type\":\"scatter\"},{\"hoverinfo\":\"none\",\"line\":{\"color\":\"black\",\"width\":2},\"mode\":\"lines\",\"x\":[0.7363265917503617,-0.25344942320955416],\"y\":[-0.26576015892905064,0.4728947044566914],\"type\":\"scatter\"},{\"hoverinfo\":\"none\",\"line\":{\"color\":\"black\",\"width\":2},\"mode\":\"lines\",\"x\":[0.758821753506579,-0.29466866276386827],\"y\":[-0.22898769797014645,0.4228488928074905],\"type\":\"scatter\"},{\"hoverinfo\":\"none\",\"line\":{\"color\":\"black\",\"width\":2},\"mode\":\"lines\",\"x\":[0.758821753506579,-0.16798855132574708],\"y\":[-0.22898769797014645,0.580998894223528],\"type\":\"scatter\"},{\"hoverinfo\":\"none\",\"line\":{\"color\":\"black\",\"width\":2},\"mode\":\"lines\",\"x\":[0.758821753506579,-0.3376198794495072],\"y\":[-0.22898769797014645,0.33877322496592666],\"type\":\"scatter\"},{\"hoverinfo\":\"none\",\"line\":{\"color\":\"black\",\"width\":2},\"mode\":\"lines\",\"x\":[0.758821753506579,-0.2914368948561495],\"y\":[-0.22898769797014645,0.4208678534140977],\"type\":\"scatter\"},{\"hoverinfo\":\"none\",\"line\":{\"color\":\"black\",\"width\":2},\"mode\":\"lines\",\"x\":[0.758821753506579,-0.32871301420366583],\"y\":[-0.22898769797014645,0.3559177427369799],\"type\":\"scatter\"},{\"hoverinfo\":\"none\",\"line\":{\"color\":\"black\",\"width\":2},\"mode\":\"lines\",\"x\":[0.758821753506579,-0.3050202324513296],\"y\":[-0.22898769797014645,0.3982995749241027],\"type\":\"scatter\"},{\"hoverinfo\":\"none\",\"line\":{\"color\":\"black\",\"width\":2},\"mode\":\"lines\",\"x\":[0.758821753506579,-0.32417107075660373],\"y\":[-0.22898769797014645,0.36406436681634197],\"type\":\"scatter\"},{\"hoverinfo\":\"none\",\"line\":{\"color\":\"black\",\"width\":2},\"mode\":\"lines\",\"x\":[0.758821753506579,-0.331411387549088],\"y\":[-0.22898769797014645,0.35105014190552947],\"type\":\"scatter\"},{\"hoverinfo\":\"none\",\"line\":{\"color\":\"black\",\"width\":2},\"mode\":\"lines\",\"x\":[0.758821753506579,-0.3442153269728533],\"y\":[-0.22898769797014645,0.32624010805302683],\"type\":\"scatter\"},{\"hoverinfo\":\"none\",\"line\":{\"color\":\"black\",\"width\":2},\"mode\":\"lines\",\"x\":[0.8245653180102448,-0.29466866276386827],\"y\":[-0.09002616870551412,0.4228488928074905],\"type\":\"scatter\"},{\"hoverinfo\":\"none\",\"line\":{\"color\":\"black\",\"width\":2},\"mode\":\"lines\",\"x\":[0.8245653180102448,-0.3376198794495072],\"y\":[-0.09002616870551412,0.33877322496592666],\"type\":\"scatter\"},{\"hoverinfo\":\"none\",\"line\":{\"color\":\"black\",\"width\":2},\"mode\":\"lines\",\"x\":[0.8245653180102448,-0.32417107075660373],\"y\":[-0.09002616870551412,0.36406436681634197],\"type\":\"scatter\"},{\"hoverinfo\":\"none\",\"line\":{\"color\":\"black\",\"width\":2},\"mode\":\"lines\",\"x\":[0.8245653180102448,-0.34940395042500294],\"y\":[-0.09002616870551412,0.2931755229334032],\"type\":\"scatter\"},{\"hoverinfo\":\"none\",\"line\":{\"color\":\"black\",\"width\":2},\"mode\":\"lines\",\"x\":[0.8245653180102448,-0.35729254915860864],\"y\":[-0.09002616870551412,0.2679702167075925],\"type\":\"scatter\"},{\"hoverinfo\":\"none\",\"line\":{\"color\":\"black\",\"width\":2},\"mode\":\"lines\",\"x\":[0.8245653180102448,-0.36471897116628976],\"y\":[-0.09002616870551412,0.24232940544662387],\"type\":\"scatter\"},{\"hoverinfo\":\"none\",\"line\":{\"color\":\"black\",\"width\":2},\"mode\":\"lines\",\"x\":[0.8245653180102448,-0.3716572958796341],\"y\":[-0.09002616870551412,0.21628505873563011],\"type\":\"scatter\"},{\"hoverinfo\":\"none\",\"line\":{\"color\":\"black\",\"width\":2},\"mode\":\"lines\",\"x\":[0.8245653180102448,-0.37808200235061556],\"y\":[-0.09002616870551412,0.18987179546994126],\"type\":\"scatter\"},{\"hoverinfo\":\"none\",\"line\":{\"color\":\"black\",\"width\":2},\"mode\":\"lines\",\"x\":[0.8245653180102448,-0.3839682498964865],\"y\":[-0.09002616870551412,0.163123596155302],\"type\":\"scatter\"},{\"hoverinfo\":\"none\",\"line\":{\"color\":\"black\",\"width\":2},\"mode\":\"lines\",\"x\":[0.8245653180102448,-0.38929778143447297],\"y\":[-0.09002616870551412,0.13606688524977956],\"type\":\"scatter\"},{\"hoverinfo\":\"none\",\"line\":{\"color\":\"black\",\"width\":2},\"mode\":\"lines\",\"x\":[0.8743180532337418,-0.35004523546130645],\"y\":[-0.08266476778066068,0.1036068965694636],\"type\":\"scatter\"},{\"hoverinfo\":\"none\",\"line\":{\"color\":\"black\",\"width\":2},\"mode\":\"lines\",\"x\":[0.8743180532337418,-0.35057003728818487],\"y\":[-0.08266476778066068,0.07105562310216913],\"type\":\"scatter\"},{\"hoverinfo\":\"none\",\"line\":{\"color\":\"black\",\"width\":2},\"mode\":\"lines\",\"x\":[0.8743180532337418,-0.3536118207873294],\"y\":[-0.08266476778066068,0.044503698681175735],\"type\":\"scatter\"},{\"hoverinfo\":\"none\",\"line\":{\"color\":\"black\",\"width\":2},\"mode\":\"lines\",\"x\":[0.8743180532337418,-0.35608661124474306],\"y\":[-0.08266476778066068,0.017814516919548766],\"type\":\"scatter\"},{\"hoverinfo\":\"none\",\"line\":{\"color\":\"black\",\"width\":2},\"mode\":\"lines\",\"x\":[0.8743180532337418,-0.35798862248539776],\"y\":[-0.08266476778066068,-0.008997613102616193],\"type\":\"scatter\"},{\"hoverinfo\":\"none\",\"line\":{\"color\":\"black\",\"width\":2},\"mode\":\"lines\",\"x\":[0.8743180532337418,-0.3593116771455204],\"y\":[-0.08266476778066068,-0.03590967497599907],\"type\":\"scatter\"},{\"hoverinfo\":\"none\",\"line\":{\"color\":\"black\",\"width\":2},\"mode\":\"lines\",\"x\":[0.8743180532337418,-0.16798855132574708],\"y\":[-0.08266476778066068,0.580998894223528],\"type\":\"scatter\"},{\"hoverinfo\":\"none\",\"line\":{\"color\":\"black\",\"width\":2},\"mode\":\"lines\",\"x\":[0.8743180532337418,-0.17422884649421513],\"y\":[-0.08266476778066068,0.5685927776097166],\"type\":\"scatter\"},{\"hoverinfo\":\"none\",\"line\":{\"color\":\"black\",\"width\":2},\"mode\":\"lines\",\"x\":[0.8743180532337418,-0.3600502827866533],\"y\":[-0.08266476778066068,-0.06290226300250229],\"type\":\"scatter\"},{\"hoverinfo\":\"none\",\"line\":{\"color\":\"black\",\"width\":2},\"mode\":\"lines\",\"x\":[0.8743180532337418,-0.36019814465715977],\"y\":[-0.08266476778066068,-0.08996952900478274],\"type\":\"scatter\"},{\"hoverinfo\":\"none\",\"line\":{\"color\":\"black\",\"width\":2},\"mode\":\"lines\",\"x\":[0.8590118388568114,-0.37617897153189955],\"y\":[-0.12982895921020715,-0.10468300825158368],\"type\":\"scatter\"},{\"hoverinfo\":\"none\",\"line\":{\"color\":\"black\",\"width\":2},\"mode\":\"lines\",\"x\":[0.8590118388568114,-0.376377769489275],\"y\":[-0.12982895921020715,-0.1325498448480414],\"type\":\"scatter\"},{\"hoverinfo\":\"none\",\"line\":{\"color\":\"black\",\"width\":2},\"mode\":\"lines\",\"x\":[0.8590118388568114,-0.3759542763165892],\"y\":[-0.12982895921020715,-0.16044289405761547],\"type\":\"scatter\"},{\"hoverinfo\":\"none\",\"line\":{\"color\":\"black\",\"width\":2},\"mode\":\"lines\",\"x\":[0.8590118388568114,-0.35004523546130645],\"y\":[-0.12982895921020715,0.1036068965694636],\"type\":\"scatter\"},{\"hoverinfo\":\"none\",\"line\":{\"color\":\"black\",\"width\":2},\"mode\":\"lines\",\"x\":[0.8590118388568114,-0.3749043925392117],\"y\":[-0.12982895921020715,-0.18835705662633795],\"type\":\"scatter\"},{\"hoverinfo\":\"none\",\"line\":{\"color\":\"black\",\"width\":2},\"mode\":\"lines\",\"x\":[0.8590118388568114,-0.3394786113635401],\"y\":[-0.12982895921020715,0.1698273881982737],\"type\":\"scatter\"},{\"hoverinfo\":\"none\",\"line\":{\"color\":\"black\",\"width\":2},\"mode\":\"lines\",\"x\":[0.8590118388568114,-0.37322592742160976],\"y\":[-0.12982895921020715,-0.21627254237605986],\"type\":\"scatter\"},{\"hoverinfo\":\"none\",\"line\":{\"color\":\"black\",\"width\":2},\"mode\":\"lines\",\"x\":[0.8590118388568114,-0.3709182550727891],\"y\":[-0.12982895921020715,-0.24416509419377636],\"type\":\"scatter\"},{\"hoverinfo\":\"none\",\"line\":{\"color\":\"black\",\"width\":2},\"mode\":\"lines\",\"x\":[0.8590118388568114,-0.36798189366404244],\"y\":[-0.12982895921020715,-0.27201120319993843],\"type\":\"scatter\"},{\"hoverinfo\":\"none\",\"line\":{\"color\":\"black\",\"width\":2},\"mode\":\"lines\",\"x\":[0.8590118388568114,-0.3644186706943934],\"y\":[-0.12982895921020715,-0.2997850313809604],\"type\":\"scatter\"},{\"hoverinfo\":\"none\",\"line\":{\"color\":\"black\",\"width\":2},\"mode\":\"lines\",\"x\":[0.8887713105133785,-0.32871301420366583],\"y\":[0.14393860336784559,0.3559177427369799],\"type\":\"scatter\"},{\"hoverinfo\":\"none\",\"line\":{\"color\":\"black\",\"width\":2},\"mode\":\"lines\",\"x\":[0.8887713105133785,-0.26559514857166006],\"y\":[0.14393860336784559,-0.29382210850451734],\"type\":\"scatter\"},{\"hoverinfo\":\"none\",\"line\":{\"color\":\"black\",\"width\":2},\"mode\":\"lines\",\"x\":[0.8887713105133785,-0.2559844807392503],\"y\":[0.14393860336784559,-0.31852773432314274],\"type\":\"scatter\"},{\"hoverinfo\":\"none\",\"line\":{\"color\":\"black\",\"width\":2},\"mode\":\"lines\",\"x\":[0.8887713105133785,-0.24592119308738328],\"y\":[0.14393860336784559,-0.34285272951219364],\"type\":\"scatter\"},{\"hoverinfo\":\"none\",\"line\":{\"color\":\"black\",\"width\":2},\"mode\":\"lines\",\"x\":[0.8887713105133785,-0.23542317163300988],\"y\":[0.14393860336784559,-0.36678498748736826],\"type\":\"scatter\"},{\"hoverinfo\":\"none\",\"line\":{\"color\":\"black\",\"width\":2},\"mode\":\"lines\",\"x\":[0.8887713105133785,-0.22451415572519273],\"y\":[0.14393860336784559,-0.39030196426193214],\"type\":\"scatter\"},{\"hoverinfo\":\"none\",\"line\":{\"color\":\"black\",\"width\":2},\"mode\":\"lines\",\"x\":[0.8887713105133785,-0.2132240165864552],\"y\":[0.14393860336784559,-0.41337267014613205],\"type\":\"scatter\"},{\"hoverinfo\":\"none\",\"line\":{\"color\":\"black\",\"width\":2},\"mode\":\"lines\",\"x\":[0.8887713105133785,-0.32730104920677905],\"y\":[0.14393860336784559,0.36026485164522315],\"type\":\"scatter\"},{\"hoverinfo\":\"none\",\"line\":{\"color\":\"black\",\"width\":2},\"mode\":\"lines\",\"x\":[0.8887713105133785,-0.20158838377472674],\"y\":[0.14393860336784559,-0.43596059647755314],\"type\":\"scatter\"},{\"hoverinfo\":\"none\",\"line\":{\"color\":\"black\",\"width\":2},\"mode\":\"lines\",\"x\":[0.9068655873965794,-0.08217702979112823],\"y\":[0.3739113671681816,-0.3652607122276079],\"type\":\"scatter\"},{\"hoverinfo\":\"none\",\"line\":{\"color\":\"black\",\"width\":2},\"mode\":\"lines\",\"x\":[0.9068655873965794,-0.06732084189538386],\"y\":[0.3739113671681816,-0.3848186061155443],\"type\":\"scatter\"},{\"hoverinfo\":\"none\",\"line\":{\"color\":\"black\",\"width\":2},\"mode\":\"lines\",\"x\":[0.9068655873965794,-0.32871301420366583],\"y\":[0.3739113671681816,0.3559177427369799],\"type\":\"scatter\"},{\"hoverinfo\":\"none\",\"line\":{\"color\":\"black\",\"width\":2},\"mode\":\"lines\",\"x\":[0.9068655873965794,-0.052260399994478596],\"y\":[0.3739113671681816,-0.4038579028518609],\"type\":\"scatter\"},{\"hoverinfo\":\"none\",\"line\":{\"color\":\"black\",\"width\":2},\"mode\":\"lines\",\"x\":[0.9068655873965794,-0.037036788996823465],\"y\":[0.3739113671681816,-0.4223549556916361],\"type\":\"scatter\"},{\"hoverinfo\":\"none\",\"line\":{\"color\":\"black\",\"width\":2},\"mode\":\"lines\",\"x\":[0.9068655873965794,-0.02169615634085878],\"y\":[0.3739113671681816,-0.4402845272097486],\"type\":\"scatter\"},{\"hoverinfo\":\"none\",\"line\":{\"color\":\"black\",\"width\":2},\"mode\":\"lines\",\"x\":[0.9068655873965794,-0.006290449461094518],\"y\":[0.3739113671681816,-0.4576194784981829],\"type\":\"scatter\"},{\"hoverinfo\":\"none\",\"line\":{\"color\":\"black\",\"width\":2},\"mode\":\"lines\",\"x\":[0.9068655873965794,0.009122063632979816],\"y\":[0.3739113671681816,-0.47433076570519805],\"type\":\"scatter\"},{\"hoverinfo\":\"none\",\"line\":{\"color\":\"black\",\"width\":2},\"mode\":\"lines\",\"x\":[0.9068655873965794,0.024475681302096822],\"y\":[0.3739113671681816,-0.49038684659742426],\"type\":\"scatter\"},{\"hoverinfo\":\"none\",\"line\":{\"color\":\"black\",\"width\":2},\"mode\":\"lines\",\"x\":[0.9068655873965794,0.03969736691502358],\"y\":[0.3739113671681816,-0.5057544084160497],\"type\":\"scatter\"},{\"hoverinfo\":\"none\",\"line\":{\"color\":\"black\",\"width\":2},\"mode\":\"lines\",\"x\":[0.8522008333158481,0.15538977982733226],\"y\":[0.6653777976219315,-0.3543797608280276],\"type\":\"scatter\"},{\"hoverinfo\":\"none\",\"line\":{\"color\":\"black\",\"width\":2},\"mode\":\"lines\",\"x\":[0.8522008333158481,0.17211355063729292],\"y\":[0.6653777976219315,-0.36561277294863853],\"type\":\"scatter\"},{\"hoverinfo\":\"none\",\"line\":{\"color\":\"black\",\"width\":2},\"mode\":\"lines\",\"x\":[0.8522008333158481,0.1884754023280454],\"y\":[0.6653777976219315,-0.37623067749281847],\"type\":\"scatter\"},{\"hoverinfo\":\"none\",\"line\":{\"color\":\"black\",\"width\":2},\"mode\":\"lines\",\"x\":[0.8522008333158481,0.20439479658223486],\"y\":[0.6653777976219315,-0.3862192684159173],\"type\":\"scatter\"},{\"hoverinfo\":\"none\",\"line\":{\"color\":\"black\",\"width\":2},\"mode\":\"lines\",\"x\":[0.8522008333158481,0.2197836837135445],\"y\":[0.6653777976219315,-0.39556369227401955],\"type\":\"scatter\"},{\"hoverinfo\":\"none\",\"line\":{\"color\":\"black\",\"width\":2},\"mode\":\"lines\",\"x\":[0.8522008333158481,0.23454618072631434],\"y\":[0.6653777976219315,-0.4042483523631283],\"type\":\"scatter\"},{\"hoverinfo\":\"none\",\"line\":{\"color\":\"black\",\"width\":2},\"mode\":\"lines\",\"x\":[0.8522008333158481,0.24857792258353095],\"y\":[0.6653777976219315,-0.41225651360812365],\"type\":\"scatter\"},{\"hoverinfo\":\"none\",\"line\":{\"color\":\"black\",\"width\":2},\"mode\":\"lines\",\"x\":[0.8522008333158481,-0.3376198794495072],\"y\":[0.6653777976219315,0.33877322496592666],\"type\":\"scatter\"},{\"hoverinfo\":\"none\",\"line\":{\"color\":\"black\",\"width\":2},\"mode\":\"lines\",\"x\":[0.8522008333158481,0.2617646977094083],\"y\":[0.6653777976219315,-0.4195694053693854],\"type\":\"scatter\"},{\"hoverinfo\":\"none\",\"line\":{\"color\":\"black\",\"width\":2},\"mode\":\"lines\",\"x\":[0.8522008333158481,0.27398161253487924],\"y\":[0.6653777976219315,-0.42616551921504076],\"type\":\"scatter\"},{\"hoverinfo\":\"none\",\"line\":{\"color\":\"black\",\"width\":2},\"mode\":\"lines\",\"x\":[0.23843116340548254,0.3317023501290409],\"y\":[1.0,-0.23098294129237987],\"type\":\"scatter\"},{\"hoverinfo\":\"none\",\"line\":{\"color\":\"black\",\"width\":2},\"mode\":\"lines\",\"x\":[0.23843116340548254,0.3495678284406914],\"y\":[1.0,-0.2295864019495694],\"type\":\"scatter\"},{\"hoverinfo\":\"none\",\"line\":{\"color\":\"black\",\"width\":2},\"mode\":\"lines\",\"x\":[0.23843116340548254,0.3664865378186128],\"y\":[1.0,-0.22802792883177084],\"type\":\"scatter\"},{\"hoverinfo\":\"none\",\"line\":{\"color\":\"black\",\"width\":2},\"mode\":\"lines\",\"x\":[0.23843116340548254,0.3823630478955233],\"y\":[1.0,-0.22635688151794695],\"type\":\"scatter\"},{\"hoverinfo\":\"none\",\"line\":{\"color\":\"black\",\"width\":2},\"mode\":\"lines\",\"x\":[0.23843116340548254,0.39708897478559374],\"y\":[1.0,-0.2246269281782508],\"type\":\"scatter\"},{\"hoverinfo\":\"none\",\"line\":{\"color\":\"black\",\"width\":2},\"mode\":\"lines\",\"x\":[0.23843116340548254,0.41054074383263733],\"y\":[1.0,-0.22289626243000105],\"type\":\"scatter\"},{\"hoverinfo\":\"none\",\"line\":{\"color\":\"black\",\"width\":2},\"mode\":\"lines\",\"x\":[0.23843116340548254,0.42257650076519354],\"y\":[1.0,-0.2212277600265522],\"type\":\"scatter\"},{\"hoverinfo\":\"none\",\"line\":{\"color\":\"black\",\"width\":2},\"mode\":\"lines\",\"x\":[0.23843116340548254,0.43303111869421024],\"y\":[1.0,-0.21968916158586838],\"type\":\"scatter\"},{\"hoverinfo\":\"none\",\"line\":{\"color\":\"black\",\"width\":2},\"mode\":\"lines\",\"x\":[0.23843116340548254,0.4417105351411917],\"y\":[1.0,-0.21835297882712604],\"type\":\"scatter\"},{\"hoverinfo\":\"none\",\"line\":{\"color\":\"black\",\"width\":2},\"mode\":\"lines\",\"x\":[0.23843116340548254,0.448383588527105],\"y\":[1.0,-0.2172960388422182],\"type\":\"scatter\"}],                        {\"template\":{\"data\":{\"histogram2dcontour\":[{\"type\":\"histogram2dcontour\",\"colorbar\":{\"outlinewidth\":0,\"ticks\":\"\"},\"colorscale\":[[0.0,\"#0d0887\"],[0.1111111111111111,\"#46039f\"],[0.2222222222222222,\"#7201a8\"],[0.3333333333333333,\"#9c179e\"],[0.4444444444444444,\"#bd3786\"],[0.5555555555555556,\"#d8576b\"],[0.6666666666666666,\"#ed7953\"],[0.7777777777777778,\"#fb9f3a\"],[0.8888888888888888,\"#fdca26\"],[1.0,\"#f0f921\"]]}],\"choropleth\":[{\"type\":\"choropleth\",\"colorbar\":{\"outlinewidth\":0,\"ticks\":\"\"}}],\"histogram2d\":[{\"type\":\"histogram2d\",\"colorbar\":{\"outlinewidth\":0,\"ticks\":\"\"},\"colorscale\":[[0.0,\"#0d0887\"],[0.1111111111111111,\"#46039f\"],[0.2222222222222222,\"#7201a8\"],[0.3333333333333333,\"#9c179e\"],[0.4444444444444444,\"#bd3786\"],[0.5555555555555556,\"#d8576b\"],[0.6666666666666666,\"#ed7953\"],[0.7777777777777778,\"#fb9f3a\"],[0.8888888888888888,\"#fdca26\"],[1.0,\"#f0f921\"]]}],\"heatmap\":[{\"type\":\"heatmap\",\"colorbar\":{\"outlinewidth\":0,\"ticks\":\"\"},\"colorscale\":[[0.0,\"#0d0887\"],[0.1111111111111111,\"#46039f\"],[0.2222222222222222,\"#7201a8\"],[0.3333333333333333,\"#9c179e\"],[0.4444444444444444,\"#bd3786\"],[0.5555555555555556,\"#d8576b\"],[0.6666666666666666,\"#ed7953\"],[0.7777777777777778,\"#fb9f3a\"],[0.8888888888888888,\"#fdca26\"],[1.0,\"#f0f921\"]]}],\"heatmapgl\":[{\"type\":\"heatmapgl\",\"colorbar\":{\"outlinewidth\":0,\"ticks\":\"\"},\"colorscale\":[[0.0,\"#0d0887\"],[0.1111111111111111,\"#46039f\"],[0.2222222222222222,\"#7201a8\"],[0.3333333333333333,\"#9c179e\"],[0.4444444444444444,\"#bd3786\"],[0.5555555555555556,\"#d8576b\"],[0.6666666666666666,\"#ed7953\"],[0.7777777777777778,\"#fb9f3a\"],[0.8888888888888888,\"#fdca26\"],[1.0,\"#f0f921\"]]}],\"contourcarpet\":[{\"type\":\"contourcarpet\",\"colorbar\":{\"outlinewidth\":0,\"ticks\":\"\"}}],\"contour\":[{\"type\":\"contour\",\"colorbar\":{\"outlinewidth\":0,\"ticks\":\"\"},\"colorscale\":[[0.0,\"#0d0887\"],[0.1111111111111111,\"#46039f\"],[0.2222222222222222,\"#7201a8\"],[0.3333333333333333,\"#9c179e\"],[0.4444444444444444,\"#bd3786\"],[0.5555555555555556,\"#d8576b\"],[0.6666666666666666,\"#ed7953\"],[0.7777777777777778,\"#fb9f3a\"],[0.8888888888888888,\"#fdca26\"],[1.0,\"#f0f921\"]]}],\"surface\":[{\"type\":\"surface\",\"colorbar\":{\"outlinewidth\":0,\"ticks\":\"\"},\"colorscale\":[[0.0,\"#0d0887\"],[0.1111111111111111,\"#46039f\"],[0.2222222222222222,\"#7201a8\"],[0.3333333333333333,\"#9c179e\"],[0.4444444444444444,\"#bd3786\"],[0.5555555555555556,\"#d8576b\"],[0.6666666666666666,\"#ed7953\"],[0.7777777777777778,\"#fb9f3a\"],[0.8888888888888888,\"#fdca26\"],[1.0,\"#f0f921\"]]}],\"mesh3d\":[{\"type\":\"mesh3d\",\"colorbar\":{\"outlinewidth\":0,\"ticks\":\"\"}}],\"scatter\":[{\"fillpattern\":{\"fillmode\":\"overlay\",\"size\":10,\"solidity\":0.2},\"type\":\"scatter\"}],\"parcoords\":[{\"type\":\"parcoords\",\"line\":{\"colorbar\":{\"outlinewidth\":0,\"ticks\":\"\"}}}],\"scatterpolargl\":[{\"type\":\"scatterpolargl\",\"marker\":{\"colorbar\":{\"outlinewidth\":0,\"ticks\":\"\"}}}],\"bar\":[{\"error_x\":{\"color\":\"#2a3f5f\"},\"error_y\":{\"color\":\"#2a3f5f\"},\"marker\":{\"line\":{\"color\":\"#E5ECF6\",\"width\":0.5},\"pattern\":{\"fillmode\":\"overlay\",\"size\":10,\"solidity\":0.2}},\"type\":\"bar\"}],\"scattergeo\":[{\"type\":\"scattergeo\",\"marker\":{\"colorbar\":{\"outlinewidth\":0,\"ticks\":\"\"}}}],\"scatterpolar\":[{\"type\":\"scatterpolar\",\"marker\":{\"colorbar\":{\"outlinewidth\":0,\"ticks\":\"\"}}}],\"histogram\":[{\"marker\":{\"pattern\":{\"fillmode\":\"overlay\",\"size\":10,\"solidity\":0.2}},\"type\":\"histogram\"}],\"scattergl\":[{\"type\":\"scattergl\",\"marker\":{\"colorbar\":{\"outlinewidth\":0,\"ticks\":\"\"}}}],\"scatter3d\":[{\"type\":\"scatter3d\",\"line\":{\"colorbar\":{\"outlinewidth\":0,\"ticks\":\"\"}},\"marker\":{\"colorbar\":{\"outlinewidth\":0,\"ticks\":\"\"}}}],\"scattermapbox\":[{\"type\":\"scattermapbox\",\"marker\":{\"colorbar\":{\"outlinewidth\":0,\"ticks\":\"\"}}}],\"scatterternary\":[{\"type\":\"scatterternary\",\"marker\":{\"colorbar\":{\"outlinewidth\":0,\"ticks\":\"\"}}}],\"scattercarpet\":[{\"type\":\"scattercarpet\",\"marker\":{\"colorbar\":{\"outlinewidth\":0,\"ticks\":\"\"}}}],\"carpet\":[{\"aaxis\":{\"endlinecolor\":\"#2a3f5f\",\"gridcolor\":\"white\",\"linecolor\":\"white\",\"minorgridcolor\":\"white\",\"startlinecolor\":\"#2a3f5f\"},\"baxis\":{\"endlinecolor\":\"#2a3f5f\",\"gridcolor\":\"white\",\"linecolor\":\"white\",\"minorgridcolor\":\"white\",\"startlinecolor\":\"#2a3f5f\"},\"type\":\"carpet\"}],\"table\":[{\"cells\":{\"fill\":{\"color\":\"#EBF0F8\"},\"line\":{\"color\":\"white\"}},\"header\":{\"fill\":{\"color\":\"#C8D4E3\"},\"line\":{\"color\":\"white\"}},\"type\":\"table\"}],\"barpolar\":[{\"marker\":{\"line\":{\"color\":\"#E5ECF6\",\"width\":0.5},\"pattern\":{\"fillmode\":\"overlay\",\"size\":10,\"solidity\":0.2}},\"type\":\"barpolar\"}],\"pie\":[{\"automargin\":true,\"type\":\"pie\"}]},\"layout\":{\"autotypenumbers\":\"strict\",\"colorway\":[\"#636efa\",\"#EF553B\",\"#00cc96\",\"#ab63fa\",\"#FFA15A\",\"#19d3f3\",\"#FF6692\",\"#B6E880\",\"#FF97FF\",\"#FECB52\"],\"font\":{\"color\":\"#2a3f5f\"},\"hovermode\":\"closest\",\"hoverlabel\":{\"align\":\"left\"},\"paper_bgcolor\":\"white\",\"plot_bgcolor\":\"#E5ECF6\",\"polar\":{\"bgcolor\":\"#E5ECF6\",\"angularaxis\":{\"gridcolor\":\"white\",\"linecolor\":\"white\",\"ticks\":\"\"},\"radialaxis\":{\"gridcolor\":\"white\",\"linecolor\":\"white\",\"ticks\":\"\"}},\"ternary\":{\"bgcolor\":\"#E5ECF6\",\"aaxis\":{\"gridcolor\":\"white\",\"linecolor\":\"white\",\"ticks\":\"\"},\"baxis\":{\"gridcolor\":\"white\",\"linecolor\":\"white\",\"ticks\":\"\"},\"caxis\":{\"gridcolor\":\"white\",\"linecolor\":\"white\",\"ticks\":\"\"}},\"coloraxis\":{\"colorbar\":{\"outlinewidth\":0,\"ticks\":\"\"}},\"colorscale\":{\"sequential\":[[0.0,\"#0d0887\"],[0.1111111111111111,\"#46039f\"],[0.2222222222222222,\"#7201a8\"],[0.3333333333333333,\"#9c179e\"],[0.4444444444444444,\"#bd3786\"],[0.5555555555555556,\"#d8576b\"],[0.6666666666666666,\"#ed7953\"],[0.7777777777777778,\"#fb9f3a\"],[0.8888888888888888,\"#fdca26\"],[1.0,\"#f0f921\"]],\"sequentialminus\":[[0.0,\"#0d0887\"],[0.1111111111111111,\"#46039f\"],[0.2222222222222222,\"#7201a8\"],[0.3333333333333333,\"#9c179e\"],[0.4444444444444444,\"#bd3786\"],[0.5555555555555556,\"#d8576b\"],[0.6666666666666666,\"#ed7953\"],[0.7777777777777778,\"#fb9f3a\"],[0.8888888888888888,\"#fdca26\"],[1.0,\"#f0f921\"]],\"diverging\":[[0,\"#8e0152\"],[0.1,\"#c51b7d\"],[0.2,\"#de77ae\"],[0.3,\"#f1b6da\"],[0.4,\"#fde0ef\"],[0.5,\"#f7f7f7\"],[0.6,\"#e6f5d0\"],[0.7,\"#b8e186\"],[0.8,\"#7fbc41\"],[0.9,\"#4d9221\"],[1,\"#276419\"]]},\"xaxis\":{\"gridcolor\":\"white\",\"linecolor\":\"white\",\"ticks\":\"\",\"title\":{\"standoff\":15},\"zerolinecolor\":\"white\",\"automargin\":true,\"zerolinewidth\":2},\"yaxis\":{\"gridcolor\":\"white\",\"linecolor\":\"white\",\"ticks\":\"\",\"title\":{\"standoff\":15},\"zerolinecolor\":\"white\",\"automargin\":true,\"zerolinewidth\":2},\"scene\":{\"xaxis\":{\"backgroundcolor\":\"#E5ECF6\",\"gridcolor\":\"white\",\"linecolor\":\"white\",\"showbackground\":true,\"ticks\":\"\",\"zerolinecolor\":\"white\",\"gridwidth\":2},\"yaxis\":{\"backgroundcolor\":\"#E5ECF6\",\"gridcolor\":\"white\",\"linecolor\":\"white\",\"showbackground\":true,\"ticks\":\"\",\"zerolinecolor\":\"white\",\"gridwidth\":2},\"zaxis\":{\"backgroundcolor\":\"#E5ECF6\",\"gridcolor\":\"white\",\"linecolor\":\"white\",\"showbackground\":true,\"ticks\":\"\",\"zerolinecolor\":\"white\",\"gridwidth\":2}},\"shapedefaults\":{\"line\":{\"color\":\"#2a3f5f\"}},\"annotationdefaults\":{\"arrowcolor\":\"#2a3f5f\",\"arrowhead\":0,\"arrowwidth\":1},\"geo\":{\"bgcolor\":\"white\",\"landcolor\":\"#E5ECF6\",\"subunitcolor\":\"white\",\"showland\":true,\"showlakes\":true,\"lakecolor\":\"white\"},\"title\":{\"x\":0.05},\"mapbox\":{\"style\":\"light\"}}},\"xaxis\":{\"visible\":false},\"yaxis\":{\"visible\":false},\"showlegend\":false},                        {\"responsive\": true}                    ).then(function(){\n",
       "                            \n",
       "var gd = document.getElementById('0789d7c5-569b-4da3-b14c-c7984ba8e90b');\n",
       "var x = new MutationObserver(function (mutations, observer) {{\n",
       "        var display = window.getComputedStyle(gd).display;\n",
       "        if (!display || display === 'none') {{\n",
       "            console.log([gd, 'removed!']);\n",
       "            Plotly.purge(gd);\n",
       "            observer.disconnect();\n",
       "        }}\n",
       "}});\n",
       "\n",
       "// Listen for the removal of the full notebook cells\n",
       "var notebookContainer = gd.closest('#notebook-container');\n",
       "if (notebookContainer) {{\n",
       "    x.observe(notebookContainer, {childList: true});\n",
       "}}\n",
       "\n",
       "// Listen for the clearing of the current output cell\n",
       "var outputEl = gd.closest('.output');\n",
       "if (outputEl) {{\n",
       "    x.observe(outputEl, {childList: true});\n",
       "}}\n",
       "\n",
       "                        })                };                });            </script>        </div>"
      ]
     },
     "metadata": {},
     "output_type": "display_data"
    }
   ],
   "source": [
    "import networkx as nx\n",
    "import plotly.graph_objects as go\n",
    "import numpy as np\n",
    "\n",
    "# Sample Data (Replace with your actual data)\n",
    "data = {\n",
    "    'IPO': ipo,\n",
    "    'Energy Policies and Renewable Energy': ep,\n",
    "    'Government Regulations and Policies': gr,\n",
    "    'Healthcare Policies and Regulations': hp,\n",
    "    'Infrastructure Development and Investments': idi,\n",
    "    'Market Technology': mt,\n",
    "    'Environmental, Social, and Governance (ESG) Investing': esg,\n",
    "    'Climate Change and Market Impacts': cc,\n",
    "    'Pharma': p,\n",
    "    'Automobiles': au\n",
    "    \n",
    "}\n",
    "\n",
    "# Create NetworkX graph \n",
    "G = nx.DiGraph()\n",
    "\n",
    "# Add head nodes from data\n",
    "for head_node in data:\n",
    "    G.add_node(head_node)\n",
    "\n",
    "# Add titles and edges\n",
    "for head_node, titles in data.items():\n",
    "    for title in titles:\n",
    "        G.add_node(title)\n",
    "        G.add_edge(head_node, title, weight=3)\n",
    "\n",
    "# Layout \n",
    "pos = nx.kamada_kawai_layout(G,weight='weight') \n",
    "\n",
    "# Convert positions for Plotly\n",
    "plotly_pos = {node: np.array(pos[node]) for node in G.nodes()}\n",
    "\n",
    "# Create Plotly figure\n",
    "fig = go.Figure()\n",
    "\n",
    "# Add nodes\n",
    "fig.add_trace(go.Scatter(x=[pos[0] for pos in plotly_pos.values()],\n",
    "                         y=[pos[1] for pos in plotly_pos.values()],\n",
    "                         mode='markers',\n",
    "                         text=list(G.nodes()),\n",
    "                         textposition='bottom center',\n",
    "                         marker=dict(size=50,color=['yellow' if node in data else 'blue' \n",
    "                                            for node in G.nodes()])\n",
    "                         ))\n",
    "\n",
    "# Add edges\n",
    "for edge in G.edges:\n",
    "    x0, y0 = plotly_pos[edge[0]]\n",
    "    x1, y1 = plotly_pos[edge[1]]\n",
    "    fig.add_trace(go.Scatter(x=[x0, x1], y=[y0, y1],\n",
    "                             mode='lines',\n",
    "                             line=dict(color='black', width=2),\n",
    "                             hoverinfo='none')) \n",
    "\n",
    "# Customize layout \n",
    "fig.update_layout(showlegend=False,\n",
    "                  xaxis=dict(visible=False), yaxis=dict(visible=False))\n",
    "\n",
    "fig.show()\n",
    "\n"
   ]
  },
  {
   "cell_type": "code",
   "execution_count": 162,
   "id": "24e0be15",
   "metadata": {},
   "outputs": [
    {
     "data": {
      "text/plain": [
       "array(['Market Technology',\n",
       "       'Environmental, Social, and Governance (ESG) Investing',\n",
       "       'Climate Change and Market Impacts', 'Pharma', 'Automobiles'],\n",
       "      dtype=object)"
      ]
     },
     "execution_count": 162,
     "metadata": {},
     "output_type": "execute_result"
    }
   ],
   "source": [
    "d3= pd.read_csv(\"articles2.csv\")\n",
    "d3['Category'].unique()\n",
    "\n",
    "\n"
   ]
  },
  {
   "cell_type": "code",
   "execution_count": 163,
   "id": "5fbc9945",
   "metadata": {},
   "outputs": [],
   "source": [
    "esg_cat_data = d3.groupby('Category').get_group('Environmental, Social, and Governance (ESG) Investing') \n",
    "esg = esg_cat_data['Title']\n",
    "\n",
    "mt_cat_data = d3.groupby('Category').get_group('Market Technology') \n",
    "mt = mt_cat_data['Title']\n",
    "\n",
    "\n",
    "cc_cat_data = d3.groupby('Category').get_group('Climate Change and Market Impacts')\n",
    "cc = cc_cat_data['Title']\n",
    "\n",
    "p_cat_data = d3.groupby('Category').get_group('Pharma')\n",
    "p = p_cat_data['Title']\n",
    "\n",
    "au_cat_data = d3.groupby('Category').get_group('Automobiles')\n",
    "au = au_cat_data['Title']"
   ]
  },
  {
   "cell_type": "code",
   "execution_count": 183,
   "id": "c8198056",
   "metadata": {},
   "outputs": [
    {
     "data": {
      "text/plain": [
       "0    23 Mind-boggling Oligarchs Statistics to Know ...\n",
       "1    क्या फिर टाटा ग्रुप मचाएगा IPO मार्केट में धमा...\n",
       "2    Baron Capital ups Swiggy’s valuation; new anti...\n",
       "3    ETMarkets SME Talk: Kulbhushan Parashar shares...\n",
       "4    Tata Sons trying to avoid IPO. Is it Ok Tata B...\n",
       "5    JM Financial says will fully cooperate with Se...\n",
       "6    Pratham EPC Projects IPO: 11 मार्च से लगा सकें...\n",
       "7    Peak XV, Tiger Global’s Meesho plans; consumer...\n",
       "8    Tata Sons looking at debt rejig to avoid IPO n...\n",
       "9    Inside Air NZ’s stripped-back alternative to A...\n",
       "Name: Title, dtype: object"
      ]
     },
     "execution_count": 183,
     "metadata": {},
     "output_type": "execute_result"
    }
   ],
   "source": [
    "ipo"
   ]
  },
  {
   "cell_type": "code",
   "execution_count": null,
   "id": "17ece60d",
   "metadata": {},
   "outputs": [],
   "source": []
  }
 ],
 "metadata": {
  "kernelspec": {
   "display_name": "Python 3 (ipykernel)",
   "language": "python",
   "name": "python3"
  },
  "language_info": {
   "codemirror_mode": {
    "name": "ipython",
    "version": 3
   },
   "file_extension": ".py",
   "mimetype": "text/x-python",
   "name": "python",
   "nbconvert_exporter": "python",
   "pygments_lexer": "ipython3",
   "version": "3.11.4"
  }
 },
 "nbformat": 4,
 "nbformat_minor": 5
}
